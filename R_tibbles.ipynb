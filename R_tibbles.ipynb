{
 "cells": [
  {
   "cell_type": "markdown",
   "metadata": {},
   "source": [
    "### Tibbles\n",
    "book:  \n",
    "https://r4ds.had.co.nz/tibbles.html\n"
   ]
  },
  {
   "cell_type": "code",
   "execution_count": 1,
   "metadata": {},
   "outputs": [],
   "source": [
    "suppressPackageStartupMessages(library(tidyverse))\n",
    "suppressPackageStartupMessages(library(nycflights13))"
   ]
  },
  {
   "cell_type": "code",
   "execution_count": 3,
   "metadata": {},
   "outputs": [
    {
     "data": {
      "text/html": [
       "<table>\n",
       "<caption>A tibble: 6 × 5</caption>\n",
       "<thead>\n",
       "\t<tr><th scope=col>Sepal.Length</th><th scope=col>Sepal.Width</th><th scope=col>Petal.Length</th><th scope=col>Petal.Width</th><th scope=col>Species</th></tr>\n",
       "\t<tr><th scope=col>&lt;dbl&gt;</th><th scope=col>&lt;dbl&gt;</th><th scope=col>&lt;dbl&gt;</th><th scope=col>&lt;dbl&gt;</th><th scope=col>&lt;fct&gt;</th></tr>\n",
       "</thead>\n",
       "<tbody>\n",
       "\t<tr><td>5.1</td><td>3.5</td><td>1.4</td><td>0.2</td><td>setosa</td></tr>\n",
       "\t<tr><td>4.9</td><td>3.0</td><td>1.4</td><td>0.2</td><td>setosa</td></tr>\n",
       "\t<tr><td>4.7</td><td>3.2</td><td>1.3</td><td>0.2</td><td>setosa</td></tr>\n",
       "\t<tr><td>4.6</td><td>3.1</td><td>1.5</td><td>0.2</td><td>setosa</td></tr>\n",
       "\t<tr><td>5.0</td><td>3.6</td><td>1.4</td><td>0.2</td><td>setosa</td></tr>\n",
       "\t<tr><td>5.4</td><td>3.9</td><td>1.7</td><td>0.4</td><td>setosa</td></tr>\n",
       "</tbody>\n",
       "</table>\n"
      ],
      "text/latex": [
       "A tibble: 6 × 5\n",
       "\\begin{tabular}{lllll}\n",
       " Sepal.Length & Sepal.Width & Petal.Length & Petal.Width & Species\\\\\n",
       " <dbl> & <dbl> & <dbl> & <dbl> & <fct>\\\\\n",
       "\\hline\n",
       "\t 5.1 & 3.5 & 1.4 & 0.2 & setosa\\\\\n",
       "\t 4.9 & 3.0 & 1.4 & 0.2 & setosa\\\\\n",
       "\t 4.7 & 3.2 & 1.3 & 0.2 & setosa\\\\\n",
       "\t 4.6 & 3.1 & 1.5 & 0.2 & setosa\\\\\n",
       "\t 5.0 & 3.6 & 1.4 & 0.2 & setosa\\\\\n",
       "\t 5.4 & 3.9 & 1.7 & 0.4 & setosa\\\\\n",
       "\\end{tabular}\n"
      ],
      "text/markdown": [
       "\n",
       "A tibble: 6 × 5\n",
       "\n",
       "| Sepal.Length &lt;dbl&gt; | Sepal.Width &lt;dbl&gt; | Petal.Length &lt;dbl&gt; | Petal.Width &lt;dbl&gt; | Species &lt;fct&gt; |\n",
       "|---|---|---|---|---|\n",
       "| 5.1 | 3.5 | 1.4 | 0.2 | setosa |\n",
       "| 4.9 | 3.0 | 1.4 | 0.2 | setosa |\n",
       "| 4.7 | 3.2 | 1.3 | 0.2 | setosa |\n",
       "| 4.6 | 3.1 | 1.5 | 0.2 | setosa |\n",
       "| 5.0 | 3.6 | 1.4 | 0.2 | setosa |\n",
       "| 5.4 | 3.9 | 1.7 | 0.4 | setosa |\n",
       "\n"
      ],
      "text/plain": [
       "  Sepal.Length Sepal.Width Petal.Length Petal.Width Species\n",
       "1 5.1          3.5         1.4          0.2         setosa \n",
       "2 4.9          3.0         1.4          0.2         setosa \n",
       "3 4.7          3.2         1.3          0.2         setosa \n",
       "4 4.6          3.1         1.5          0.2         setosa \n",
       "5 5.0          3.6         1.4          0.2         setosa \n",
       "6 5.4          3.9         1.7          0.4         setosa "
      ]
     },
     "metadata": {},
     "output_type": "display_data"
    }
   ],
   "source": [
    "as_tibble(iris) %>% head()\n"
   ]
  },
  {
   "cell_type": "code",
   "execution_count": 4,
   "metadata": {},
   "outputs": [
    {
     "data": {
      "text/html": [
       "<table>\n",
       "<caption>A tibble: 5 × 3</caption>\n",
       "<thead>\n",
       "\t<tr><th scope=col>x</th><th scope=col>y</th><th scope=col>z</th></tr>\n",
       "\t<tr><th scope=col>&lt;int&gt;</th><th scope=col>&lt;dbl&gt;</th><th scope=col>&lt;dbl&gt;</th></tr>\n",
       "</thead>\n",
       "<tbody>\n",
       "\t<tr><td>1</td><td>1</td><td> 2</td></tr>\n",
       "\t<tr><td>2</td><td>1</td><td> 5</td></tr>\n",
       "\t<tr><td>3</td><td>1</td><td>10</td></tr>\n",
       "\t<tr><td>4</td><td>1</td><td>17</td></tr>\n",
       "\t<tr><td>5</td><td>1</td><td>26</td></tr>\n",
       "</tbody>\n",
       "</table>\n"
      ],
      "text/latex": [
       "A tibble: 5 × 3\n",
       "\\begin{tabular}{lll}\n",
       " x & y & z\\\\\n",
       " <int> & <dbl> & <dbl>\\\\\n",
       "\\hline\n",
       "\t 1 & 1 &  2\\\\\n",
       "\t 2 & 1 &  5\\\\\n",
       "\t 3 & 1 & 10\\\\\n",
       "\t 4 & 1 & 17\\\\\n",
       "\t 5 & 1 & 26\\\\\n",
       "\\end{tabular}\n"
      ],
      "text/markdown": [
       "\n",
       "A tibble: 5 × 3\n",
       "\n",
       "| x &lt;int&gt; | y &lt;dbl&gt; | z &lt;dbl&gt; |\n",
       "|---|---|---|\n",
       "| 1 | 1 |  2 |\n",
       "| 2 | 1 |  5 |\n",
       "| 3 | 1 | 10 |\n",
       "| 4 | 1 | 17 |\n",
       "| 5 | 1 | 26 |\n",
       "\n"
      ],
      "text/plain": [
       "  x y z \n",
       "1 1 1  2\n",
       "2 2 1  5\n",
       "3 3 1 10\n",
       "4 4 1 17\n",
       "5 5 1 26"
      ]
     },
     "metadata": {},
     "output_type": "display_data"
    }
   ],
   "source": [
    "tibble(\n",
    "  x = 1:5, \n",
    "  y = 1, \n",
    "  z = x ^ 2 + y\n",
    ")"
   ]
  },
  {
   "cell_type": "code",
   "execution_count": 6,
   "metadata": {},
   "outputs": [
    {
     "data": {
      "text/html": [
       "<table>\n",
       "<caption>A tibble: 1 × 3</caption>\n",
       "<thead>\n",
       "\t<tr><th scope=col>:)</th><th scope=col> </th><th scope=col>2000</th></tr>\n",
       "\t<tr><th scope=col>&lt;chr&gt;</th><th scope=col>&lt;chr&gt;</th><th scope=col>&lt;chr&gt;</th></tr>\n",
       "</thead>\n",
       "<tbody>\n",
       "\t<tr><td>smile</td><td>space</td><td>number</td></tr>\n",
       "</tbody>\n",
       "</table>\n"
      ],
      "text/latex": [
       "A tibble: 1 × 3\n",
       "\\begin{tabular}{lll}\n",
       " :) &   & 2000\\\\\n",
       " <chr> & <chr> & <chr>\\\\\n",
       "\\hline\n",
       "\t smile & space & number\\\\\n",
       "\\end{tabular}\n"
      ],
      "text/markdown": [
       "\n",
       "A tibble: 1 × 3\n",
       "\n",
       "| :) &lt;chr&gt; | <!----> &lt;chr&gt; | 2000 &lt;chr&gt; |\n",
       "|---|---|---|\n",
       "| smile | space | number |\n",
       "\n"
      ],
      "text/plain": [
       "  :)          2000  \n",
       "1 smile space number"
      ]
     },
     "metadata": {},
     "output_type": "display_data"
    }
   ],
   "source": [
    "# special characters as columns names\n",
    "tb <- tibble(\n",
    "  `:)` = \"smile\", \n",
    "  ` ` = \"space\",\n",
    "  `2000` = \"number\"\n",
    ")\n",
    "tb"
   ]
  },
  {
   "cell_type": "code",
   "execution_count": 7,
   "metadata": {},
   "outputs": [
    {
     "data": {
      "text/html": [
       "<table>\n",
       "<caption>A tibble: 2 × 3</caption>\n",
       "<thead>\n",
       "\t<tr><th scope=col>x</th><th scope=col>y</th><th scope=col>z</th></tr>\n",
       "\t<tr><th scope=col>&lt;chr&gt;</th><th scope=col>&lt;dbl&gt;</th><th scope=col>&lt;dbl&gt;</th></tr>\n",
       "</thead>\n",
       "<tbody>\n",
       "\t<tr><td>a</td><td>2</td><td>3.6</td></tr>\n",
       "\t<tr><td>b</td><td>1</td><td>8.5</td></tr>\n",
       "</tbody>\n",
       "</table>\n"
      ],
      "text/latex": [
       "A tibble: 2 × 3\n",
       "\\begin{tabular}{lll}\n",
       " x & y & z\\\\\n",
       " <chr> & <dbl> & <dbl>\\\\\n",
       "\\hline\n",
       "\t a & 2 & 3.6\\\\\n",
       "\t b & 1 & 8.5\\\\\n",
       "\\end{tabular}\n"
      ],
      "text/markdown": [
       "\n",
       "A tibble: 2 × 3\n",
       "\n",
       "| x &lt;chr&gt; | y &lt;dbl&gt; | z &lt;dbl&gt; |\n",
       "|---|---|---|\n",
       "| a | 2 | 3.6 |\n",
       "| b | 1 | 8.5 |\n",
       "\n"
      ],
      "text/plain": [
       "  x y z  \n",
       "1 a 2 3.6\n",
       "2 b 1 8.5"
      ]
     },
     "metadata": {},
     "output_type": "display_data"
    }
   ],
   "source": [
    "# tribble: transposed tibble. tribble() is customised for data entry in code: \n",
    "# column headings are defined by formulas (i.e. they start with ~), and entries are separated by commas. \n",
    "# This makes it possible to lay out small amounts of data in easy to read form.\n",
    "\n",
    "tribble(\n",
    "  ~x, ~y, ~z,\n",
    "  #--|--|----\n",
    "  \"a\", 2, 3.6,\n",
    "  \"b\", 1, 8.5\n",
    ")"
   ]
  },
  {
   "cell_type": "code",
   "execution_count": 9,
   "metadata": {},
   "outputs": [
    {
     "data": {
      "text/html": [
       "<table>\n",
       "<caption>A tibble: 6 × 5</caption>\n",
       "<thead>\n",
       "\t<tr><th scope=col>a</th><th scope=col>b</th><th scope=col>c</th><th scope=col>d</th><th scope=col>e</th></tr>\n",
       "\t<tr><th scope=col>&lt;dttm&gt;</th><th scope=col>&lt;date&gt;</th><th scope=col>&lt;int&gt;</th><th scope=col>&lt;dbl&gt;</th><th scope=col>&lt;chr&gt;</th></tr>\n",
       "</thead>\n",
       "<tbody>\n",
       "\t<tr><td>2020-03-21 20:22:33</td><td>2020-04-18</td><td>1</td><td>0.08300346</td><td>u</td></tr>\n",
       "\t<tr><td>2020-03-21 23:56:40</td><td>2020-04-18</td><td>2</td><td>0.39644844</td><td>r</td></tr>\n",
       "\t<tr><td>2020-03-22 18:03:59</td><td>2020-04-16</td><td>3</td><td>0.79698145</td><td>k</td></tr>\n",
       "\t<tr><td>2020-03-21 19:04:27</td><td>2020-03-21</td><td>4</td><td>0.27914695</td><td>f</td></tr>\n",
       "\t<tr><td>2020-03-21 21:51:15</td><td>2020-04-01</td><td>5</td><td>0.47278597</td><td>b</td></tr>\n",
       "\t<tr><td>2020-03-22 03:02:28</td><td>2020-04-17</td><td>6</td><td>0.67204647</td><td>x</td></tr>\n",
       "</tbody>\n",
       "</table>\n"
      ],
      "text/latex": [
       "A tibble: 6 × 5\n",
       "\\begin{tabular}{lllll}\n",
       " a & b & c & d & e\\\\\n",
       " <dttm> & <date> & <int> & <dbl> & <chr>\\\\\n",
       "\\hline\n",
       "\t 2020-03-21 20:22:33 & 2020-04-18 & 1 & 0.08300346 & u\\\\\n",
       "\t 2020-03-21 23:56:40 & 2020-04-18 & 2 & 0.39644844 & r\\\\\n",
       "\t 2020-03-22 18:03:59 & 2020-04-16 & 3 & 0.79698145 & k\\\\\n",
       "\t 2020-03-21 19:04:27 & 2020-03-21 & 4 & 0.27914695 & f\\\\\n",
       "\t 2020-03-21 21:51:15 & 2020-04-01 & 5 & 0.47278597 & b\\\\\n",
       "\t 2020-03-22 03:02:28 & 2020-04-17 & 6 & 0.67204647 & x\\\\\n",
       "\\end{tabular}\n"
      ],
      "text/markdown": [
       "\n",
       "A tibble: 6 × 5\n",
       "\n",
       "| a &lt;dttm&gt; | b &lt;date&gt; | c &lt;int&gt; | d &lt;dbl&gt; | e &lt;chr&gt; |\n",
       "|---|---|---|---|---|\n",
       "| 2020-03-21 20:22:33 | 2020-04-18 | 1 | 0.08300346 | u |\n",
       "| 2020-03-21 23:56:40 | 2020-04-18 | 2 | 0.39644844 | r |\n",
       "| 2020-03-22 18:03:59 | 2020-04-16 | 3 | 0.79698145 | k |\n",
       "| 2020-03-21 19:04:27 | 2020-03-21 | 4 | 0.27914695 | f |\n",
       "| 2020-03-21 21:51:15 | 2020-04-01 | 5 | 0.47278597 | b |\n",
       "| 2020-03-22 03:02:28 | 2020-04-17 | 6 | 0.67204647 | x |\n",
       "\n"
      ],
      "text/plain": [
       "  a                   b          c d          e\n",
       "1 2020-03-21 20:22:33 2020-04-18 1 0.08300346 u\n",
       "2 2020-03-21 23:56:40 2020-04-18 2 0.39644844 r\n",
       "3 2020-03-22 18:03:59 2020-04-16 3 0.79698145 k\n",
       "4 2020-03-21 19:04:27 2020-03-21 4 0.27914695 f\n",
       "5 2020-03-21 21:51:15 2020-04-01 5 0.47278597 b\n",
       "6 2020-03-22 03:02:28 2020-04-17 6 0.67204647 x"
      ]
     },
     "metadata": {},
     "output_type": "display_data"
    }
   ],
   "source": [
    "tibble(\n",
    "  a = lubridate::now() + runif(1e3) * 86400,\n",
    "  b = lubridate::today() + runif(1e3) * 30,\n",
    "  c = 1:1e3,\n",
    "  d = runif(1e3),\n",
    "  e = sample(letters, 1e3, replace = TRUE)\n",
    ") %>%\n",
    "head()"
   ]
  },
  {
   "cell_type": "code",
   "execution_count": 10,
   "metadata": {},
   "outputs": [
    {
     "name": "stdout",
     "output_type": "stream",
     "text": [
      "\u001b[90m# A tibble: 336,776 x 19\u001b[39m\n",
      "    year month   day dep_time sched_dep_time dep_delay arr_time sched_arr_time\n",
      "   \u001b[3m\u001b[90m<int>\u001b[39m\u001b[23m \u001b[3m\u001b[90m<int>\u001b[39m\u001b[23m \u001b[3m\u001b[90m<int>\u001b[39m\u001b[23m    \u001b[3m\u001b[90m<int>\u001b[39m\u001b[23m          \u001b[3m\u001b[90m<int>\u001b[39m\u001b[23m     \u001b[3m\u001b[90m<dbl>\u001b[39m\u001b[23m    \u001b[3m\u001b[90m<int>\u001b[39m\u001b[23m          \u001b[3m\u001b[90m<int>\u001b[39m\u001b[23m\n",
      "\u001b[90m 1\u001b[39m  \u001b[4m2\u001b[24m013     1     1      517            515         2      830            819\n",
      "\u001b[90m 2\u001b[39m  \u001b[4m2\u001b[24m013     1     1      533            529         4      850            830\n",
      "\u001b[90m 3\u001b[39m  \u001b[4m2\u001b[24m013     1     1      542            540         2      923            850\n",
      "\u001b[90m 4\u001b[39m  \u001b[4m2\u001b[24m013     1     1      544            545        -\u001b[31m1\u001b[39m     \u001b[4m1\u001b[24m004           \u001b[4m1\u001b[24m022\n",
      "\u001b[90m 5\u001b[39m  \u001b[4m2\u001b[24m013     1     1      554            600        -\u001b[31m6\u001b[39m      812            837\n",
      "\u001b[90m 6\u001b[39m  \u001b[4m2\u001b[24m013     1     1      554            558        -\u001b[31m4\u001b[39m      740            728\n",
      "\u001b[90m 7\u001b[39m  \u001b[4m2\u001b[24m013     1     1      555            600        -\u001b[31m5\u001b[39m      913            854\n",
      "\u001b[90m 8\u001b[39m  \u001b[4m2\u001b[24m013     1     1      557            600        -\u001b[31m3\u001b[39m      709            723\n",
      "\u001b[90m 9\u001b[39m  \u001b[4m2\u001b[24m013     1     1      557            600        -\u001b[31m3\u001b[39m      838            846\n",
      "\u001b[90m10\u001b[39m  \u001b[4m2\u001b[24m013     1     1      558            600        -\u001b[31m2\u001b[39m      753            745\n",
      "   arr_delay carrier flight tailnum origin dest  air_time distance  hour minute\n",
      "       \u001b[3m\u001b[90m<dbl>\u001b[39m\u001b[23m \u001b[3m\u001b[90m<chr>\u001b[39m\u001b[23m    \u001b[3m\u001b[90m<int>\u001b[39m\u001b[23m \u001b[3m\u001b[90m<chr>\u001b[39m\u001b[23m   \u001b[3m\u001b[90m<chr>\u001b[39m\u001b[23m  \u001b[3m\u001b[90m<chr>\u001b[39m\u001b[23m    \u001b[3m\u001b[90m<dbl>\u001b[39m\u001b[23m    \u001b[3m\u001b[90m<dbl>\u001b[39m\u001b[23m \u001b[3m\u001b[90m<dbl>\u001b[39m\u001b[23m  \u001b[3m\u001b[90m<dbl>\u001b[39m\u001b[23m\n",
      "\u001b[90m 1\u001b[39m        11 UA        \u001b[4m1\u001b[24m545 N14228  EWR    IAH        227     \u001b[4m1\u001b[24m400     5     15\n",
      "\u001b[90m 2\u001b[39m        20 UA        \u001b[4m1\u001b[24m714 N24211  LGA    IAH        227     \u001b[4m1\u001b[24m416     5     29\n",
      "\u001b[90m 3\u001b[39m        33 AA        \u001b[4m1\u001b[24m141 N619AA  JFK    MIA        160     \u001b[4m1\u001b[24m089     5     40\n",
      "\u001b[90m 4\u001b[39m       -\u001b[31m18\u001b[39m B6         725 N804JB  JFK    BQN        183     \u001b[4m1\u001b[24m576     5     45\n",
      "\u001b[90m 5\u001b[39m       -\u001b[31m25\u001b[39m DL         461 N668DN  LGA    ATL        116      762     6      0\n",
      "\u001b[90m 6\u001b[39m        12 UA        \u001b[4m1\u001b[24m696 N39463  EWR    ORD        150      719     5     58\n",
      "\u001b[90m 7\u001b[39m        19 B6         507 N516JB  EWR    FLL        158     \u001b[4m1\u001b[24m065     6      0\n",
      "\u001b[90m 8\u001b[39m       -\u001b[31m14\u001b[39m EV        \u001b[4m5\u001b[24m708 N829AS  LGA    IAD         53      229     6      0\n",
      "\u001b[90m 9\u001b[39m        -\u001b[31m8\u001b[39m B6          79 N593JB  JFK    MCO        140      944     6      0\n",
      "\u001b[90m10\u001b[39m         8 AA         301 N3ALAA  LGA    ORD        138      733     6      0\n",
      "   time_hour          \n",
      "   \u001b[3m\u001b[90m<dttm>\u001b[39m\u001b[23m             \n",
      "\u001b[90m 1\u001b[39m 2013-01-01 \u001b[90m05:00:00\u001b[39m\n",
      "\u001b[90m 2\u001b[39m 2013-01-01 \u001b[90m05:00:00\u001b[39m\n",
      "\u001b[90m 3\u001b[39m 2013-01-01 \u001b[90m05:00:00\u001b[39m\n",
      "\u001b[90m 4\u001b[39m 2013-01-01 \u001b[90m05:00:00\u001b[39m\n",
      "\u001b[90m 5\u001b[39m 2013-01-01 \u001b[90m06:00:00\u001b[39m\n",
      "\u001b[90m 6\u001b[39m 2013-01-01 \u001b[90m05:00:00\u001b[39m\n",
      "\u001b[90m 7\u001b[39m 2013-01-01 \u001b[90m06:00:00\u001b[39m\n",
      "\u001b[90m 8\u001b[39m 2013-01-01 \u001b[90m06:00:00\u001b[39m\n",
      "\u001b[90m 9\u001b[39m 2013-01-01 \u001b[90m06:00:00\u001b[39m\n",
      "\u001b[90m10\u001b[39m 2013-01-01 \u001b[90m06:00:00\u001b[39m\n",
      "\u001b[90m# … with 3.368e+05 more rows\u001b[39m\n"
     ]
    }
   ],
   "source": [
    "nycflights13::flights %>% \n",
    "  print(n = 10, width = Inf)"
   ]
  },
  {
   "cell_type": "markdown",
   "metadata": {},
   "source": [
    "### subsetting"
   ]
  },
  {
   "cell_type": "code",
   "execution_count": 14,
   "metadata": {},
   "outputs": [
    {
     "data": {
      "text/html": [
       "<style>\n",
       ".list-inline {list-style: none; margin:0; padding: 0}\n",
       ".list-inline>li {display: inline-block}\n",
       ".list-inline>li:not(:last-child)::after {content: \"\\00b7\"; padding: 0 .5ex}\n",
       "</style>\n",
       "<ol class=list-inline><li>0.699576830957085</li><li>0.757523044245318</li><li>0.10781003953889</li><li>0.2380381366238</li><li>0.40585447428748</li></ol>\n"
      ],
      "text/latex": [
       "\\begin{enumerate*}\n",
       "\\item 0.699576830957085\n",
       "\\item 0.757523044245318\n",
       "\\item 0.10781003953889\n",
       "\\item 0.2380381366238\n",
       "\\item 0.40585447428748\n",
       "\\end{enumerate*}\n"
      ],
      "text/markdown": [
       "1. 0.699576830957085\n",
       "2. 0.757523044245318\n",
       "3. 0.10781003953889\n",
       "4. 0.2380381366238\n",
       "5. 0.40585447428748\n",
       "\n",
       "\n"
      ],
      "text/plain": [
       "[1] 0.6995768 0.7575230 0.1078100 0.2380381 0.4058545"
      ]
     },
     "metadata": {},
     "output_type": "display_data"
    },
    {
     "data": {
      "text/html": [
       "<style>\n",
       ".list-inline {list-style: none; margin:0; padding: 0}\n",
       ".list-inline>li {display: inline-block}\n",
       ".list-inline>li:not(:last-child)::after {content: \"\\00b7\"; padding: 0 .5ex}\n",
       "</style>\n",
       "<ol class=list-inline><li>0.699576830957085</li><li>0.757523044245318</li><li>0.10781003953889</li><li>0.2380381366238</li><li>0.40585447428748</li></ol>\n"
      ],
      "text/latex": [
       "\\begin{enumerate*}\n",
       "\\item 0.699576830957085\n",
       "\\item 0.757523044245318\n",
       "\\item 0.10781003953889\n",
       "\\item 0.2380381366238\n",
       "\\item 0.40585447428748\n",
       "\\end{enumerate*}\n"
      ],
      "text/markdown": [
       "1. 0.699576830957085\n",
       "2. 0.757523044245318\n",
       "3. 0.10781003953889\n",
       "4. 0.2380381366238\n",
       "5. 0.40585447428748\n",
       "\n",
       "\n"
      ],
      "text/plain": [
       "[1] 0.6995768 0.7575230 0.1078100 0.2380381 0.4058545"
      ]
     },
     "metadata": {},
     "output_type": "display_data"
    },
    {
     "data": {
      "text/html": [
       "<style>\n",
       ".list-inline {list-style: none; margin:0; padding: 0}\n",
       ".list-inline>li {display: inline-block}\n",
       ".list-inline>li:not(:last-child)::after {content: \"\\00b7\"; padding: 0 .5ex}\n",
       "</style>\n",
       "<ol class=list-inline><li>0.699576830957085</li><li>0.757523044245318</li><li>0.10781003953889</li><li>0.2380381366238</li><li>0.40585447428748</li></ol>\n"
      ],
      "text/latex": [
       "\\begin{enumerate*}\n",
       "\\item 0.699576830957085\n",
       "\\item 0.757523044245318\n",
       "\\item 0.10781003953889\n",
       "\\item 0.2380381366238\n",
       "\\item 0.40585447428748\n",
       "\\end{enumerate*}\n"
      ],
      "text/markdown": [
       "1. 0.699576830957085\n",
       "2. 0.757523044245318\n",
       "3. 0.10781003953889\n",
       "4. 0.2380381366238\n",
       "5. 0.40585447428748\n",
       "\n",
       "\n"
      ],
      "text/plain": [
       "[1] 0.6995768 0.7575230 0.1078100 0.2380381 0.4058545"
      ]
     },
     "metadata": {},
     "output_type": "display_data"
    }
   ],
   "source": [
    "df <- tibble(\n",
    "  x = runif(5),\n",
    "  y = rnorm(5)\n",
    ")\n",
    "\n",
    "# Extract by name\n",
    "df$x\n",
    "\n",
    "df[[\"x\"]]\n",
    "\n",
    "# Extract by position\n",
    "df[[1]]\n",
    "\n"
   ]
  },
  {
   "cell_type": "code",
   "execution_count": 17,
   "metadata": {},
   "outputs": [
    {
     "data": {
      "text/html": [
       "<style>\n",
       ".list-inline {list-style: none; margin:0; padding: 0}\n",
       ".list-inline>li {display: inline-block}\n",
       ".list-inline>li:not(:last-child)::after {content: \"\\00b7\"; padding: 0 .5ex}\n",
       "</style>\n",
       "<ol class=list-inline><li>0.699576830957085</li><li>0.757523044245318</li><li>0.10781003953889</li><li>0.2380381366238</li><li>0.40585447428748</li></ol>\n"
      ],
      "text/latex": [
       "\\begin{enumerate*}\n",
       "\\item 0.699576830957085\n",
       "\\item 0.757523044245318\n",
       "\\item 0.10781003953889\n",
       "\\item 0.2380381366238\n",
       "\\item 0.40585447428748\n",
       "\\end{enumerate*}\n"
      ],
      "text/markdown": [
       "1. 0.699576830957085\n",
       "2. 0.757523044245318\n",
       "3. 0.10781003953889\n",
       "4. 0.2380381366238\n",
       "5. 0.40585447428748\n",
       "\n",
       "\n"
      ],
      "text/plain": [
       "[1] 0.6995768 0.7575230 0.1078100 0.2380381 0.4058545"
      ]
     },
     "metadata": {},
     "output_type": "display_data"
    },
    {
     "data": {
      "text/html": [
       "<style>\n",
       ".list-inline {list-style: none; margin:0; padding: 0}\n",
       ".list-inline>li {display: inline-block}\n",
       ".list-inline>li:not(:last-child)::after {content: \"\\00b7\"; padding: 0 .5ex}\n",
       "</style>\n",
       "<ol class=list-inline><li>0.699576830957085</li><li>0.757523044245318</li><li>0.10781003953889</li><li>0.2380381366238</li><li>0.40585447428748</li></ol>\n"
      ],
      "text/latex": [
       "\\begin{enumerate*}\n",
       "\\item 0.699576830957085\n",
       "\\item 0.757523044245318\n",
       "\\item 0.10781003953889\n",
       "\\item 0.2380381366238\n",
       "\\item 0.40585447428748\n",
       "\\end{enumerate*}\n"
      ],
      "text/markdown": [
       "1. 0.699576830957085\n",
       "2. 0.757523044245318\n",
       "3. 0.10781003953889\n",
       "4. 0.2380381366238\n",
       "5. 0.40585447428748\n",
       "\n",
       "\n"
      ],
      "text/plain": [
       "[1] 0.6995768 0.7575230 0.1078100 0.2380381 0.4058545"
      ]
     },
     "metadata": {},
     "output_type": "display_data"
    }
   ],
   "source": [
    "# subsetting in pipe use place holder \".\"\n",
    "df %>% .$x\n",
    "\n",
    "df %>% .[[\"x\"]]\n"
   ]
  },
  {
   "cell_type": "code",
   "execution_count": 19,
   "metadata": {},
   "outputs": [
    {
     "data": {
      "text/html": [
       "'data.frame'"
      ],
      "text/latex": [
       "'data.frame'"
      ],
      "text/markdown": [
       "'data.frame'"
      ],
      "text/plain": [
       "[1] \"data.frame\""
      ]
     },
     "metadata": {},
     "output_type": "display_data"
    }
   ],
   "source": [
    "class(mtcars)"
   ]
  },
  {
   "cell_type": "code",
   "execution_count": 28,
   "metadata": {},
   "outputs": [
    {
     "data": {
      "text/html": [
       "<table>\n",
       "<caption>A tibble: 5 × 1</caption>\n",
       "<thead>\n",
       "\t<tr><th scope=col>x</th></tr>\n",
       "\t<tr><th scope=col>&lt;dbl&gt;</th></tr>\n",
       "</thead>\n",
       "<tbody>\n",
       "\t<tr><td>0.6995768</td></tr>\n",
       "\t<tr><td>0.7575230</td></tr>\n",
       "\t<tr><td>0.1078100</td></tr>\n",
       "\t<tr><td>0.2380381</td></tr>\n",
       "\t<tr><td>0.4058545</td></tr>\n",
       "</tbody>\n",
       "</table>\n"
      ],
      "text/latex": [
       "A tibble: 5 × 1\n",
       "\\begin{tabular}{l}\n",
       " x\\\\\n",
       " <dbl>\\\\\n",
       "\\hline\n",
       "\t 0.6995768\\\\\n",
       "\t 0.7575230\\\\\n",
       "\t 0.1078100\\\\\n",
       "\t 0.2380381\\\\\n",
       "\t 0.4058545\\\\\n",
       "\\end{tabular}\n"
      ],
      "text/markdown": [
       "\n",
       "A tibble: 5 × 1\n",
       "\n",
       "| x &lt;dbl&gt; |\n",
       "|---|\n",
       "| 0.6995768 |\n",
       "| 0.7575230 |\n",
       "| 0.1078100 |\n",
       "| 0.2380381 |\n",
       "| 0.4058545 |\n",
       "\n"
      ],
      "text/plain": [
       "  x        \n",
       "1 0.6995768\n",
       "2 0.7575230\n",
       "3 0.1078100\n",
       "4 0.2380381\n",
       "5 0.4058545"
      ]
     },
     "metadata": {},
     "output_type": "display_data"
    },
    {
     "data": {
      "text/html": [
       "<style>\n",
       ".list-inline {list-style: none; margin:0; padding: 0}\n",
       ".list-inline>li {display: inline-block}\n",
       ".list-inline>li:not(:last-child)::after {content: \"\\00b7\"; padding: 0 .5ex}\n",
       "</style>\n",
       "<ol class=list-inline><li>0.699576830957085</li><li>0.757523044245318</li><li>0.10781003953889</li><li>0.2380381366238</li><li>0.40585447428748</li></ol>\n"
      ],
      "text/latex": [
       "\\begin{enumerate*}\n",
       "\\item 0.699576830957085\n",
       "\\item 0.757523044245318\n",
       "\\item 0.10781003953889\n",
       "\\item 0.2380381366238\n",
       "\\item 0.40585447428748\n",
       "\\end{enumerate*}\n"
      ],
      "text/markdown": [
       "1. 0.699576830957085\n",
       "2. 0.757523044245318\n",
       "3. 0.10781003953889\n",
       "4. 0.2380381366238\n",
       "5. 0.40585447428748\n",
       "\n",
       "\n"
      ],
      "text/plain": [
       "[1] 0.6995768 0.7575230 0.1078100 0.2380381 0.4058545"
      ]
     },
     "metadata": {},
     "output_type": "display_data"
    },
    {
     "data": {
      "text/html": [
       "<style>\n",
       ".list-inline {list-style: none; margin:0; padding: 0}\n",
       ".list-inline>li {display: inline-block}\n",
       ".list-inline>li:not(:last-child)::after {content: \"\\00b7\"; padding: 0 .5ex}\n",
       "</style>\n",
       "<ol class=list-inline><li>0.699576830957085</li><li>0.757523044245318</li><li>0.10781003953889</li><li>0.2380381366238</li><li>0.40585447428748</li></ol>\n"
      ],
      "text/latex": [
       "\\begin{enumerate*}\n",
       "\\item 0.699576830957085\n",
       "\\item 0.757523044245318\n",
       "\\item 0.10781003953889\n",
       "\\item 0.2380381366238\n",
       "\\item 0.40585447428748\n",
       "\\end{enumerate*}\n"
      ],
      "text/markdown": [
       "1. 0.699576830957085\n",
       "2. 0.757523044245318\n",
       "3. 0.10781003953889\n",
       "4. 0.2380381366238\n",
       "5. 0.40585447428748\n",
       "\n",
       "\n"
      ],
      "text/plain": [
       "[1] 0.6995768 0.7575230 0.1078100 0.2380381 0.4058545"
      ]
     },
     "metadata": {},
     "output_type": "display_data"
    }
   ],
   "source": [
    "df['x']\n",
    "df[['x']]\n",
    "df$x"
   ]
  },
  {
   "cell_type": "code",
   "execution_count": null,
   "metadata": {},
   "outputs": [],
   "source": []
  },
  {
   "cell_type": "code",
   "execution_count": null,
   "metadata": {},
   "outputs": [],
   "source": []
  },
  {
   "cell_type": "code",
   "execution_count": null,
   "metadata": {},
   "outputs": [],
   "source": [
    "\n",
    "%>%\n",
    "head()"
   ]
  },
  {
   "cell_type": "code",
   "execution_count": null,
   "metadata": {},
   "outputs": [],
   "source": []
  }
 ],
 "metadata": {
  "kernelspec": {
   "display_name": "R",
   "language": "R",
   "name": "ir"
  },
  "language_info": {
   "codemirror_mode": "r",
   "file_extension": ".r",
   "mimetype": "text/x-r-source",
   "name": "R",
   "pygments_lexer": "r",
   "version": "3.6.2"
  }
 },
 "nbformat": 4,
 "nbformat_minor": 4
}
