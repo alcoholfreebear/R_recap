{
 "cells": [
  {
   "cell_type": "markdown",
   "metadata": {},
   "source": [
    "### R tutorial   \n",
    "\n",
    "* Book:   \n",
    "https://r4ds.had.co.nz/  \n",
    "* Tidy R references   \n",
    "https://tidyr.tidyverse.org/reference/\n",
    "\n",
    "## Chapter 16: Dates and Times\n",
    "\n",
    "### Create datetime \n",
    "* From a string.\n",
    "* From individual date-time components.   \n",
    "To create a date/time from this sort of input, use ```make_date()``` for dates, or ```make_datetime()``` for date-times:\n",
    "* From an existing date/time object.\n",
    "### Datetime components\n",
    "* You can pull out individual parts of the date with the accessor functions ```year()```, ```month()```, ```mday()``` (day of the month), ```yday()``` (day of the year), ```wday()``` (day of the week), ```hour()```, ```minute()```, and ```second()```.\n",
    "*  Round the date to a nearby unit of time, with ```floor_date()```, ```round_date()```, and ```ceiling_date()```.\n",
    "* You can also use each accessor function to set the components of a date/time:\n",
    "\n",
    "```R\n",
    "(datetime <- ymd_hms(\"2016-07-08 12:34:56\"))\n",
    "#> [1] \"2016-07-08 12:34:56 UTC\"\n",
    "\n",
    "year(datetime) <- 2020\n",
    "```\n",
    "* alternatively one can use ```update(datetime, year = 2020, month = 2, mday = 2, hour = 2)```\n",
    "### Timespans\n",
    "About how they interact with numerical operators see 16.4.4:   \n",
    "https://r4ds.had.co.nz/dates-and-times.html\n",
    "* **Durations**```as.duration()``` converts any time span to seconds.\n",
    " - different constructors of durations:\n",
    "    ```R\n",
    "    dseconds(15)\n",
    "    #> [1] \"15s\"\n",
    "    dminutes(10)\n",
    "    #> [1] \"600s (~10 minutes)\"\n",
    "    dhours(c(12, 24))\n",
    "    #> [1] \"43200s (~12 hours)\" \"86400s (~1 days)\"\n",
    "    ddays(0:5)\n",
    "    #> [1] \"0s\"                \"86400s (~1 days)\"  \"172800s (~2 days)\"\n",
    "    #> [4] \"259200s (~3 days)\" \"345600s (~4 days)\" \"432000s (~5 days)\"\n",
    "    dweeks(3)\n",
    "    #> [1] \"1814400s (~3 weeks)\"\n",
    "    dyears(1)\n",
    "    #> [1] \"31536000s (~52.14 weeks)\"\n",
    "    ```\n",
    "* **periods** human times\n",
    "  - different constructors:\n",
    "  ```R\n",
    "    seconds(15)\n",
    "    minutes(10)\n",
    "    hours(c(12, 24))\n",
    "    days(7)\n",
    "    months(1:6)\n",
    "    weeks(3)\n",
    "    years(1)\n",
    "  ```\n",
    "* **intervals ```%--%```**\n",
    "    ```R\n",
    "    next_year <- today() + years(1)\n",
    "    (today() %--% next_year) / ddays(1)\n",
    "    #> [1] 366\n",
    "    ```\n",
    "### Time Zones\n",
    "Unless otherwise specified, lubridate always uses UTC. UTC (Coordinated Universal Time) is the standard time zone used by the scientific community and roughly equivalent to its predecessor GMT (Greenwich Mean Time). \n",
    "* ```Sys.timezone()``` to find out my timezone   \n",
    "* To see the list of timezones type in ```OlsonNames()```  \n",
    "* To specify timezones use the above: \n",
    "    ```R\n",
    "    (x1 <- ymd_hms(\"2015-06-01 12:00:00\", tz = \"America/New_York\"))\n",
    "    ```\n",
    "* To display a time variable in a different timezone:\n",
    "    ```R\n",
    "    x4a <- with_tz(x4, tzone = \"Australia/Lord_Howe\")\n",
    "    ```\n",
    "* To forcefully modify the timezone of the time variable:\n",
    "    ```R\n",
    "    x4b <- force_tz(x4, tzone = \"Australia/Lord_Howe\")\n",
    "    ```"
   ]
  },
  {
   "cell_type": "code",
   "execution_count": 13,
   "metadata": {},
   "outputs": [],
   "source": [
    "suppressPackageStartupMessages(library(tidyverse))\n",
    "suppressPackageStartupMessages(library(lubridate))\n",
    "suppressPackageStartupMessages(library(nycflights13))\n"
   ]
  },
  {
   "cell_type": "code",
   "execution_count": 4,
   "metadata": {},
   "outputs": [
    {
     "data": {
      "text/html": [
       "'Date'"
      ],
      "text/latex": [
       "'Date'"
      ],
      "text/markdown": [
       "'Date'"
      ],
      "text/plain": [
       "[1] \"Date\""
      ]
     },
     "metadata": {},
     "output_type": "display_data"
    },
    {
     "data": {
      "text/html": [
       "<time datetime=\"2020-03-22\">2020-03-22</time>"
      ],
      "text/latex": [
       "2020-03-22"
      ],
      "text/markdown": [
       "2020-03-22"
      ],
      "text/plain": [
       "[1] \"2020-03-22\""
      ]
     },
     "metadata": {},
     "output_type": "display_data"
    }
   ],
   "source": [
    "class(today())\n",
    "today()"
   ]
  },
  {
   "cell_type": "code",
   "execution_count": 5,
   "metadata": {},
   "outputs": [
    {
     "data": {
      "text/html": [
       "<style>\n",
       ".list-inline {list-style: none; margin:0; padding: 0}\n",
       ".list-inline>li {display: inline-block}\n",
       ".list-inline>li:not(:last-child)::after {content: \"\\00b7\"; padding: 0 .5ex}\n",
       "</style>\n",
       "<ol class=list-inline><li>'POSIXct'</li><li>'POSIXt'</li></ol>\n"
      ],
      "text/latex": [
       "\\begin{enumerate*}\n",
       "\\item 'POSIXct'\n",
       "\\item 'POSIXt'\n",
       "\\end{enumerate*}\n"
      ],
      "text/markdown": [
       "1. 'POSIXct'\n",
       "2. 'POSIXt'\n",
       "\n",
       "\n"
      ],
      "text/plain": [
       "[1] \"POSIXct\" \"POSIXt\" "
      ]
     },
     "metadata": {},
     "output_type": "display_data"
    },
    {
     "data": {
      "text/plain": [
       "[1] \"2020-03-22 12:27:24 UTC\""
      ]
     },
     "metadata": {},
     "output_type": "display_data"
    }
   ],
   "source": [
    "class(now())\n",
    "now()"
   ]
  },
  {
   "cell_type": "markdown",
   "metadata": {},
   "source": [
    "### Create datetime "
   ]
  },
  {
   "cell_type": "code",
   "execution_count": 9,
   "metadata": {},
   "outputs": [
    {
     "data": {
      "text/html": [
       "<time datetime=\"2017-01-31\">2017-01-31</time>"
      ],
      "text/latex": [
       "2017-01-31"
      ],
      "text/markdown": [
       "2017-01-31"
      ],
      "text/plain": [
       "[1] \"2017-01-31\""
      ]
     },
     "metadata": {},
     "output_type": "display_data"
    },
    {
     "data": {
      "text/html": [
       "<time datetime=\"2017-01-31\">2017-01-31</time>"
      ],
      "text/latex": [
       "2017-01-31"
      ],
      "text/markdown": [
       "2017-01-31"
      ],
      "text/plain": [
       "[1] \"2017-01-31\""
      ]
     },
     "metadata": {},
     "output_type": "display_data"
    },
    {
     "data": {
      "text/html": [
       "<time datetime=\"2017-01-31\">2017-01-31</time>"
      ],
      "text/latex": [
       "2017-01-31"
      ],
      "text/markdown": [
       "2017-01-31"
      ],
      "text/plain": [
       "[1] \"2017-01-31\""
      ]
     },
     "metadata": {},
     "output_type": "display_data"
    }
   ],
   "source": [
    "# from a string\n",
    "ymd(\"2017-01-31\")\n",
    "mdy(\"January 31st, 2017\")\n",
    "dmy(\"31-Jan-2017\")\n"
   ]
  },
  {
   "cell_type": "code",
   "execution_count": 10,
   "metadata": {},
   "outputs": [
    {
     "data": {
      "text/html": [
       "<time datetime=\"2017-01-31\">2017-01-31</time>"
      ],
      "text/latex": [
       "2017-01-31"
      ],
      "text/markdown": [
       "2017-01-31"
      ],
      "text/plain": [
       "[1] \"2017-01-31\""
      ]
     },
     "metadata": {},
     "output_type": "display_data"
    }
   ],
   "source": [
    "# number\n",
    "ymd(20170131)\n"
   ]
  },
  {
   "cell_type": "code",
   "execution_count": 11,
   "metadata": {},
   "outputs": [
    {
     "data": {
      "text/plain": [
       "[1] \"2017-01-31 20:11:59 UTC\""
      ]
     },
     "metadata": {},
     "output_type": "display_data"
    },
    {
     "data": {
      "text/plain": [
       "[1] \"2017-01-31 08:01:00 UTC\""
      ]
     },
     "metadata": {},
     "output_type": "display_data"
    }
   ],
   "source": [
    "ymd_hms(\"2017-01-31 20:11:59\")\n",
    "mdy_hm(\"01/31/2017 08:01\")"
   ]
  },
  {
   "cell_type": "code",
   "execution_count": 12,
   "metadata": {},
   "outputs": [
    {
     "data": {
      "text/html": [
       "<style>\n",
       ".list-inline {list-style: none; margin:0; padding: 0}\n",
       ".list-inline>li {display: inline-block}\n",
       ".list-inline>li:not(:last-child)::after {content: \"\\00b7\"; padding: 0 .5ex}\n",
       "</style>\n",
       "<ol class=list-inline><li>'POSIXct'</li><li>'POSIXt'</li></ol>\n"
      ],
      "text/latex": [
       "\\begin{enumerate*}\n",
       "\\item 'POSIXct'\n",
       "\\item 'POSIXt'\n",
       "\\end{enumerate*}\n"
      ],
      "text/markdown": [
       "1. 'POSIXct'\n",
       "2. 'POSIXt'\n",
       "\n",
       "\n"
      ],
      "text/plain": [
       "[1] \"POSIXct\" \"POSIXt\" "
      ]
     },
     "metadata": {},
     "output_type": "display_data"
    },
    {
     "data": {
      "text/plain": [
       "[1] \"2017-01-31 UTC\""
      ]
     },
     "metadata": {},
     "output_type": "display_data"
    }
   ],
   "source": [
    "class(ymd(20170131, tz = \"UTC\"))\n",
    "ymd(20170131, tz = \"UTC\")"
   ]
  },
  {
   "cell_type": "code",
   "execution_count": 20,
   "metadata": {},
   "outputs": [
    {
     "data": {
      "text/html": [
       "<table>\n",
       "<caption>A tibble: 6 × 6</caption>\n",
       "<thead>\n",
       "\t<tr><th scope=col>year</th><th scope=col>month</th><th scope=col>day</th><th scope=col>hour</th><th scope=col>minute</th><th scope=col>dep_time</th></tr>\n",
       "\t<tr><th scope=col>&lt;int&gt;</th><th scope=col>&lt;int&gt;</th><th scope=col>&lt;int&gt;</th><th scope=col>&lt;dbl&gt;</th><th scope=col>&lt;dbl&gt;</th><th scope=col>&lt;int&gt;</th></tr>\n",
       "</thead>\n",
       "<tbody>\n",
       "\t<tr><td>2013</td><td>1</td><td>1</td><td>5</td><td>15</td><td>517</td></tr>\n",
       "\t<tr><td>2013</td><td>1</td><td>1</td><td>5</td><td>29</td><td>533</td></tr>\n",
       "\t<tr><td>2013</td><td>1</td><td>1</td><td>5</td><td>40</td><td>542</td></tr>\n",
       "\t<tr><td>2013</td><td>1</td><td>1</td><td>5</td><td>45</td><td>544</td></tr>\n",
       "\t<tr><td>2013</td><td>1</td><td>1</td><td>6</td><td> 0</td><td>554</td></tr>\n",
       "\t<tr><td>2013</td><td>1</td><td>1</td><td>5</td><td>58</td><td>554</td></tr>\n",
       "</tbody>\n",
       "</table>\n"
      ],
      "text/latex": [
       "A tibble: 6 × 6\n",
       "\\begin{tabular}{llllll}\n",
       " year & month & day & hour & minute & dep\\_time\\\\\n",
       " <int> & <int> & <int> & <dbl> & <dbl> & <int>\\\\\n",
       "\\hline\n",
       "\t 2013 & 1 & 1 & 5 & 15 & 517\\\\\n",
       "\t 2013 & 1 & 1 & 5 & 29 & 533\\\\\n",
       "\t 2013 & 1 & 1 & 5 & 40 & 542\\\\\n",
       "\t 2013 & 1 & 1 & 5 & 45 & 544\\\\\n",
       "\t 2013 & 1 & 1 & 6 &  0 & 554\\\\\n",
       "\t 2013 & 1 & 1 & 5 & 58 & 554\\\\\n",
       "\\end{tabular}\n"
      ],
      "text/markdown": [
       "\n",
       "A tibble: 6 × 6\n",
       "\n",
       "| year &lt;int&gt; | month &lt;int&gt; | day &lt;int&gt; | hour &lt;dbl&gt; | minute &lt;dbl&gt; | dep_time &lt;int&gt; |\n",
       "|---|---|---|---|---|---|\n",
       "| 2013 | 1 | 1 | 5 | 15 | 517 |\n",
       "| 2013 | 1 | 1 | 5 | 29 | 533 |\n",
       "| 2013 | 1 | 1 | 5 | 40 | 542 |\n",
       "| 2013 | 1 | 1 | 5 | 45 | 544 |\n",
       "| 2013 | 1 | 1 | 6 |  0 | 554 |\n",
       "| 2013 | 1 | 1 | 5 | 58 | 554 |\n",
       "\n"
      ],
      "text/plain": [
       "  year month day hour minute dep_time\n",
       "1 2013 1     1   5    15     517     \n",
       "2 2013 1     1   5    29     533     \n",
       "3 2013 1     1   5    40     542     \n",
       "4 2013 1     1   5    45     544     \n",
       "5 2013 1     1   6     0     554     \n",
       "6 2013 1     1   5    58     554     "
      ]
     },
     "metadata": {},
     "output_type": "display_data"
    }
   ],
   "source": [
    "# individual components\n",
    "flights %>% \n",
    "  select(year, month, day, hour, minute, dep_time) %>%\n",
    "    head()"
   ]
  },
  {
   "cell_type": "code",
   "execution_count": 17,
   "metadata": {},
   "outputs": [
    {
     "data": {
      "text/html": [
       "<table>\n",
       "<caption>A tibble: 6 × 6</caption>\n",
       "<thead>\n",
       "\t<tr><th scope=col>year</th><th scope=col>month</th><th scope=col>day</th><th scope=col>hour</th><th scope=col>minute</th><th scope=col>departure</th></tr>\n",
       "\t<tr><th scope=col>&lt;int&gt;</th><th scope=col>&lt;int&gt;</th><th scope=col>&lt;int&gt;</th><th scope=col>&lt;dbl&gt;</th><th scope=col>&lt;dbl&gt;</th><th scope=col>&lt;dttm&gt;</th></tr>\n",
       "</thead>\n",
       "<tbody>\n",
       "\t<tr><td>2013</td><td>1</td><td>1</td><td>5</td><td>15</td><td>2013-01-01 05:15:00</td></tr>\n",
       "\t<tr><td>2013</td><td>1</td><td>1</td><td>5</td><td>29</td><td>2013-01-01 05:29:00</td></tr>\n",
       "\t<tr><td>2013</td><td>1</td><td>1</td><td>5</td><td>40</td><td>2013-01-01 05:40:00</td></tr>\n",
       "\t<tr><td>2013</td><td>1</td><td>1</td><td>5</td><td>45</td><td>2013-01-01 05:45:00</td></tr>\n",
       "\t<tr><td>2013</td><td>1</td><td>1</td><td>6</td><td> 0</td><td>2013-01-01 06:00:00</td></tr>\n",
       "\t<tr><td>2013</td><td>1</td><td>1</td><td>5</td><td>58</td><td>2013-01-01 05:58:00</td></tr>\n",
       "</tbody>\n",
       "</table>\n"
      ],
      "text/latex": [
       "A tibble: 6 × 6\n",
       "\\begin{tabular}{llllll}\n",
       " year & month & day & hour & minute & departure\\\\\n",
       " <int> & <int> & <int> & <dbl> & <dbl> & <dttm>\\\\\n",
       "\\hline\n",
       "\t 2013 & 1 & 1 & 5 & 15 & 2013-01-01 05:15:00\\\\\n",
       "\t 2013 & 1 & 1 & 5 & 29 & 2013-01-01 05:29:00\\\\\n",
       "\t 2013 & 1 & 1 & 5 & 40 & 2013-01-01 05:40:00\\\\\n",
       "\t 2013 & 1 & 1 & 5 & 45 & 2013-01-01 05:45:00\\\\\n",
       "\t 2013 & 1 & 1 & 6 &  0 & 2013-01-01 06:00:00\\\\\n",
       "\t 2013 & 1 & 1 & 5 & 58 & 2013-01-01 05:58:00\\\\\n",
       "\\end{tabular}\n"
      ],
      "text/markdown": [
       "\n",
       "A tibble: 6 × 6\n",
       "\n",
       "| year &lt;int&gt; | month &lt;int&gt; | day &lt;int&gt; | hour &lt;dbl&gt; | minute &lt;dbl&gt; | departure &lt;dttm&gt; |\n",
       "|---|---|---|---|---|---|\n",
       "| 2013 | 1 | 1 | 5 | 15 | 2013-01-01 05:15:00 |\n",
       "| 2013 | 1 | 1 | 5 | 29 | 2013-01-01 05:29:00 |\n",
       "| 2013 | 1 | 1 | 5 | 40 | 2013-01-01 05:40:00 |\n",
       "| 2013 | 1 | 1 | 5 | 45 | 2013-01-01 05:45:00 |\n",
       "| 2013 | 1 | 1 | 6 |  0 | 2013-01-01 06:00:00 |\n",
       "| 2013 | 1 | 1 | 5 | 58 | 2013-01-01 05:58:00 |\n",
       "\n"
      ],
      "text/plain": [
       "  year month day hour minute departure          \n",
       "1 2013 1     1   5    15     2013-01-01 05:15:00\n",
       "2 2013 1     1   5    29     2013-01-01 05:29:00\n",
       "3 2013 1     1   5    40     2013-01-01 05:40:00\n",
       "4 2013 1     1   5    45     2013-01-01 05:45:00\n",
       "5 2013 1     1   6     0     2013-01-01 06:00:00\n",
       "6 2013 1     1   5    58     2013-01-01 05:58:00"
      ]
     },
     "metadata": {},
     "output_type": "display_data"
    }
   ],
   "source": [
    "# individual components\n",
    "flights %>% \n",
    "  select(year, month, day, hour, minute) %>% \n",
    "  mutate(departure = make_datetime(year, month, day, hour, minute)) %>%\n",
    "head()\n"
   ]
  },
  {
   "cell_type": "code",
   "execution_count": 22,
   "metadata": {},
   "outputs": [
    {
     "data": {
      "text/html": [
       "<table>\n",
       "<caption>A tibble: 6 × 9</caption>\n",
       "<thead>\n",
       "\t<tr><th scope=col>origin</th><th scope=col>dest</th><th scope=col>dep_delay</th><th scope=col>arr_delay</th><th scope=col>dep_time</th><th scope=col>sched_dep_time</th><th scope=col>arr_time</th><th scope=col>sched_arr_time</th><th scope=col>air_time</th></tr>\n",
       "\t<tr><th scope=col>&lt;chr&gt;</th><th scope=col>&lt;chr&gt;</th><th scope=col>&lt;dbl&gt;</th><th scope=col>&lt;dbl&gt;</th><th scope=col>&lt;dttm&gt;</th><th scope=col>&lt;dttm&gt;</th><th scope=col>&lt;dttm&gt;</th><th scope=col>&lt;dttm&gt;</th><th scope=col>&lt;dbl&gt;</th></tr>\n",
       "</thead>\n",
       "<tbody>\n",
       "\t<tr><td>EWR</td><td>IAH</td><td> 2</td><td> 11</td><td>2013-01-01 05:17:00</td><td>2013-01-01 05:15:00</td><td>2013-01-01 08:30:00</td><td>2013-01-01 08:19:00</td><td>227</td></tr>\n",
       "\t<tr><td>LGA</td><td>IAH</td><td> 4</td><td> 20</td><td>2013-01-01 05:33:00</td><td>2013-01-01 05:29:00</td><td>2013-01-01 08:50:00</td><td>2013-01-01 08:30:00</td><td>227</td></tr>\n",
       "\t<tr><td>JFK</td><td>MIA</td><td> 2</td><td> 33</td><td>2013-01-01 05:42:00</td><td>2013-01-01 05:40:00</td><td>2013-01-01 09:23:00</td><td>2013-01-01 08:50:00</td><td>160</td></tr>\n",
       "\t<tr><td>JFK</td><td>BQN</td><td>-1</td><td>-18</td><td>2013-01-01 05:44:00</td><td>2013-01-01 05:45:00</td><td>2013-01-01 10:04:00</td><td>2013-01-01 10:22:00</td><td>183</td></tr>\n",
       "\t<tr><td>LGA</td><td>ATL</td><td>-6</td><td>-25</td><td>2013-01-01 05:54:00</td><td>2013-01-01 06:00:00</td><td>2013-01-01 08:12:00</td><td>2013-01-01 08:37:00</td><td>116</td></tr>\n",
       "\t<tr><td>EWR</td><td>ORD</td><td>-4</td><td> 12</td><td>2013-01-01 05:54:00</td><td>2013-01-01 05:58:00</td><td>2013-01-01 07:40:00</td><td>2013-01-01 07:28:00</td><td>150</td></tr>\n",
       "</tbody>\n",
       "</table>\n"
      ],
      "text/latex": [
       "A tibble: 6 × 9\n",
       "\\begin{tabular}{lllllllll}\n",
       " origin & dest & dep\\_delay & arr\\_delay & dep\\_time & sched\\_dep\\_time & arr\\_time & sched\\_arr\\_time & air\\_time\\\\\n",
       " <chr> & <chr> & <dbl> & <dbl> & <dttm> & <dttm> & <dttm> & <dttm> & <dbl>\\\\\n",
       "\\hline\n",
       "\t EWR & IAH &  2 &  11 & 2013-01-01 05:17:00 & 2013-01-01 05:15:00 & 2013-01-01 08:30:00 & 2013-01-01 08:19:00 & 227\\\\\n",
       "\t LGA & IAH &  4 &  20 & 2013-01-01 05:33:00 & 2013-01-01 05:29:00 & 2013-01-01 08:50:00 & 2013-01-01 08:30:00 & 227\\\\\n",
       "\t JFK & MIA &  2 &  33 & 2013-01-01 05:42:00 & 2013-01-01 05:40:00 & 2013-01-01 09:23:00 & 2013-01-01 08:50:00 & 160\\\\\n",
       "\t JFK & BQN & -1 & -18 & 2013-01-01 05:44:00 & 2013-01-01 05:45:00 & 2013-01-01 10:04:00 & 2013-01-01 10:22:00 & 183\\\\\n",
       "\t LGA & ATL & -6 & -25 & 2013-01-01 05:54:00 & 2013-01-01 06:00:00 & 2013-01-01 08:12:00 & 2013-01-01 08:37:00 & 116\\\\\n",
       "\t EWR & ORD & -4 &  12 & 2013-01-01 05:54:00 & 2013-01-01 05:58:00 & 2013-01-01 07:40:00 & 2013-01-01 07:28:00 & 150\\\\\n",
       "\\end{tabular}\n"
      ],
      "text/markdown": [
       "\n",
       "A tibble: 6 × 9\n",
       "\n",
       "| origin &lt;chr&gt; | dest &lt;chr&gt; | dep_delay &lt;dbl&gt; | arr_delay &lt;dbl&gt; | dep_time &lt;dttm&gt; | sched_dep_time &lt;dttm&gt; | arr_time &lt;dttm&gt; | sched_arr_time &lt;dttm&gt; | air_time &lt;dbl&gt; |\n",
       "|---|---|---|---|---|---|---|---|---|\n",
       "| EWR | IAH |  2 |  11 | 2013-01-01 05:17:00 | 2013-01-01 05:15:00 | 2013-01-01 08:30:00 | 2013-01-01 08:19:00 | 227 |\n",
       "| LGA | IAH |  4 |  20 | 2013-01-01 05:33:00 | 2013-01-01 05:29:00 | 2013-01-01 08:50:00 | 2013-01-01 08:30:00 | 227 |\n",
       "| JFK | MIA |  2 |  33 | 2013-01-01 05:42:00 | 2013-01-01 05:40:00 | 2013-01-01 09:23:00 | 2013-01-01 08:50:00 | 160 |\n",
       "| JFK | BQN | -1 | -18 | 2013-01-01 05:44:00 | 2013-01-01 05:45:00 | 2013-01-01 10:04:00 | 2013-01-01 10:22:00 | 183 |\n",
       "| LGA | ATL | -6 | -25 | 2013-01-01 05:54:00 | 2013-01-01 06:00:00 | 2013-01-01 08:12:00 | 2013-01-01 08:37:00 | 116 |\n",
       "| EWR | ORD | -4 |  12 | 2013-01-01 05:54:00 | 2013-01-01 05:58:00 | 2013-01-01 07:40:00 | 2013-01-01 07:28:00 | 150 |\n",
       "\n"
      ],
      "text/plain": [
       "  origin dest dep_delay arr_delay dep_time            sched_dep_time     \n",
       "1 EWR    IAH   2         11       2013-01-01 05:17:00 2013-01-01 05:15:00\n",
       "2 LGA    IAH   4         20       2013-01-01 05:33:00 2013-01-01 05:29:00\n",
       "3 JFK    MIA   2         33       2013-01-01 05:42:00 2013-01-01 05:40:00\n",
       "4 JFK    BQN  -1        -18       2013-01-01 05:44:00 2013-01-01 05:45:00\n",
       "5 LGA    ATL  -6        -25       2013-01-01 05:54:00 2013-01-01 06:00:00\n",
       "6 EWR    ORD  -4         12       2013-01-01 05:54:00 2013-01-01 05:58:00\n",
       "  arr_time            sched_arr_time      air_time\n",
       "1 2013-01-01 08:30:00 2013-01-01 08:19:00 227     \n",
       "2 2013-01-01 08:50:00 2013-01-01 08:30:00 227     \n",
       "3 2013-01-01 09:23:00 2013-01-01 08:50:00 160     \n",
       "4 2013-01-01 10:04:00 2013-01-01 10:22:00 183     \n",
       "5 2013-01-01 08:12:00 2013-01-01 08:37:00 116     \n",
       "6 2013-01-01 07:40:00 2013-01-01 07:28:00 150     "
      ]
     },
     "metadata": {},
     "output_type": "display_data"
    }
   ],
   "source": [
    "make_datetime_100 <- function(year, month, day, time) {\n",
    "  make_datetime(year, month, day, time %/% 100, time %% 100)\n",
    "}\n",
    "\n",
    "(flights_dt <- flights %>% \n",
    "  filter(!is.na(dep_time), !is.na(arr_time)) %>% \n",
    "  mutate(\n",
    "    dep_time = make_datetime_100(year, month, day, dep_time),\n",
    "    arr_time = make_datetime_100(year, month, day, arr_time),\n",
    "    sched_dep_time = make_datetime_100(year, month, day, sched_dep_time),\n",
    "    sched_arr_time = make_datetime_100(year, month, day, sched_arr_time)\n",
    "  ) %>% \n",
    "  select(origin, dest, ends_with(\"delay\"), ends_with(\"time\"))) %>%\n",
    "    head()\n"
   ]
  },
  {
   "cell_type": "code",
   "execution_count": 23,
   "metadata": {},
   "outputs": [
    {
     "data": {
      "image/png": "[encoded data removed]",
      "text/plain": [
       "plot without title"
      ]
     },
     "metadata": {
      "image/png": {
       "height": 420,
       "width": 420
      },
      "text/plain": {
       "height": 420,
       "width": 420
      }
     },
     "output_type": "display_data"
    }
   ],
   "source": [
    "flights_dt %>% \n",
    "  ggplot(aes(dep_time)) + \n",
    "  geom_freqpoly(binwidth = 86400) # 86400 seconds = 1 day"
   ]
  },
  {
   "cell_type": "code",
   "execution_count": 24,
   "metadata": {},
   "outputs": [
    {
     "data": {
      "image/png": "[encoded data removed]",
      "text/plain": [
       "plot without title"
      ]
     },
     "metadata": {
      "image/png": {
       "height": 420,
       "width": 420
      },
      "text/plain": {
       "height": 420,
       "width": 420
      }
     },
     "output_type": "display_data"
    }
   ],
   "source": [
    "flights_dt %>% \n",
    "  filter(dep_time < ymd(20130102)) %>% \n",
    "  ggplot(aes(dep_time)) + \n",
    "  geom_freqpoly(binwidth = 600) # 600 s = 10 minutes"
   ]
  },
  {
   "cell_type": "code",
   "execution_count": 26,
   "metadata": {},
   "outputs": [
    {
     "data": {
      "text/plain": [
       "[1] \"2020-03-22 UTC\""
      ]
     },
     "metadata": {},
     "output_type": "display_data"
    },
    {
     "data": {
      "text/html": [
       "<time datetime=\"2020-03-22\">2020-03-22</time>"
      ],
      "text/latex": [
       "2020-03-22"
      ],
      "text/markdown": [
       "2020-03-22"
      ],
      "text/plain": [
       "[1] \"2020-03-22\""
      ]
     },
     "metadata": {},
     "output_type": "display_data"
    }
   ],
   "source": [
    "as_datetime(today())\n",
    "as_date(now())"
   ]
  },
  {
   "cell_type": "code",
   "execution_count": 27,
   "metadata": {},
   "outputs": [
    {
     "data": {
      "text/plain": [
       "[1] \"1970-01-01 10:00:00 UTC\""
      ]
     },
     "metadata": {},
     "output_type": "display_data"
    },
    {
     "data": {
      "text/html": [
       "<time datetime=\"1980-01-01\">1980-01-01</time>"
      ],
      "text/latex": [
       "1980-01-01"
      ],
      "text/markdown": [
       "1980-01-01"
      ],
      "text/plain": [
       "[1] \"1980-01-01\""
      ]
     },
     "metadata": {},
     "output_type": "display_data"
    }
   ],
   "source": [
    "as_datetime(60 * 60 * 10)\n",
    "as_date(365 * 10 + 2)"
   ]
  },
  {
   "cell_type": "code",
   "execution_count": 28,
   "metadata": {},
   "outputs": [
    {
     "name": "stderr",
     "output_type": "stream",
     "text": [
      "Warning message:\n",
      "“ 1 failed to parse.”\n"
     ]
    },
    {
     "data": {
      "text/html": [
       "<style>\n",
       ".list-inline {list-style: none; margin:0; padding: 0}\n",
       ".list-inline>li {display: inline-block}\n",
       ".list-inline>li:not(:last-child)::after {content: \"\\00b7\"; padding: 0 .5ex}\n",
       "</style>\n",
       "<ol class=list-inline><li><time datetime=\"2010-10-10\">2010-10-10</time></li><li><time datetime=\"&lt;NA&gt;\">&lt;NA&gt;</time></li></ol>\n"
      ],
      "text/latex": [
       "\\begin{enumerate*}\n",
       "\\item 2010-10-10\n",
       "\\item <NA>\n",
       "\\end{enumerate*}\n"
      ],
      "text/markdown": [
       "1. 2010-10-10\n",
       "2. &lt;NA&gt;\n",
       "\n",
       "\n"
      ],
      "text/plain": [
       "[1] \"2010-10-10\" NA          "
      ]
     },
     "metadata": {},
     "output_type": "display_data"
    }
   ],
   "source": [
    "ymd(c(\"2010-10-10\", \"bananas\"))"
   ]
  },
  {
   "cell_type": "code",
   "execution_count": 29,
   "metadata": {},
   "outputs": [],
   "source": [
    "d1 <- \"January 1, 2010\"\n",
    "d2 <- \"2015-Mar-07\"\n",
    "d3 <- \"06-Jun-2017\"\n",
    "d4 <- c(\"August 19 (2015)\", \"July 1 (2015)\")\n",
    "d5 <- \"12/30/14\" # Dec 30, 2014"
   ]
  },
  {
   "cell_type": "code",
   "execution_count": 44,
   "metadata": {},
   "outputs": [
    {
     "data": {
      "text/html": [
       "<time datetime=\"2010-01-01\">2010-01-01</time>"
      ],
      "text/latex": [
       "2010-01-01"
      ],
      "text/markdown": [
       "2010-01-01"
      ],
      "text/plain": [
       "[1] \"2010-01-01\""
      ]
     },
     "metadata": {},
     "output_type": "display_data"
    },
    {
     "data": {
      "text/html": [
       "<time datetime=\"2015-03-07\">2015-03-07</time>"
      ],
      "text/latex": [
       "2015-03-07"
      ],
      "text/markdown": [
       "2015-03-07"
      ],
      "text/plain": [
       "[1] \"2015-03-07\""
      ]
     },
     "metadata": {},
     "output_type": "display_data"
    },
    {
     "data": {
      "text/html": [
       "<time datetime=\"2017-06-06\">2017-06-06</time>"
      ],
      "text/latex": [
       "2017-06-06"
      ],
      "text/markdown": [
       "2017-06-06"
      ],
      "text/plain": [
       "[1] \"2017-06-06\""
      ]
     },
     "metadata": {},
     "output_type": "display_data"
    },
    {
     "data": {
      "text/html": [
       "<style>\n",
       ".list-inline {list-style: none; margin:0; padding: 0}\n",
       ".list-inline>li {display: inline-block}\n",
       ".list-inline>li:not(:last-child)::after {content: \"\\00b7\"; padding: 0 .5ex}\n",
       "</style>\n",
       "<ol class=list-inline><li><time datetime=\"2015-08-19\">2015-08-19</time></li><li><time datetime=\"2015-07-01\">2015-07-01</time></li></ol>\n"
      ],
      "text/latex": [
       "\\begin{enumerate*}\n",
       "\\item 2015-08-19\n",
       "\\item 2015-07-01\n",
       "\\end{enumerate*}\n"
      ],
      "text/markdown": [
       "1. 2015-08-19\n",
       "2. 2015-07-01\n",
       "\n",
       "\n"
      ],
      "text/plain": [
       "[1] \"2015-08-19\" \"2015-07-01\""
      ]
     },
     "metadata": {},
     "output_type": "display_data"
    },
    {
     "data": {
      "text/html": [
       "<time datetime=\"2014-12-30\">2014-12-30</time>"
      ],
      "text/latex": [
       "2014-12-30"
      ],
      "text/markdown": [
       "2014-12-30"
      ],
      "text/plain": [
       "[1] \"2014-12-30\""
      ]
     },
     "metadata": {},
     "output_type": "display_data"
    }
   ],
   "source": [
    "mdy(d1)\n",
    "ymd(d2)\n",
    "dmy(d3)\n",
    "mdy(d4)\n",
    "mdy(d5)"
   ]
  },
  {
   "cell_type": "code",
   "execution_count": 45,
   "metadata": {},
   "outputs": [
    {
     "data": {
      "text/html": [
       "2016"
      ],
      "text/latex": [
       "2016"
      ],
      "text/markdown": [
       "2016"
      ],
      "text/plain": [
       "[1] 2016"
      ]
     },
     "metadata": {},
     "output_type": "display_data"
    },
    {
     "data": {
      "text/html": [
       "7"
      ],
      "text/latex": [
       "7"
      ],
      "text/markdown": [
       "7"
      ],
      "text/plain": [
       "[1] 7"
      ]
     },
     "metadata": {},
     "output_type": "display_data"
    },
    {
     "data": {
      "text/html": [
       "8"
      ],
      "text/latex": [
       "8"
      ],
      "text/markdown": [
       "8"
      ],
      "text/plain": [
       "[1] 8"
      ]
     },
     "metadata": {},
     "output_type": "display_data"
    },
    {
     "data": {
      "text/html": [
       "190"
      ],
      "text/latex": [
       "190"
      ],
      "text/markdown": [
       "190"
      ],
      "text/plain": [
       "[1] 190"
      ]
     },
     "metadata": {},
     "output_type": "display_data"
    },
    {
     "data": {
      "text/html": [
       "6"
      ],
      "text/latex": [
       "6"
      ],
      "text/markdown": [
       "6"
      ],
      "text/plain": [
       "[1] 6"
      ]
     },
     "metadata": {},
     "output_type": "display_data"
    }
   ],
   "source": [
    "datetime <- ymd_hms(\"2016-07-08 12:34:56\")\n",
    "\n",
    "year(datetime)\n",
    "month(datetime)\n",
    "mday(datetime)\n",
    "yday(datetime)\n",
    "wday(datetime)\n"
   ]
  },
  {
   "cell_type": "code",
   "execution_count": 46,
   "metadata": {},
   "outputs": [
    {
     "data": {
      "text/html": [
       "Jul\n",
       "<details>\n",
       "\t<summary style=display:list-item;cursor:pointer>\n",
       "\t\t<strong>Levels</strong>:\n",
       "\t</summary>\n",
       "\t<style>\n",
       "\t.list-inline {list-style: none; margin:0; padding: 0}\n",
       "\t.list-inline>li {display: inline-block}\n",
       "\t.list-inline>li:not(:last-child)::after {content: \"\\00b7\"; padding: 0 .5ex}\n",
       "\t</style>\n",
       "\t<ol class=list-inline><li>'Jan'</li><li>'Feb'</li><li>'Mar'</li><li>'Apr'</li><li>'May'</li><li>'Jun'</li><li>'Jul'</li><li>'Aug'</li><li>'Sep'</li><li>'Oct'</li><li>'Nov'</li><li>'Dec'</li></ol>\n",
       "</details>"
      ],
      "text/latex": [
       "Jul\n",
       "\\emph{Levels}: \\begin{enumerate*}\n",
       "\\item 'Jan'\n",
       "\\item 'Feb'\n",
       "\\item 'Mar'\n",
       "\\item 'Apr'\n",
       "\\item 'May'\n",
       "\\item 'Jun'\n",
       "\\item 'Jul'\n",
       "\\item 'Aug'\n",
       "\\item 'Sep'\n",
       "\\item 'Oct'\n",
       "\\item 'Nov'\n",
       "\\item 'Dec'\n",
       "\\end{enumerate*}\n"
      ],
      "text/markdown": [
       "Jul\n",
       "**Levels**: 1. 'Jan'\n",
       "2. 'Feb'\n",
       "3. 'Mar'\n",
       "4. 'Apr'\n",
       "5. 'May'\n",
       "6. 'Jun'\n",
       "7. 'Jul'\n",
       "8. 'Aug'\n",
       "9. 'Sep'\n",
       "10. 'Oct'\n",
       "11. 'Nov'\n",
       "12. 'Dec'\n",
       "\n",
       "\n"
      ],
      "text/plain": [
       "[1] Jul\n",
       "12 Levels: Jan < Feb < Mar < Apr < May < Jun < Jul < Aug < Sep < ... < Dec"
      ]
     },
     "metadata": {},
     "output_type": "display_data"
    },
    {
     "data": {
      "text/html": [
       "Friday\n",
       "<details>\n",
       "\t<summary style=display:list-item;cursor:pointer>\n",
       "\t\t<strong>Levels</strong>:\n",
       "\t</summary>\n",
       "\t<style>\n",
       "\t.list-inline {list-style: none; margin:0; padding: 0}\n",
       "\t.list-inline>li {display: inline-block}\n",
       "\t.list-inline>li:not(:last-child)::after {content: \"\\00b7\"; padding: 0 .5ex}\n",
       "\t</style>\n",
       "\t<ol class=list-inline><li>'Sunday'</li><li>'Monday'</li><li>'Tuesday'</li><li>'Wednesday'</li><li>'Thursday'</li><li>'Friday'</li><li>'Saturday'</li></ol>\n",
       "</details>"
      ],
      "text/latex": [
       "Friday\n",
       "\\emph{Levels}: \\begin{enumerate*}\n",
       "\\item 'Sunday'\n",
       "\\item 'Monday'\n",
       "\\item 'Tuesday'\n",
       "\\item 'Wednesday'\n",
       "\\item 'Thursday'\n",
       "\\item 'Friday'\n",
       "\\item 'Saturday'\n",
       "\\end{enumerate*}\n"
      ],
      "text/markdown": [
       "Friday\n",
       "**Levels**: 1. 'Sunday'\n",
       "2. 'Monday'\n",
       "3. 'Tuesday'\n",
       "4. 'Wednesday'\n",
       "5. 'Thursday'\n",
       "6. 'Friday'\n",
       "7. 'Saturday'\n",
       "\n",
       "\n"
      ],
      "text/plain": [
       "[1] Friday\n",
       "7 Levels: Sunday < Monday < Tuesday < Wednesday < Thursday < ... < Saturday"
      ]
     },
     "metadata": {},
     "output_type": "display_data"
    }
   ],
   "source": [
    "month(datetime, label = TRUE)\n",
    "\n",
    "wday(datetime, label = TRUE, abbr = FALSE)\n"
   ]
  },
  {
   "cell_type": "code",
   "execution_count": 48,
   "metadata": {},
   "outputs": [
    {
     "data": {
      "image/png": "[encoded data removed]",
      "text/plain": [
       "plot without title"
      ]
     },
     "metadata": {
      "image/png": {
       "height": 420,
       "width": 420
      },
      "text/plain": {
       "height": 420,
       "width": 420
      }
     },
     "output_type": "display_data"
    }
   ],
   "source": [
    "flights_dt %>% \n",
    "  mutate(wday = wday(dep_time, label = TRUE)) %>% \n",
    "  ggplot(aes(x = wday)) +\n",
    "    geom_bar()"
   ]
  },
  {
   "cell_type": "code",
   "execution_count": 47,
   "metadata": {},
   "outputs": [
    {
     "data": {
      "image/png": "[encoded data removed]",
      "text/plain": [
       "plot without title"
      ]
     },
     "metadata": {
      "image/png": {
       "height": 420,
       "width": 420
      },
      "text/plain": {
       "height": 420,
       "width": 420
      }
     },
     "output_type": "display_data"
    }
   ],
   "source": [
    "flights_dt %>% \n",
    "  mutate(minute = minute(dep_time)) %>% \n",
    "  group_by(minute) %>% \n",
    "  summarise(\n",
    "    avg_delay = mean(arr_delay, na.rm = TRUE),\n",
    "    n = n()) %>% \n",
    "  ggplot(aes(minute, avg_delay)) +\n",
    "    geom_line()"
   ]
  },
  {
   "cell_type": "code",
   "execution_count": 49,
   "metadata": {},
   "outputs": [
    {
     "data": {
      "image/png": "[encoded data removed]",
      "text/plain": [
       "plot without title"
      ]
     },
     "metadata": {
      "image/png": {
       "height": 420,
       "width": 420
      },
      "text/plain": {
       "height": 420,
       "width": 420
      }
     },
     "output_type": "display_data"
    }
   ],
   "source": [
    "sched_dep <- flights_dt %>% \n",
    "  mutate(minute = minute(sched_dep_time)) %>% \n",
    "  group_by(minute) %>% \n",
    "  summarise(\n",
    "    avg_delay = mean(arr_delay, na.rm = TRUE),\n",
    "    n = n())\n",
    "\n",
    "ggplot(sched_dep, aes(minute, avg_delay)) +\n",
    "  geom_line()"
   ]
  },
  {
   "cell_type": "code",
   "execution_count": 50,
   "metadata": {},
   "outputs": [
    {
     "data": {
      "text/plain": [
       "[1] \"2016-07-08 12:34:56 UTC\""
      ]
     },
     "metadata": {},
     "output_type": "display_data"
    },
    {
     "data": {
      "text/plain": [
       "[1] \"2020-07-08 12:34:56 UTC\""
      ]
     },
     "metadata": {},
     "output_type": "display_data"
    },
    {
     "data": {
      "text/plain": [
       "[1] \"2020-01-08 12:34:56 UTC\""
      ]
     },
     "metadata": {},
     "output_type": "display_data"
    },
    {
     "data": {
      "text/plain": [
       "[1] \"2020-01-08 13:34:56 UTC\""
      ]
     },
     "metadata": {},
     "output_type": "display_data"
    }
   ],
   "source": [
    "(datetime <- ymd_hms(\"2016-07-08 12:34:56\"))\n",
    "\n",
    "year(datetime) <- 2020\n",
    "datetime\n",
    "month(datetime) <- 01\n",
    "datetime\n",
    "hour(datetime) <- hour(datetime) + 1\n",
    "datetime\n"
   ]
  },
  {
   "cell_type": "code",
   "execution_count": 51,
   "metadata": {},
   "outputs": [
    {
     "data": {
      "text/plain": [
       "[1] \"2020-02-02 02:34:56 UTC\""
      ]
     },
     "metadata": {},
     "output_type": "display_data"
    }
   ],
   "source": [
    "update(datetime, year = 2020, month = 2, mday = 2, hour = 2)\n"
   ]
  },
  {
   "cell_type": "code",
   "execution_count": 52,
   "metadata": {},
   "outputs": [
    {
     "data": {
      "text/plain": [
       "[1] \"2015-03-18 16:00:00 UTC\""
      ]
     },
     "metadata": {},
     "output_type": "display_data"
    }
   ],
   "source": [
    "ymd(\"2015-02-01\") %>% \n",
    "  update(mday = 30) %>% \n",
    "  update(hour = 400)"
   ]
  },
  {
   "cell_type": "code",
   "execution_count": 53,
   "metadata": {},
   "outputs": [
    {
     "data": {
      "text/plain": [
       "Time difference of 14770 days"
      ]
     },
     "metadata": {},
     "output_type": "display_data"
    },
    {
     "data": {
      "text/html": [
       "1276128000s (~40.44 years)"
      ],
      "text/latex": [
       "1276128000s (\\textasciitilde{}40.44 years)"
      ],
      "text/markdown": [
       "1276128000s (~40.44 years)"
      ],
      "text/plain": [
       "[1] \"1276128000s (~40.44 years)\""
      ]
     },
     "metadata": {},
     "output_type": "display_data"
    }
   ],
   "source": [
    "(h_age <- today() - ymd(19791014))\n",
    "as.duration(h_age)\n",
    "\n"
   ]
  },
  {
   "cell_type": "code",
   "execution_count": 54,
   "metadata": {},
   "outputs": [
    {
     "data": {
      "text/html": [
       "15s"
      ],
      "text/latex": [
       "15s"
      ],
      "text/markdown": [
       "15s"
      ],
      "text/plain": [
       "[1] \"15s\""
      ]
     },
     "metadata": {},
     "output_type": "display_data"
    },
    {
     "data": {
      "text/html": [
       "600s (~10 minutes)"
      ],
      "text/latex": [
       "600s (\\textasciitilde{}10 minutes)"
      ],
      "text/markdown": [
       "600s (~10 minutes)"
      ],
      "text/plain": [
       "[1] \"600s (~10 minutes)\""
      ]
     },
     "metadata": {},
     "output_type": "display_data"
    },
    {
     "data": {
      "text/html": [
       "<style>\n",
       ".list-inline {list-style: none; margin:0; padding: 0}\n",
       ".list-inline>li {display: inline-block}\n",
       ".list-inline>li:not(:last-child)::after {content: \"\\00b7\"; padding: 0 .5ex}\n",
       "</style>\n",
       "<ol class=list-inline><li>43200s (~12 hours)</li><li>86400s (~1 days)</li></ol>\n"
      ],
      "text/latex": [
       "\\begin{enumerate*}\n",
       "\\item 43200s (\\textasciitilde{}12 hours)\n",
       "\\item 86400s (\\textasciitilde{}1 days)\n",
       "\\end{enumerate*}\n"
      ],
      "text/markdown": [
       "1. 43200s (~12 hours)\n",
       "2. 86400s (~1 days)\n",
       "\n",
       "\n"
      ],
      "text/plain": [
       "[1] \"43200s (~12 hours)\" \"86400s (~1 days)\"  "
      ]
     },
     "metadata": {},
     "output_type": "display_data"
    },
    {
     "data": {
      "text/html": [
       "<style>\n",
       ".list-inline {list-style: none; margin:0; padding: 0}\n",
       ".list-inline>li {display: inline-block}\n",
       ".list-inline>li:not(:last-child)::after {content: \"\\00b7\"; padding: 0 .5ex}\n",
       "</style>\n",
       "<ol class=list-inline><li>0s</li><li>86400s (~1 days)</li><li>172800s (~2 days)</li><li>259200s (~3 days)</li><li>345600s (~4 days)</li><li>432000s (~5 days)</li></ol>\n"
      ],
      "text/latex": [
       "\\begin{enumerate*}\n",
       "\\item 0s\n",
       "\\item 86400s (\\textasciitilde{}1 days)\n",
       "\\item 172800s (\\textasciitilde{}2 days)\n",
       "\\item 259200s (\\textasciitilde{}3 days)\n",
       "\\item 345600s (\\textasciitilde{}4 days)\n",
       "\\item 432000s (\\textasciitilde{}5 days)\n",
       "\\end{enumerate*}\n"
      ],
      "text/markdown": [
       "1. 0s\n",
       "2. 86400s (~1 days)\n",
       "3. 172800s (~2 days)\n",
       "4. 259200s (~3 days)\n",
       "5. 345600s (~4 days)\n",
       "6. 432000s (~5 days)\n",
       "\n",
       "\n"
      ],
      "text/plain": [
       "[1] \"0s\"                \"86400s (~1 days)\"  \"172800s (~2 days)\"\n",
       "[4] \"259200s (~3 days)\" \"345600s (~4 days)\" \"432000s (~5 days)\""
      ]
     },
     "metadata": {},
     "output_type": "display_data"
    },
    {
     "data": {
      "text/html": [
       "1814400s (~3 weeks)"
      ],
      "text/latex": [
       "1814400s (\\textasciitilde{}3 weeks)"
      ],
      "text/markdown": [
       "1814400s (~3 weeks)"
      ],
      "text/plain": [
       "[1] \"1814400s (~3 weeks)\""
      ]
     },
     "metadata": {},
     "output_type": "display_data"
    },
    {
     "data": {
      "text/html": [
       "31536000s (~52.14 weeks)"
      ],
      "text/latex": [
       "31536000s (\\textasciitilde{}52.14 weeks)"
      ],
      "text/markdown": [
       "31536000s (~52.14 weeks)"
      ],
      "text/plain": [
       "[1] \"31536000s (~52.14 weeks)\""
      ]
     },
     "metadata": {},
     "output_type": "display_data"
    }
   ],
   "source": [
    "dseconds(15)\n",
    "dminutes(10)\n",
    "dhours(c(12, 24))\n",
    "ddays(0:5)\n",
    "dweeks(3)\n",
    "dyears(1)\n"
   ]
  },
  {
   "cell_type": "code",
   "execution_count": 57,
   "metadata": {},
   "outputs": [
    {
     "data": {
      "text/html": [
       "<time datetime=\"2020-03-23\">2020-03-23</time>"
      ],
      "text/latex": [
       "2020-03-23"
      ],
      "text/markdown": [
       "2020-03-23"
      ],
      "text/plain": [
       "[1] \"2020-03-23\""
      ]
     },
     "metadata": {},
     "output_type": "display_data"
    },
    {
     "data": {
      "text/html": [
       "<time datetime=\"2019-03-23\">2019-03-23</time>"
      ],
      "text/latex": [
       "2019-03-23"
      ],
      "text/markdown": [
       "2019-03-23"
      ],
      "text/plain": [
       "[1] \"2019-03-23\""
      ]
     },
     "metadata": {},
     "output_type": "display_data"
    }
   ],
   "source": [
    "(tomorrow <- today() + ddays(1))\n",
    "\n",
    "(last_year <- today() - dyears(1))\n"
   ]
  },
  {
   "cell_type": "code",
   "execution_count": 58,
   "metadata": {},
   "outputs": [
    {
     "data": {
      "text/html": [
       "15S"
      ],
      "text/latex": [
       "15S"
      ],
      "text/markdown": [
       "15S"
      ],
      "text/plain": [
       "[1] \"15S\""
      ]
     },
     "metadata": {},
     "output_type": "display_data"
    },
    {
     "data": {
      "text/html": [
       "10M 0S"
      ],
      "text/latex": [
       "10M 0S"
      ],
      "text/markdown": [
       "10M 0S"
      ],
      "text/plain": [
       "[1] \"10M 0S\""
      ]
     },
     "metadata": {},
     "output_type": "display_data"
    },
    {
     "data": {
      "text/html": [
       "<style>\n",
       ".list-inline {list-style: none; margin:0; padding: 0}\n",
       ".list-inline>li {display: inline-block}\n",
       ".list-inline>li:not(:last-child)::after {content: \"\\00b7\"; padding: 0 .5ex}\n",
       "</style>\n",
       "<ol class=list-inline><li>12H 0M 0S</li><li>24H 0M 0S</li></ol>\n"
      ],
      "text/latex": [
       "\\begin{enumerate*}\n",
       "\\item 12H 0M 0S\n",
       "\\item 24H 0M 0S\n",
       "\\end{enumerate*}\n"
      ],
      "text/markdown": [
       "1. 12H 0M 0S\n",
       "2. 24H 0M 0S\n",
       "\n",
       "\n"
      ],
      "text/plain": [
       "[1] \"12H 0M 0S\" \"24H 0M 0S\""
      ]
     },
     "metadata": {},
     "output_type": "display_data"
    },
    {
     "data": {
      "text/html": [
       "7d 0H 0M 0S"
      ],
      "text/latex": [
       "7d 0H 0M 0S"
      ],
      "text/markdown": [
       "7d 0H 0M 0S"
      ],
      "text/plain": [
       "[1] \"7d 0H 0M 0S\""
      ]
     },
     "metadata": {},
     "output_type": "display_data"
    },
    {
     "data": {
      "text/html": [
       "<style>\n",
       ".list-inline {list-style: none; margin:0; padding: 0}\n",
       ".list-inline>li {display: inline-block}\n",
       ".list-inline>li:not(:last-child)::after {content: \"\\00b7\"; padding: 0 .5ex}\n",
       "</style>\n",
       "<ol class=list-inline><li>1m 0d 0H 0M 0S</li><li>2m 0d 0H 0M 0S</li><li>3m 0d 0H 0M 0S</li><li>4m 0d 0H 0M 0S</li><li>5m 0d 0H 0M 0S</li><li>6m 0d 0H 0M 0S</li></ol>\n"
      ],
      "text/latex": [
       "\\begin{enumerate*}\n",
       "\\item 1m 0d 0H 0M 0S\n",
       "\\item 2m 0d 0H 0M 0S\n",
       "\\item 3m 0d 0H 0M 0S\n",
       "\\item 4m 0d 0H 0M 0S\n",
       "\\item 5m 0d 0H 0M 0S\n",
       "\\item 6m 0d 0H 0M 0S\n",
       "\\end{enumerate*}\n"
      ],
      "text/markdown": [
       "1. 1m 0d 0H 0M 0S\n",
       "2. 2m 0d 0H 0M 0S\n",
       "3. 3m 0d 0H 0M 0S\n",
       "4. 4m 0d 0H 0M 0S\n",
       "5. 5m 0d 0H 0M 0S\n",
       "6. 6m 0d 0H 0M 0S\n",
       "\n",
       "\n"
      ],
      "text/plain": [
       "[1] \"1m 0d 0H 0M 0S\" \"2m 0d 0H 0M 0S\" \"3m 0d 0H 0M 0S\" \"4m 0d 0H 0M 0S\"\n",
       "[5] \"5m 0d 0H 0M 0S\" \"6m 0d 0H 0M 0S\""
      ]
     },
     "metadata": {},
     "output_type": "display_data"
    },
    {
     "data": {
      "text/html": [
       "21d 0H 0M 0S"
      ],
      "text/latex": [
       "21d 0H 0M 0S"
      ],
      "text/markdown": [
       "21d 0H 0M 0S"
      ],
      "text/plain": [
       "[1] \"21d 0H 0M 0S\""
      ]
     },
     "metadata": {},
     "output_type": "display_data"
    },
    {
     "data": {
      "text/html": [
       "1y 0m 0d 0H 0M 0S"
      ],
      "text/latex": [
       "1y 0m 0d 0H 0M 0S"
      ],
      "text/markdown": [
       "1y 0m 0d 0H 0M 0S"
      ],
      "text/plain": [
       "[1] \"1y 0m 0d 0H 0M 0S\""
      ]
     },
     "metadata": {},
     "output_type": "display_data"
    }
   ],
   "source": [
    "seconds(15)\n",
    "minutes(10)\n",
    "hours(c(12, 24))\n",
    "days(7)\n",
    "months(1:6)\n",
    "weeks(3)\n",
    "years(1)"
   ]
  },
  {
   "cell_type": "code",
   "execution_count": 61,
   "metadata": {},
   "outputs": [
    {
     "data": {
      "text/html": [
       "<time datetime=\"2016-12-31\">2016-12-31</time>"
      ],
      "text/latex": [
       "2016-12-31"
      ],
      "text/markdown": [
       "2016-12-31"
      ],
      "text/plain": [
       "[1] \"2016-12-31\""
      ]
     },
     "metadata": {},
     "output_type": "display_data"
    },
    {
     "data": {
      "text/html": [
       "<time datetime=\"2017-01-01\">2017-01-01</time>"
      ],
      "text/latex": [
       "2017-01-01"
      ],
      "text/markdown": [
       "2017-01-01"
      ],
      "text/plain": [
       "[1] \"2017-01-01\""
      ]
     },
     "metadata": {},
     "output_type": "display_data"
    },
    {
     "data": {
      "text/plain": [
       "[1] \"2016-03-13 14:00:00 EDT\""
      ]
     },
     "metadata": {},
     "output_type": "display_data"
    },
    {
     "data": {
      "text/plain": [
       "[1] \"2016-03-13 13:00:00 EDT\""
      ]
     },
     "metadata": {},
     "output_type": "display_data"
    }
   ],
   "source": [
    "# A leap year\n",
    "one_pm <- ymd_hms(\"2016-03-12 13:00:00\", tz = \"America/New_York\")\n",
    "\n",
    "ymd(\"2016-01-01\") + dyears(1)\n",
    "ymd(\"2016-01-01\") + years(1)\n",
    "\n",
    "# Daylight Savings Time\n",
    "\n",
    "one_pm + ddays(1) # add 24 hr\n",
    "\n",
    "one_pm + days(1) # add 23 hr\n"
   ]
  },
  {
   "cell_type": "code",
   "execution_count": 63,
   "metadata": {},
   "outputs": [
    {
     "data": {
      "text/html": [
       "<table>\n",
       "<caption>A tibble: 6 × 10</caption>\n",
       "<thead>\n",
       "\t<tr><th scope=col>origin</th><th scope=col>dest</th><th scope=col>dep_delay</th><th scope=col>arr_delay</th><th scope=col>dep_time</th><th scope=col>sched_dep_time</th><th scope=col>arr_time</th><th scope=col>sched_arr_time</th><th scope=col>air_time</th><th scope=col>overnight</th></tr>\n",
       "\t<tr><th scope=col>&lt;chr&gt;</th><th scope=col>&lt;chr&gt;</th><th scope=col>&lt;dbl&gt;</th><th scope=col>&lt;dbl&gt;</th><th scope=col>&lt;dttm&gt;</th><th scope=col>&lt;dttm&gt;</th><th scope=col>&lt;dttm&gt;</th><th scope=col>&lt;dttm&gt;</th><th scope=col>&lt;dbl&gt;</th><th scope=col>&lt;lgl&gt;</th></tr>\n",
       "</thead>\n",
       "<tbody>\n",
       "\t<tr><td>EWR</td><td>IAH</td><td> 2</td><td> 11</td><td>2013-01-01 05:17:00</td><td>2013-01-01 05:15:00</td><td>2013-01-01 08:30:00</td><td>2013-01-01 08:19:00</td><td>227</td><td>FALSE</td></tr>\n",
       "\t<tr><td>LGA</td><td>IAH</td><td> 4</td><td> 20</td><td>2013-01-01 05:33:00</td><td>2013-01-01 05:29:00</td><td>2013-01-01 08:50:00</td><td>2013-01-01 08:30:00</td><td>227</td><td>FALSE</td></tr>\n",
       "\t<tr><td>JFK</td><td>MIA</td><td> 2</td><td> 33</td><td>2013-01-01 05:42:00</td><td>2013-01-01 05:40:00</td><td>2013-01-01 09:23:00</td><td>2013-01-01 08:50:00</td><td>160</td><td>FALSE</td></tr>\n",
       "\t<tr><td>JFK</td><td>BQN</td><td>-1</td><td>-18</td><td>2013-01-01 05:44:00</td><td>2013-01-01 05:45:00</td><td>2013-01-01 10:04:00</td><td>2013-01-01 10:22:00</td><td>183</td><td>FALSE</td></tr>\n",
       "\t<tr><td>LGA</td><td>ATL</td><td>-6</td><td>-25</td><td>2013-01-01 05:54:00</td><td>2013-01-01 06:00:00</td><td>2013-01-01 08:12:00</td><td>2013-01-01 08:37:00</td><td>116</td><td>FALSE</td></tr>\n",
       "\t<tr><td>EWR</td><td>ORD</td><td>-4</td><td> 12</td><td>2013-01-01 05:54:00</td><td>2013-01-01 05:58:00</td><td>2013-01-01 07:40:00</td><td>2013-01-01 07:28:00</td><td>150</td><td>FALSE</td></tr>\n",
       "</tbody>\n",
       "</table>\n"
      ],
      "text/latex": [
       "A tibble: 6 × 10\n",
       "\\begin{tabular}{llllllllll}\n",
       " origin & dest & dep\\_delay & arr\\_delay & dep\\_time & sched\\_dep\\_time & arr\\_time & sched\\_arr\\_time & air\\_time & overnight\\\\\n",
       " <chr> & <chr> & <dbl> & <dbl> & <dttm> & <dttm> & <dttm> & <dttm> & <dbl> & <lgl>\\\\\n",
       "\\hline\n",
       "\t EWR & IAH &  2 &  11 & 2013-01-01 05:17:00 & 2013-01-01 05:15:00 & 2013-01-01 08:30:00 & 2013-01-01 08:19:00 & 227 & FALSE\\\\\n",
       "\t LGA & IAH &  4 &  20 & 2013-01-01 05:33:00 & 2013-01-01 05:29:00 & 2013-01-01 08:50:00 & 2013-01-01 08:30:00 & 227 & FALSE\\\\\n",
       "\t JFK & MIA &  2 &  33 & 2013-01-01 05:42:00 & 2013-01-01 05:40:00 & 2013-01-01 09:23:00 & 2013-01-01 08:50:00 & 160 & FALSE\\\\\n",
       "\t JFK & BQN & -1 & -18 & 2013-01-01 05:44:00 & 2013-01-01 05:45:00 & 2013-01-01 10:04:00 & 2013-01-01 10:22:00 & 183 & FALSE\\\\\n",
       "\t LGA & ATL & -6 & -25 & 2013-01-01 05:54:00 & 2013-01-01 06:00:00 & 2013-01-01 08:12:00 & 2013-01-01 08:37:00 & 116 & FALSE\\\\\n",
       "\t EWR & ORD & -4 &  12 & 2013-01-01 05:54:00 & 2013-01-01 05:58:00 & 2013-01-01 07:40:00 & 2013-01-01 07:28:00 & 150 & FALSE\\\\\n",
       "\\end{tabular}\n"
      ],
      "text/markdown": [
       "\n",
       "A tibble: 6 × 10\n",
       "\n",
       "| origin &lt;chr&gt; | dest &lt;chr&gt; | dep_delay &lt;dbl&gt; | arr_delay &lt;dbl&gt; | dep_time &lt;dttm&gt; | sched_dep_time &lt;dttm&gt; | arr_time &lt;dttm&gt; | sched_arr_time &lt;dttm&gt; | air_time &lt;dbl&gt; | overnight &lt;lgl&gt; |\n",
       "|---|---|---|---|---|---|---|---|---|---|\n",
       "| EWR | IAH |  2 |  11 | 2013-01-01 05:17:00 | 2013-01-01 05:15:00 | 2013-01-01 08:30:00 | 2013-01-01 08:19:00 | 227 | FALSE |\n",
       "| LGA | IAH |  4 |  20 | 2013-01-01 05:33:00 | 2013-01-01 05:29:00 | 2013-01-01 08:50:00 | 2013-01-01 08:30:00 | 227 | FALSE |\n",
       "| JFK | MIA |  2 |  33 | 2013-01-01 05:42:00 | 2013-01-01 05:40:00 | 2013-01-01 09:23:00 | 2013-01-01 08:50:00 | 160 | FALSE |\n",
       "| JFK | BQN | -1 | -18 | 2013-01-01 05:44:00 | 2013-01-01 05:45:00 | 2013-01-01 10:04:00 | 2013-01-01 10:22:00 | 183 | FALSE |\n",
       "| LGA | ATL | -6 | -25 | 2013-01-01 05:54:00 | 2013-01-01 06:00:00 | 2013-01-01 08:12:00 | 2013-01-01 08:37:00 | 116 | FALSE |\n",
       "| EWR | ORD | -4 |  12 | 2013-01-01 05:54:00 | 2013-01-01 05:58:00 | 2013-01-01 07:40:00 | 2013-01-01 07:28:00 | 150 | FALSE |\n",
       "\n"
      ],
      "text/plain": [
       "  origin dest dep_delay arr_delay dep_time            sched_dep_time     \n",
       "1 EWR    IAH   2         11       2013-01-01 05:17:00 2013-01-01 05:15:00\n",
       "2 LGA    IAH   4         20       2013-01-01 05:33:00 2013-01-01 05:29:00\n",
       "3 JFK    MIA   2         33       2013-01-01 05:42:00 2013-01-01 05:40:00\n",
       "4 JFK    BQN  -1        -18       2013-01-01 05:44:00 2013-01-01 05:45:00\n",
       "5 LGA    ATL  -6        -25       2013-01-01 05:54:00 2013-01-01 06:00:00\n",
       "6 EWR    ORD  -4         12       2013-01-01 05:54:00 2013-01-01 05:58:00\n",
       "  arr_time            sched_arr_time      air_time overnight\n",
       "1 2013-01-01 08:30:00 2013-01-01 08:19:00 227      FALSE    \n",
       "2 2013-01-01 08:50:00 2013-01-01 08:30:00 227      FALSE    \n",
       "3 2013-01-01 09:23:00 2013-01-01 08:50:00 160      FALSE    \n",
       "4 2013-01-01 10:04:00 2013-01-01 10:22:00 183      FALSE    \n",
       "5 2013-01-01 08:12:00 2013-01-01 08:37:00 116      FALSE    \n",
       "6 2013-01-01 07:40:00 2013-01-01 07:28:00 150      FALSE    "
      ]
     },
     "metadata": {},
     "output_type": "display_data"
    }
   ],
   "source": [
    "# fix overnight flights\n",
    "(flights_dt <- flights_dt %>% \n",
    "  mutate(\n",
    "    overnight = arr_time < dep_time,\n",
    "    arr_time = arr_time + days(overnight * 1),\n",
    "    sched_arr_time = sched_arr_time + days(overnight * 1)\n",
    "  )) %>%\n",
    "head()"
   ]
  },
  {
   "cell_type": "code",
   "execution_count": 66,
   "metadata": {},
   "outputs": [
    {
     "data": {
      "text/html": [
       "365"
      ],
      "text/latex": [
       "365"
      ],
      "text/markdown": [
       "365"
      ],
      "text/plain": [
       "[1] 365"
      ]
     },
     "metadata": {},
     "output_type": "display_data"
    }
   ],
   "source": [
    "# intervals\n",
    "\n",
    "next_year <- today() + years(1)\n",
    "(today() %--% next_year) / ddays(1)\n",
    "#> [1] 366 if next year is leap year"
   ]
  },
  {
   "cell_type": "code",
   "execution_count": 67,
   "metadata": {},
   "outputs": [
    {
     "data": {
      "text/html": [
       "365"
      ],
      "text/latex": [
       "365"
      ],
      "text/markdown": [
       "365"
      ],
      "text/plain": [
       "[1] 365"
      ]
     },
     "metadata": {},
     "output_type": "display_data"
    }
   ],
   "source": [
    "(today() %--% next_year) %/% days(1)\n"
   ]
  },
  {
   "cell_type": "code",
   "execution_count": 70,
   "metadata": {},
   "outputs": [
    {
     "data": {
      "text/html": [
       "-365"
      ],
      "text/latex": [
       "-365"
      ],
      "text/markdown": [
       "-365"
      ],
      "text/plain": [
       "[1] -365"
      ]
     },
     "metadata": {},
     "output_type": "display_data"
    }
   ],
   "source": [
    "(next_year %--% today()) %/% days(1)\n"
   ]
  },
  {
   "cell_type": "code",
   "execution_count": null,
   "metadata": {},
   "outputs": [],
   "source": []
  }
 ],
 "metadata": {
  "kernelspec": {
   "display_name": "R",
   "language": "R",
   "name": "ir"
  },
  "language_info": {
   "codemirror_mode": "r",
   "file_extension": ".r",
   "mimetype": "text/x-r-source",
   "name": "R",
   "pygments_lexer": "r",
   "version": "3.6.2"
  }
 },
 "nbformat": 4,
 "nbformat_minor": 4
}
