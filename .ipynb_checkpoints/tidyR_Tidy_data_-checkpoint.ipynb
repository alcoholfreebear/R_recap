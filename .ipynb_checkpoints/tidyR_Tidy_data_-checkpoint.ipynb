{
 "cells": [
  {
   "cell_type": "markdown",
   "metadata": {},
   "source": [
    "### R tutorial   \n",
    "\n",
    "* Book:   \n",
    "https://r4ds.had.co.nz/  \n",
    "* Tidy R references   \n",
    "https://tidyr.tidyverse.org/reference/\n",
    "* Non tidy data   \n",
    "https://simplystatistics.org/2016/02/17/non-tidy-data/\n",
    "\n",
    "## Chapter 12: Tidy data\n",
    "* observations: per row\n",
    "* variables: per column\n",
    "* values: per value\n",
    "\n",
    "### Procedures of tidy data\n",
    "Advantage: Tidy data allows easy \"mutation\" (computation based on exisitng variables per observation) of the dataset.  \n",
    "1. Put each dataset in a tibble.\n",
    "2. Put each variable in a column.\n",
    "\n",
    "### More aggregation functions\n",
    "* ```count(df, vars = NULL, wt_var = NULL)```:   \n",
    "    - ```var```: id variables to count unique values of    \n",
    "    - ```wt_var```: optional variable to weight by - if this is non-NULL, count will sum up the value of this variable for each combination of id variables  \n",
    "\n",
    "\n",
    "### Pivoting\n",
    "* ```pivot_longer(data, cols, names_to = \"name\", names_prefix = NULL, values_to = \"value\")```:   \n",
    "* ```pivot_wider(data, cols, names_from = \"name\", names_prefix = \"\", values_from = \"value\")```:   \n",
    "\n",
    "```pivot_longer()``` and ```pivote_wider()``` are not 100% reverse operations of each other. \n",
    "when values are turned into columns by pivot_wider() it becomes characters, \n",
    "when try to change columns back to values using ```pivot_longer()``` you need  ```names_ptype = list(year = double())```\n",
    "\n",
    "### Separate\n",
    "```separate()``` pulls apart one column into multiple columns, by splitting wherever a separator character. \n",
    "```R\n",
    "separate(data, col, into, sep = \"[^[:alnum:]]+\", remove = TRUE,\n",
    "  convert = FALSE, extra = \"warn\", fill = \"warn\", ...)   \n",
    "```\n",
    "```sep``` The default value is a regular expression that matches any sequence of non-alphanumeric values. if it is a number ```sep = 100```, it means to split from index position of 100.   \n",
    "```convert = T``` convert data into better types accordingly to the situation.     \n",
    "### Unite\n",
    "```unite()``` is the inverse of ```separate()```: it combines multiple columns into a single column.\n",
    "```R\n",
    "unite(data, col, ..., sep = \"_\", remove = TRUE, na.rm = FALSE)\n",
    "\n",
    "```\n",
    "\n",
    "### Relational data functions:\n",
    "https://dplyr.tidyverse.org/reference/join.html   \n",
    "Groups are ignored for the purpose of joining, but the result preserves the grouping of x.\n",
    "\n",
    "* ```join(x, y, by, copy = F, suffix = c('x', 'y'))```: x and y are dataframes to join. ```by``` is basically \"SQL ```on```\". Pass a vector or ```NULL``` to ```by```.\n",
    "* Variations: ```inner_join(), left_join(),right_join(), full_join(), semi_join(), nest_join(), anti_join()```\n",
    "* ```anti_join()```:return all rows from x where there are not matching values in y, keeping just columns from x.\n",
    "* ```nest_join()```:  \n",
    "    - Return all rows and all columns from x. Adds a list column of tibbles. Each tibble contains all the rows from y that match that row of x. When there is no match, the list column is a 0-row tibble with the same column names and types as y. nest_join() is the most fundamental join since you can recreate the other joins from it. An inner_join() is a nest_join() plus an tidyr::unnest(), and left_join() is a nest_join() plus an unnest(.drop = FALSE). A semi_join() is a nest_join() plus a filter() where you check that every element of data has at least one row, and an anti_join() is a nest_join() plus a filter() where you check every element has zero rows.\n",
    "\n",
    "\n",
    "### Missing Values\n",
    "\n",
    "* Missing values happens when pivoting. Use ```values_drop_na = T``` to drop ```NA```\n",
    "* Use ```complete()``` to make it explicit. ```complete()``` takes a set of columns, and finds all unique combinations. It then ensures the original dataset contains all those values, filling in explicit ```NAs``` where necessary.\n",
    "\n",
    "### Case Study tips:\n",
    "* ```str_replace()``` vs ```sub()``` vs ```gsub()```\n",
    " - variable order is different. \n",
    " - ```str_replace()``` and ```sub()``` replace the 1st occurance, whereas ```gsub()```replaces all."
   ]
  },
  {
   "cell_type": "code",
   "execution_count": 1,
   "metadata": {},
   "outputs": [],
   "source": [
    "suppressPackageStartupMessages(library(tidyverse))\n"
   ]
  },
  {
   "cell_type": "code",
   "execution_count": 4,
   "metadata": {},
   "outputs": [
    {
     "data": {
      "text/html": [
       "<table>\n",
       "<caption>A tibble: 3 × 4</caption>\n",
       "<thead>\n",
       "\t<tr><th scope=col>country</th><th scope=col>year</th><th scope=col>cases</th><th scope=col>population</th></tr>\n",
       "\t<tr><th scope=col>&lt;chr&gt;</th><th scope=col>&lt;int&gt;</th><th scope=col>&lt;int&gt;</th><th scope=col>&lt;int&gt;</th></tr>\n",
       "</thead>\n",
       "<tbody>\n",
       "\t<tr><td>Afghanistan</td><td>1999</td><td>  745</td><td> 19987071</td></tr>\n",
       "\t<tr><td>Afghanistan</td><td>2000</td><td> 2666</td><td> 20595360</td></tr>\n",
       "\t<tr><td>Brazil     </td><td>1999</td><td>37737</td><td>172006362</td></tr>\n",
       "</tbody>\n",
       "</table>\n"
      ],
      "text/latex": [
       "A tibble: 3 × 4\n",
       "\\begin{tabular}{llll}\n",
       " country & year & cases & population\\\\\n",
       " <chr> & <int> & <int> & <int>\\\\\n",
       "\\hline\n",
       "\t Afghanistan & 1999 &   745 &  19987071\\\\\n",
       "\t Afghanistan & 2000 &  2666 &  20595360\\\\\n",
       "\t Brazil      & 1999 & 37737 & 172006362\\\\\n",
       "\\end{tabular}\n"
      ],
      "text/markdown": [
       "\n",
       "A tibble: 3 × 4\n",
       "\n",
       "| country &lt;chr&gt; | year &lt;int&gt; | cases &lt;int&gt; | population &lt;int&gt; |\n",
       "|---|---|---|---|\n",
       "| Afghanistan | 1999 |   745 |  19987071 |\n",
       "| Afghanistan | 2000 |  2666 |  20595360 |\n",
       "| Brazil      | 1999 | 37737 | 172006362 |\n",
       "\n"
      ],
      "text/plain": [
       "  country     year cases population\n",
       "1 Afghanistan 1999   745  19987071 \n",
       "2 Afghanistan 2000  2666  20595360 \n",
       "3 Brazil      1999 37737 172006362 "
      ]
     },
     "metadata": {},
     "output_type": "display_data"
    }
   ],
   "source": [
    "# tidy data example:\n",
    "table1 %>% head(3)"
   ]
  },
  {
   "cell_type": "code",
   "execution_count": 9,
   "metadata": {},
   "outputs": [
    {
     "data": {
      "text/html": [
       "<table>\n",
       "<caption>A tibble: 2 × 2</caption>\n",
       "<thead>\n",
       "\t<tr><th scope=col>year</th><th scope=col>n</th></tr>\n",
       "\t<tr><th scope=col>&lt;int&gt;</th><th scope=col>&lt;int&gt;</th></tr>\n",
       "</thead>\n",
       "<tbody>\n",
       "\t<tr><td>1999</td><td>250740</td></tr>\n",
       "\t<tr><td>2000</td><td>296920</td></tr>\n",
       "</tbody>\n",
       "</table>\n"
      ],
      "text/latex": [
       "A tibble: 2 × 2\n",
       "\\begin{tabular}{ll}\n",
       " year & n\\\\\n",
       " <int> & <int>\\\\\n",
       "\\hline\n",
       "\t 1999 & 250740\\\\\n",
       "\t 2000 & 296920\\\\\n",
       "\\end{tabular}\n"
      ],
      "text/markdown": [
       "\n",
       "A tibble: 2 × 2\n",
       "\n",
       "| year &lt;int&gt; | n &lt;int&gt; |\n",
       "|---|---|\n",
       "| 1999 | 250740 |\n",
       "| 2000 | 296920 |\n",
       "\n"
      ],
      "text/plain": [
       "  year n     \n",
       "1 1999 250740\n",
       "2 2000 296920"
      ]
     },
     "metadata": {},
     "output_type": "display_data"
    }
   ],
   "source": [
    "# compute cases per year\n",
    "table1 %>%\n",
    "    count(year, wt=cases)%>% \n",
    "    head(3)"
   ]
  },
  {
   "cell_type": "markdown",
   "metadata": {},
   "source": [
    "### Pivoting Examples:"
   ]
  },
  {
   "cell_type": "code",
   "execution_count": 12,
   "metadata": {},
   "outputs": [
    {
     "data": {
      "text/html": [
       "<table>\n",
       "<caption>A tibble: 3 × 3</caption>\n",
       "<thead>\n",
       "\t<tr><th scope=col>country</th><th scope=col>1999</th><th scope=col>2000</th></tr>\n",
       "\t<tr><th scope=col>&lt;chr&gt;</th><th scope=col>&lt;int&gt;</th><th scope=col>&lt;int&gt;</th></tr>\n",
       "</thead>\n",
       "<tbody>\n",
       "\t<tr><td>Afghanistan</td><td>   745</td><td>  2666</td></tr>\n",
       "\t<tr><td>Brazil     </td><td> 37737</td><td> 80488</td></tr>\n",
       "\t<tr><td>China      </td><td>212258</td><td>213766</td></tr>\n",
       "</tbody>\n",
       "</table>\n"
      ],
      "text/latex": [
       "A tibble: 3 × 3\n",
       "\\begin{tabular}{lll}\n",
       " country & 1999 & 2000\\\\\n",
       " <chr> & <int> & <int>\\\\\n",
       "\\hline\n",
       "\t Afghanistan &    745 &   2666\\\\\n",
       "\t Brazil      &  37737 &  80488\\\\\n",
       "\t China       & 212258 & 213766\\\\\n",
       "\\end{tabular}\n"
      ],
      "text/markdown": [
       "\n",
       "A tibble: 3 × 3\n",
       "\n",
       "| country &lt;chr&gt; | 1999 &lt;int&gt; | 2000 &lt;int&gt; |\n",
       "|---|---|---|\n",
       "| Afghanistan |    745 |   2666 |\n",
       "| Brazil      |  37737 |  80488 |\n",
       "| China       | 212258 | 213766 |\n",
       "\n"
      ],
      "text/plain": [
       "  country     1999   2000  \n",
       "1 Afghanistan    745   2666\n",
       "2 Brazil       37737  80488\n",
       "3 China       212258 213766"
      ]
     },
     "metadata": {},
     "output_type": "display_data"
    },
    {
     "data": {
      "text/html": [
       "<table>\n",
       "<caption>A tibble: 3 × 3</caption>\n",
       "<thead>\n",
       "\t<tr><th scope=col>country</th><th scope=col>1999</th><th scope=col>2000</th></tr>\n",
       "\t<tr><th scope=col>&lt;chr&gt;</th><th scope=col>&lt;int&gt;</th><th scope=col>&lt;int&gt;</th></tr>\n",
       "</thead>\n",
       "<tbody>\n",
       "\t<tr><td>Afghanistan</td><td>  19987071</td><td>  20595360</td></tr>\n",
       "\t<tr><td>Brazil     </td><td> 172006362</td><td> 174504898</td></tr>\n",
       "\t<tr><td>China      </td><td>1272915272</td><td>1280428583</td></tr>\n",
       "</tbody>\n",
       "</table>\n"
      ],
      "text/latex": [
       "A tibble: 3 × 3\n",
       "\\begin{tabular}{lll}\n",
       " country & 1999 & 2000\\\\\n",
       " <chr> & <int> & <int>\\\\\n",
       "\\hline\n",
       "\t Afghanistan &   19987071 &   20595360\\\\\n",
       "\t Brazil      &  172006362 &  174504898\\\\\n",
       "\t China       & 1272915272 & 1280428583\\\\\n",
       "\\end{tabular}\n"
      ],
      "text/markdown": [
       "\n",
       "A tibble: 3 × 3\n",
       "\n",
       "| country &lt;chr&gt; | 1999 &lt;int&gt; | 2000 &lt;int&gt; |\n",
       "|---|---|---|\n",
       "| Afghanistan |   19987071 |   20595360 |\n",
       "| Brazil      |  172006362 |  174504898 |\n",
       "| China       | 1272915272 | 1280428583 |\n",
       "\n"
      ],
      "text/plain": [
       "  country     1999       2000      \n",
       "1 Afghanistan   19987071   20595360\n",
       "2 Brazil       172006362  174504898\n",
       "3 China       1272915272 1280428583"
      ]
     },
     "metadata": {},
     "output_type": "display_data"
    }
   ],
   "source": [
    "# untidy data: variables appears as column names\n",
    "table4a%>% \n",
    "    head(3)\n",
    "\n",
    "table4b %>% \n",
    "    head(3)"
   ]
  },
  {
   "cell_type": "code",
   "execution_count": 11,
   "metadata": {},
   "outputs": [
    {
     "data": {
      "text/html": [
       "<table>\n",
       "<caption>A tibble: 6 × 3</caption>\n",
       "<thead>\n",
       "\t<tr><th scope=col>country</th><th scope=col>year</th><th scope=col>cases</th></tr>\n",
       "\t<tr><th scope=col>&lt;chr&gt;</th><th scope=col>&lt;chr&gt;</th><th scope=col>&lt;int&gt;</th></tr>\n",
       "</thead>\n",
       "<tbody>\n",
       "\t<tr><td>Afghanistan</td><td>1999</td><td>   745</td></tr>\n",
       "\t<tr><td>Afghanistan</td><td>2000</td><td>  2666</td></tr>\n",
       "\t<tr><td>Brazil     </td><td>1999</td><td> 37737</td></tr>\n",
       "\t<tr><td>Brazil     </td><td>2000</td><td> 80488</td></tr>\n",
       "\t<tr><td>China      </td><td>1999</td><td>212258</td></tr>\n",
       "\t<tr><td>China      </td><td>2000</td><td>213766</td></tr>\n",
       "</tbody>\n",
       "</table>\n"
      ],
      "text/latex": [
       "A tibble: 6 × 3\n",
       "\\begin{tabular}{lll}\n",
       " country & year & cases\\\\\n",
       " <chr> & <chr> & <int>\\\\\n",
       "\\hline\n",
       "\t Afghanistan & 1999 &    745\\\\\n",
       "\t Afghanistan & 2000 &   2666\\\\\n",
       "\t Brazil      & 1999 &  37737\\\\\n",
       "\t Brazil      & 2000 &  80488\\\\\n",
       "\t China       & 1999 & 212258\\\\\n",
       "\t China       & 2000 & 213766\\\\\n",
       "\\end{tabular}\n"
      ],
      "text/markdown": [
       "\n",
       "A tibble: 6 × 3\n",
       "\n",
       "| country &lt;chr&gt; | year &lt;chr&gt; | cases &lt;int&gt; |\n",
       "|---|---|---|\n",
       "| Afghanistan | 1999 |    745 |\n",
       "| Afghanistan | 2000 |   2666 |\n",
       "| Brazil      | 1999 |  37737 |\n",
       "| Brazil      | 2000 |  80488 |\n",
       "| China       | 1999 | 212258 |\n",
       "| China       | 2000 | 213766 |\n",
       "\n"
      ],
      "text/plain": [
       "  country     year cases \n",
       "1 Afghanistan 1999    745\n",
       "2 Afghanistan 2000   2666\n",
       "3 Brazil      1999  37737\n",
       "4 Brazil      2000  80488\n",
       "5 China       1999 212258\n",
       "6 China       2000 213766"
      ]
     },
     "metadata": {},
     "output_type": "display_data"
    }
   ],
   "source": [
    "# format to longer \n",
    "table4a %>% \n",
    "  pivot_longer(c(`1999`, `2000`), names_to = \"year\", values_to = \"cases\")"
   ]
  },
  {
   "cell_type": "code",
   "execution_count": 17,
   "metadata": {},
   "outputs": [
    {
     "data": {
      "text/html": [
       "<table>\n",
       "<caption>A tibble: 4 × 4</caption>\n",
       "<thead>\n",
       "\t<tr><th scope=col>country</th><th scope=col>year</th><th scope=col>type</th><th scope=col>count</th></tr>\n",
       "\t<tr><th scope=col>&lt;chr&gt;</th><th scope=col>&lt;int&gt;</th><th scope=col>&lt;chr&gt;</th><th scope=col>&lt;int&gt;</th></tr>\n",
       "</thead>\n",
       "<tbody>\n",
       "\t<tr><td>Afghanistan</td><td>1999</td><td>cases     </td><td>     745</td></tr>\n",
       "\t<tr><td>Afghanistan</td><td>1999</td><td>population</td><td>19987071</td></tr>\n",
       "\t<tr><td>Afghanistan</td><td>2000</td><td>cases     </td><td>    2666</td></tr>\n",
       "\t<tr><td>Afghanistan</td><td>2000</td><td>population</td><td>20595360</td></tr>\n",
       "</tbody>\n",
       "</table>\n"
      ],
      "text/latex": [
       "A tibble: 4 × 4\n",
       "\\begin{tabular}{llll}\n",
       " country & year & type & count\\\\\n",
       " <chr> & <int> & <chr> & <int>\\\\\n",
       "\\hline\n",
       "\t Afghanistan & 1999 & cases      &      745\\\\\n",
       "\t Afghanistan & 1999 & population & 19987071\\\\\n",
       "\t Afghanistan & 2000 & cases      &     2666\\\\\n",
       "\t Afghanistan & 2000 & population & 20595360\\\\\n",
       "\\end{tabular}\n"
      ],
      "text/markdown": [
       "\n",
       "A tibble: 4 × 4\n",
       "\n",
       "| country &lt;chr&gt; | year &lt;int&gt; | type &lt;chr&gt; | count &lt;int&gt; |\n",
       "|---|---|---|---|\n",
       "| Afghanistan | 1999 | cases      |      745 |\n",
       "| Afghanistan | 1999 | population | 19987071 |\n",
       "| Afghanistan | 2000 | cases      |     2666 |\n",
       "| Afghanistan | 2000 | population | 20595360 |\n",
       "\n"
      ],
      "text/plain": [
       "  country     year type       count   \n",
       "1 Afghanistan 1999 cases           745\n",
       "2 Afghanistan 1999 population 19987071\n",
       "3 Afghanistan 2000 cases          2666\n",
       "4 Afghanistan 2000 population 20595360"
      ]
     },
     "metadata": {},
     "output_type": "display_data"
    }
   ],
   "source": [
    "# untidy data: variables appears as column names\n",
    "table2%>% \n",
    "    head(4)\n"
   ]
  },
  {
   "cell_type": "code",
   "execution_count": 19,
   "metadata": {},
   "outputs": [
    {
     "data": {
      "text/html": [
       "<table>\n",
       "<caption>A tibble: 4 × 4</caption>\n",
       "<thead>\n",
       "\t<tr><th scope=col>country</th><th scope=col>year</th><th scope=col>cases</th><th scope=col>population</th></tr>\n",
       "\t<tr><th scope=col>&lt;chr&gt;</th><th scope=col>&lt;int&gt;</th><th scope=col>&lt;int&gt;</th><th scope=col>&lt;int&gt;</th></tr>\n",
       "</thead>\n",
       "<tbody>\n",
       "\t<tr><td>Afghanistan</td><td>1999</td><td>  745</td><td> 19987071</td></tr>\n",
       "\t<tr><td>Afghanistan</td><td>2000</td><td> 2666</td><td> 20595360</td></tr>\n",
       "\t<tr><td>Brazil     </td><td>1999</td><td>37737</td><td>172006362</td></tr>\n",
       "\t<tr><td>Brazil     </td><td>2000</td><td>80488</td><td>174504898</td></tr>\n",
       "</tbody>\n",
       "</table>\n"
      ],
      "text/latex": [
       "A tibble: 4 × 4\n",
       "\\begin{tabular}{llll}\n",
       " country & year & cases & population\\\\\n",
       " <chr> & <int> & <int> & <int>\\\\\n",
       "\\hline\n",
       "\t Afghanistan & 1999 &   745 &  19987071\\\\\n",
       "\t Afghanistan & 2000 &  2666 &  20595360\\\\\n",
       "\t Brazil      & 1999 & 37737 & 172006362\\\\\n",
       "\t Brazil      & 2000 & 80488 & 174504898\\\\\n",
       "\\end{tabular}\n"
      ],
      "text/markdown": [
       "\n",
       "A tibble: 4 × 4\n",
       "\n",
       "| country &lt;chr&gt; | year &lt;int&gt; | cases &lt;int&gt; | population &lt;int&gt; |\n",
       "|---|---|---|---|\n",
       "| Afghanistan | 1999 |   745 |  19987071 |\n",
       "| Afghanistan | 2000 |  2666 |  20595360 |\n",
       "| Brazil      | 1999 | 37737 | 172006362 |\n",
       "| Brazil      | 2000 | 80488 | 174504898 |\n",
       "\n"
      ],
      "text/plain": [
       "  country     year cases population\n",
       "1 Afghanistan 1999   745  19987071 \n",
       "2 Afghanistan 2000  2666  20595360 \n",
       "3 Brazil      1999 37737 172006362 \n",
       "4 Brazil      2000 80488 174504898 "
      ]
     },
     "metadata": {},
     "output_type": "display_data"
    }
   ],
   "source": [
    "# format to wider\n",
    "table2%>%\n",
    "    pivot_wider( names_from = 'type', values_from = 'count' ) %>%\n",
    "    head(4)"
   ]
  },
  {
   "cell_type": "code",
   "execution_count": 28,
   "metadata": {},
   "outputs": [
    {
     "data": {
      "text/html": [
       "<table>\n",
       "<caption>A tibble: 4 × 3</caption>\n",
       "<thead>\n",
       "\t<tr><th scope=col>year</th><th scope=col>half</th><th scope=col>return</th></tr>\n",
       "\t<tr><th scope=col>&lt;dbl&gt;</th><th scope=col>&lt;dbl&gt;</th><th scope=col>&lt;dbl&gt;</th></tr>\n",
       "</thead>\n",
       "<tbody>\n",
       "\t<tr><td>2015</td><td>1</td><td>1.88</td></tr>\n",
       "\t<tr><td>2015</td><td>2</td><td>0.59</td></tr>\n",
       "\t<tr><td>2016</td><td>1</td><td>0.92</td></tr>\n",
       "\t<tr><td>2016</td><td>2</td><td>0.17</td></tr>\n",
       "</tbody>\n",
       "</table>\n"
      ],
      "text/latex": [
       "A tibble: 4 × 3\n",
       "\\begin{tabular}{lll}\n",
       " year & half & return\\\\\n",
       " <dbl> & <dbl> & <dbl>\\\\\n",
       "\\hline\n",
       "\t 2015 & 1 & 1.88\\\\\n",
       "\t 2015 & 2 & 0.59\\\\\n",
       "\t 2016 & 1 & 0.92\\\\\n",
       "\t 2016 & 2 & 0.17\\\\\n",
       "\\end{tabular}\n"
      ],
      "text/markdown": [
       "\n",
       "A tibble: 4 × 3\n",
       "\n",
       "| year &lt;dbl&gt; | half &lt;dbl&gt; | return &lt;dbl&gt; |\n",
       "|---|---|---|\n",
       "| 2015 | 1 | 1.88 |\n",
       "| 2015 | 2 | 0.59 |\n",
       "| 2016 | 1 | 0.92 |\n",
       "| 2016 | 2 | 0.17 |\n",
       "\n"
      ],
      "text/plain": [
       "  year half return\n",
       "1 2015 1    1.88  \n",
       "2 2015 2    0.59  \n",
       "3 2016 1    0.92  \n",
       "4 2016 2    0.17  "
      ]
     },
     "metadata": {},
     "output_type": "display_data"
    },
    {
     "data": {
      "text/html": [
       "<table>\n",
       "<caption>A tibble: 4 × 3</caption>\n",
       "<thead>\n",
       "\t<tr><th scope=col>half</th><th scope=col>year</th><th scope=col>return</th></tr>\n",
       "\t<tr><th scope=col>&lt;dbl&gt;</th><th scope=col>&lt;dbl&gt;</th><th scope=col>&lt;dbl&gt;</th></tr>\n",
       "</thead>\n",
       "<tbody>\n",
       "\t<tr><td>1</td><td>2015</td><td>1.88</td></tr>\n",
       "\t<tr><td>1</td><td>2016</td><td>0.92</td></tr>\n",
       "\t<tr><td>2</td><td>2015</td><td>0.59</td></tr>\n",
       "\t<tr><td>2</td><td>2016</td><td>0.17</td></tr>\n",
       "</tbody>\n",
       "</table>\n"
      ],
      "text/latex": [
       "A tibble: 4 × 3\n",
       "\\begin{tabular}{lll}\n",
       " half & year & return\\\\\n",
       " <dbl> & <dbl> & <dbl>\\\\\n",
       "\\hline\n",
       "\t 1 & 2015 & 1.88\\\\\n",
       "\t 1 & 2016 & 0.92\\\\\n",
       "\t 2 & 2015 & 0.59\\\\\n",
       "\t 2 & 2016 & 0.17\\\\\n",
       "\\end{tabular}\n"
      ],
      "text/markdown": [
       "\n",
       "A tibble: 4 × 3\n",
       "\n",
       "| half &lt;dbl&gt; | year &lt;dbl&gt; | return &lt;dbl&gt; |\n",
       "|---|---|---|\n",
       "| 1 | 2015 | 1.88 |\n",
       "| 1 | 2016 | 0.92 |\n",
       "| 2 | 2015 | 0.59 |\n",
       "| 2 | 2016 | 0.17 |\n",
       "\n"
      ],
      "text/plain": [
       "  half year return\n",
       "1 1    2015 1.88  \n",
       "2 1    2016 0.92  \n",
       "3 2    2015 0.59  \n",
       "4 2    2016 0.17  "
      ]
     },
     "metadata": {},
     "output_type": "display_data"
    }
   ],
   "source": [
    "# when values are turned into columns by pivot_wider() it becomes characters, \n",
    "# when try to change columns back to values you need  names_ptype = list(year = double())\n",
    "\n",
    "(stocks <- tibble(\n",
    "  year   = c(2015, 2015, 2016, 2016),\n",
    "  half  = c(   1,    2,     1,    2),\n",
    "  return = c(1.88, 0.59, 0.92, 0.17)\n",
    ") )\n",
    "stocks %>% \n",
    "  pivot_wider(names_from = year, values_from = return) %>% \n",
    "  pivot_longer(`2015`:`2016`, names_to = \"year\", values_to = \"return\", names_ptype = list(year = double()) )%>%\n",
    "table4a %>% \n",
    "  pivot_longer(c('1999', '2000'), names_to = \"year\", values_to = \"cases\", names_ptypes = list(year = double()))  head()"
   ]
  },
  {
   "cell_type": "code",
   "execution_count": 33,
   "metadata": {},
   "outputs": [
    {
     "data": {
      "text/html": [
       "<table>\n",
       "<caption>A tibble: 6 × 3</caption>\n",
       "<thead>\n",
       "\t<tr><th scope=col>country</th><th scope=col>year</th><th scope=col>cases</th></tr>\n",
       "\t<tr><th scope=col>&lt;chr&gt;</th><th scope=col>&lt;dbl&gt;</th><th scope=col>&lt;int&gt;</th></tr>\n",
       "</thead>\n",
       "<tbody>\n",
       "\t<tr><td>Afghanistan</td><td>1999</td><td>   745</td></tr>\n",
       "\t<tr><td>Afghanistan</td><td>2000</td><td>  2666</td></tr>\n",
       "\t<tr><td>Brazil     </td><td>1999</td><td> 37737</td></tr>\n",
       "\t<tr><td>Brazil     </td><td>2000</td><td> 80488</td></tr>\n",
       "\t<tr><td>China      </td><td>1999</td><td>212258</td></tr>\n",
       "\t<tr><td>China      </td><td>2000</td><td>213766</td></tr>\n",
       "</tbody>\n",
       "</table>\n"
      ],
      "text/latex": [
       "A tibble: 6 × 3\n",
       "\\begin{tabular}{lll}\n",
       " country & year & cases\\\\\n",
       " <chr> & <dbl> & <int>\\\\\n",
       "\\hline\n",
       "\t Afghanistan & 1999 &    745\\\\\n",
       "\t Afghanistan & 2000 &   2666\\\\\n",
       "\t Brazil      & 1999 &  37737\\\\\n",
       "\t Brazil      & 2000 &  80488\\\\\n",
       "\t China       & 1999 & 212258\\\\\n",
       "\t China       & 2000 & 213766\\\\\n",
       "\\end{tabular}\n"
      ],
      "text/markdown": [
       "\n",
       "A tibble: 6 × 3\n",
       "\n",
       "| country &lt;chr&gt; | year &lt;dbl&gt; | cases &lt;int&gt; |\n",
       "|---|---|---|\n",
       "| Afghanistan | 1999 |    745 |\n",
       "| Afghanistan | 2000 |   2666 |\n",
       "| Brazil      | 1999 |  37737 |\n",
       "| Brazil      | 2000 |  80488 |\n",
       "| China       | 1999 | 212258 |\n",
       "| China       | 2000 | 213766 |\n",
       "\n"
      ],
      "text/plain": [
       "  country     year cases \n",
       "1 Afghanistan 1999    745\n",
       "2 Afghanistan 2000   2666\n",
       "3 Brazil      1999  37737\n",
       "4 Brazil      2000  80488\n",
       "5 China       1999 212258\n",
       "6 China       2000 213766"
      ]
     },
     "metadata": {},
     "output_type": "display_data"
    },
    {
     "data": {
      "text/html": [
       "<table>\n",
       "<caption>A tibble: 6 × 3</caption>\n",
       "<thead>\n",
       "\t<tr><th scope=col>country</th><th scope=col>year</th><th scope=col>cases</th></tr>\n",
       "\t<tr><th scope=col>&lt;chr&gt;</th><th scope=col>&lt;dbl&gt;</th><th scope=col>&lt;int&gt;</th></tr>\n",
       "</thead>\n",
       "<tbody>\n",
       "\t<tr><td>Afghanistan</td><td>1999</td><td>   745</td></tr>\n",
       "\t<tr><td>Afghanistan</td><td>2000</td><td>  2666</td></tr>\n",
       "\t<tr><td>Brazil     </td><td>1999</td><td> 37737</td></tr>\n",
       "\t<tr><td>Brazil     </td><td>2000</td><td> 80488</td></tr>\n",
       "\t<tr><td>China      </td><td>1999</td><td>212258</td></tr>\n",
       "\t<tr><td>China      </td><td>2000</td><td>213766</td></tr>\n",
       "</tbody>\n",
       "</table>\n"
      ],
      "text/latex": [
       "A tibble: 6 × 3\n",
       "\\begin{tabular}{lll}\n",
       " country & year & cases\\\\\n",
       " <chr> & <dbl> & <int>\\\\\n",
       "\\hline\n",
       "\t Afghanistan & 1999 &    745\\\\\n",
       "\t Afghanistan & 2000 &   2666\\\\\n",
       "\t Brazil      & 1999 &  37737\\\\\n",
       "\t Brazil      & 2000 &  80488\\\\\n",
       "\t China       & 1999 & 212258\\\\\n",
       "\t China       & 2000 & 213766\\\\\n",
       "\\end{tabular}\n"
      ],
      "text/markdown": [
       "\n",
       "A tibble: 6 × 3\n",
       "\n",
       "| country &lt;chr&gt; | year &lt;dbl&gt; | cases &lt;int&gt; |\n",
       "|---|---|---|\n",
       "| Afghanistan | 1999 |    745 |\n",
       "| Afghanistan | 2000 |   2666 |\n",
       "| Brazil      | 1999 |  37737 |\n",
       "| Brazil      | 2000 |  80488 |\n",
       "| China       | 1999 | 212258 |\n",
       "| China       | 2000 | 213766 |\n",
       "\n"
      ],
      "text/plain": [
       "  country     year cases \n",
       "1 Afghanistan 1999    745\n",
       "2 Afghanistan 2000   2666\n",
       "3 Brazil      1999  37737\n",
       "4 Brazil      2000  80488\n",
       "5 China       1999 212258\n",
       "6 China       2000 213766"
      ]
     },
     "metadata": {},
     "output_type": "display_data"
    }
   ],
   "source": [
    "# # this will not run at all\n",
    "# table4a %>% \n",
    "#   pivot_longer(c(1999, 2000), names_to = \"year\", values_to = \"cases\")\n",
    "\n",
    "# this will have character type for years\n",
    "table4a %>% \n",
    "  pivot_longer(c('1999', '2000'), names_to = \"year\", values_to = \"cases\", names_ptypes = list(year = double()))\n",
    "# this will have double type for years\n",
    "table4a %>% \n",
    "  pivot_longer(c('1999', '2000'), names_to = \"year\", values_to = \"cases\", names_ptypes = list(year = double()))"
   ]
  },
  {
   "cell_type": "markdown",
   "metadata": {},
   "source": [
    "#### Exercise 3: What would happen if you widen this table? Why? How could you add a new column to uniquely identify each value?"
   ]
  },
  {
   "cell_type": "code",
   "execution_count": 4,
   "metadata": {},
   "outputs": [],
   "source": [
    "people <- tribble(\n",
    "  ~name,             ~names,  ~values,\n",
    "  #-----------------|--------|------\n",
    "  \"Phillip Woods\",   \"age\",       45,\n",
    "  \"Phillip Woods\",   \"height\",   186,\n",
    "  \"Phillip Woods\",   \"age\",       50,\n",
    "    \n",
    "  \"Jessica Cordero\", \"age\",       37,\n",
    "  \"Jessica Cordero\", \"height\",   156\n",
    ")"
   ]
  },
  {
   "cell_type": "code",
   "execution_count": 47,
   "metadata": {},
   "outputs": [
    {
     "name": "stderr",
     "output_type": "stream",
     "text": [
      "Warning message:\n",
      "“Values in `values` are not uniquely identified; output will contain list-cols.\n",
      "* Use `values_fn = list(values = list)` to suppress this warning.\n",
      "* Use `values_fn = list(values = length)` to identify where the duplicates arise\n",
      "* Use `values_fn = list(values = summary_fun)` to summarise duplicates”\n"
     ]
    },
    {
     "data": {
      "text/html": [
       "<table>\n",
       "<caption>A tibble: 2 × 3</caption>\n",
       "<thead>\n",
       "\t<tr><th scope=col>name</th><th scope=col>age</th><th scope=col>height</th></tr>\n",
       "\t<tr><th scope=col>&lt;chr&gt;</th><th scope=col>&lt;list&gt;</th><th scope=col>&lt;list&gt;</th></tr>\n",
       "</thead>\n",
       "<tbody>\n",
       "\t<tr><td>Phillip Woods  </td><td>45, 50</td><td>186</td></tr>\n",
       "\t<tr><td>Jessica Cordero</td><td>37</td><td>156</td></tr>\n",
       "</tbody>\n",
       "</table>\n"
      ],
      "text/latex": [
       "A tibble: 2 × 3\n",
       "\\begin{tabular}{lll}\n",
       " name & age & height\\\\\n",
       " <chr> & <list> & <list>\\\\\n",
       "\\hline\n",
       "\t Phillip Woods   & 45, 50 & 186\\\\\n",
       "\t Jessica Cordero & 37 & 156\\\\\n",
       "\\end{tabular}\n"
      ],
      "text/markdown": [
       "\n",
       "A tibble: 2 × 3\n",
       "\n",
       "| name &lt;chr&gt; | age &lt;list&gt; | height &lt;list&gt; |\n",
       "|---|---|---|\n",
       "| Phillip Woods   | 45, 50 | 186 |\n",
       "| Jessica Cordero | 37 | 156 |\n",
       "\n"
      ],
      "text/plain": [
       "  name            age    height\n",
       "1 Phillip Woods   45, 50 186   \n",
       "2 Jessica Cordero 37     156   "
      ]
     },
     "metadata": {},
     "output_type": "display_data"
    }
   ],
   "source": [
    "# attempt 1\n",
    "# people$index = 1:nrow(people)\n",
    "people %>%\n",
    "    pivot_wider(names_from = 'names', values_from = 'values')"
   ]
  },
  {
   "cell_type": "code",
   "execution_count": 54,
   "metadata": {},
   "outputs": [
    {
     "data": {
      "text/html": [
       "<table>\n",
       "<caption>A tibble: 5 × 4</caption>\n",
       "<thead>\n",
       "\t<tr><th scope=col>name</th><th scope=col>index</th><th scope=col>age</th><th scope=col>height</th></tr>\n",
       "\t<tr><th scope=col>&lt;chr&gt;</th><th scope=col>&lt;int&gt;</th><th scope=col>&lt;dbl&gt;</th><th scope=col>&lt;dbl&gt;</th></tr>\n",
       "</thead>\n",
       "<tbody>\n",
       "\t<tr><td>Phillip Woods  </td><td>1</td><td>45</td><td> NA</td></tr>\n",
       "\t<tr><td>Phillip Woods  </td><td>2</td><td>NA</td><td>186</td></tr>\n",
       "\t<tr><td>Phillip Woods  </td><td>3</td><td>50</td><td> NA</td></tr>\n",
       "\t<tr><td>Jessica Cordero</td><td>4</td><td>37</td><td> NA</td></tr>\n",
       "\t<tr><td>Jessica Cordero</td><td>5</td><td>NA</td><td>156</td></tr>\n",
       "</tbody>\n",
       "</table>\n"
      ],
      "text/latex": [
       "A tibble: 5 × 4\n",
       "\\begin{tabular}{llll}\n",
       " name & index & age & height\\\\\n",
       " <chr> & <int> & <dbl> & <dbl>\\\\\n",
       "\\hline\n",
       "\t Phillip Woods   & 1 & 45 &  NA\\\\\n",
       "\t Phillip Woods   & 2 & NA & 186\\\\\n",
       "\t Phillip Woods   & 3 & 50 &  NA\\\\\n",
       "\t Jessica Cordero & 4 & 37 &  NA\\\\\n",
       "\t Jessica Cordero & 5 & NA & 156\\\\\n",
       "\\end{tabular}\n"
      ],
      "text/markdown": [
       "\n",
       "A tibble: 5 × 4\n",
       "\n",
       "| name &lt;chr&gt; | index &lt;int&gt; | age &lt;dbl&gt; | height &lt;dbl&gt; |\n",
       "|---|---|---|---|\n",
       "| Phillip Woods   | 1 | 45 |  NA |\n",
       "| Phillip Woods   | 2 | NA | 186 |\n",
       "| Phillip Woods   | 3 | 50 |  NA |\n",
       "| Jessica Cordero | 4 | 37 |  NA |\n",
       "| Jessica Cordero | 5 | NA | 156 |\n",
       "\n"
      ],
      "text/plain": [
       "  name            index age height\n",
       "1 Phillip Woods   1     45   NA   \n",
       "2 Phillip Woods   2     NA  186   \n",
       "3 Phillip Woods   3     50   NA   \n",
       "4 Jessica Cordero 4     37   NA   \n",
       "5 Jessica Cordero 5     NA  156   "
      ]
     },
     "metadata": {},
     "output_type": "display_data"
    }
   ],
   "source": [
    "# attempt 2\n",
    "people_1 <- people %>%\n",
    "    mutate(index = 1:nrow(people))\n",
    "people_1 %>%\n",
    "    pivot_wider(names_from = 'names', values_from = 'values')"
   ]
  },
  {
   "cell_type": "code",
   "execution_count": 13,
   "metadata": {},
   "outputs": [
    {
     "data": {
      "text/html": [
       "<table>\n",
       "<caption>A grouped_df: 2 × 3</caption>\n",
       "<thead>\n",
       "\t<tr><th scope=col>name</th><th scope=col>age</th><th scope=col>height</th></tr>\n",
       "\t<tr><th scope=col>&lt;chr&gt;</th><th scope=col>&lt;dbl&gt;</th><th scope=col>&lt;dbl&gt;</th></tr>\n",
       "</thead>\n",
       "<tbody>\n",
       "\t<tr><td>Phillip Woods  </td><td>45</td><td>186</td></tr>\n",
       "\t<tr><td>Jessica Cordero</td><td>37</td><td>156</td></tr>\n",
       "</tbody>\n",
       "</table>\n"
      ],
      "text/latex": [
       "A grouped\\_df: 2 × 3\n",
       "\\begin{tabular}{lll}\n",
       " name & age & height\\\\\n",
       " <chr> & <dbl> & <dbl>\\\\\n",
       "\\hline\n",
       "\t Phillip Woods   & 45 & 186\\\\\n",
       "\t Jessica Cordero & 37 & 156\\\\\n",
       "\\end{tabular}\n"
      ],
      "text/markdown": [
       "\n",
       "A grouped_df: 2 × 3\n",
       "\n",
       "| name &lt;chr&gt; | age &lt;dbl&gt; | height &lt;dbl&gt; |\n",
       "|---|---|---|\n",
       "| Phillip Woods   | 45 | 186 |\n",
       "| Jessica Cordero | 37 | 156 |\n",
       "\n"
      ],
      "text/plain": [
       "  name            age height\n",
       "1 Phillip Woods   45  186   \n",
       "2 Jessica Cordero 37  156   "
      ]
     },
     "metadata": {},
     "output_type": "display_data"
    }
   ],
   "source": [
    "# attempt 3: this works because of luck\n",
    "people %>%\n",
    "  group_by(name) %>%\n",
    "  mutate(row = row_number()) %>%\n",
    "  filter(row <= 2) %>%\n",
    "  select(-row) %>%\n",
    "  pivot_wider(names_from = names, values_from = values) "
   ]
  },
  {
   "cell_type": "code",
   "execution_count": 19,
   "metadata": {},
   "outputs": [
    {
     "data": {
      "text/html": [
       "<table>\n",
       "<caption>A grouped_df: 2 × 3</caption>\n",
       "<thead>\n",
       "\t<tr><th scope=col>name</th><th scope=col>age</th><th scope=col>height</th></tr>\n",
       "\t<tr><th scope=col>&lt;chr&gt;</th><th scope=col>&lt;dbl&gt;</th><th scope=col>&lt;dbl&gt;</th></tr>\n",
       "</thead>\n",
       "<tbody>\n",
       "\t<tr><td>Phillip Woods  </td><td>45</td><td>186</td></tr>\n",
       "\t<tr><td>Jessica Cordero</td><td>37</td><td>156</td></tr>\n",
       "</tbody>\n",
       "</table>\n"
      ],
      "text/latex": [
       "A grouped\\_df: 2 × 3\n",
       "\\begin{tabular}{lll}\n",
       " name & age & height\\\\\n",
       " <chr> & <dbl> & <dbl>\\\\\n",
       "\\hline\n",
       "\t Phillip Woods   & 45 & 186\\\\\n",
       "\t Jessica Cordero & 37 & 156\\\\\n",
       "\\end{tabular}\n"
      ],
      "text/markdown": [
       "\n",
       "A grouped_df: 2 × 3\n",
       "\n",
       "| name &lt;chr&gt; | age &lt;dbl&gt; | height &lt;dbl&gt; |\n",
       "|---|---|---|\n",
       "| Phillip Woods   | 45 | 186 |\n",
       "| Jessica Cordero | 37 | 156 |\n",
       "\n"
      ],
      "text/plain": [
       "  name            age height\n",
       "1 Phillip Woods   45  186   \n",
       "2 Jessica Cordero 37  156   "
      ]
     },
     "metadata": {},
     "output_type": "display_data"
    }
   ],
   "source": [
    "# attempt 4: this works rigorously\n",
    "people %>%\n",
    "  group_by(name, names) %>% # here is the difference\n",
    "  mutate(row = row_number()) %>%\n",
    "  filter(row <= 1) %>%\n",
    "  select(-row) %>%\n",
    "  pivot_wider(names_from = names, values_from = values) "
   ]
  },
  {
   "cell_type": "markdown",
   "metadata": {},
   "source": [
    "#### Exercise 4: Tidy this."
   ]
  },
  {
   "cell_type": "code",
   "execution_count": 20,
   "metadata": {},
   "outputs": [],
   "source": [
    "preg <- tribble(\n",
    "  ~pregnant, ~male, ~female,\n",
    "  \"yes\",     NA,    10,\n",
    "  \"no\",      20,    12\n",
    ")"
   ]
  },
  {
   "cell_type": "code",
   "execution_count": 23,
   "metadata": {},
   "outputs": [
    {
     "data": {
      "text/html": [
       "<table>\n",
       "<caption>A tibble: 4 × 3</caption>\n",
       "<thead>\n",
       "\t<tr><th scope=col>pregnant</th><th scope=col>gender</th><th scope=col>counts</th></tr>\n",
       "\t<tr><th scope=col>&lt;chr&gt;</th><th scope=col>&lt;chr&gt;</th><th scope=col>&lt;dbl&gt;</th></tr>\n",
       "</thead>\n",
       "<tbody>\n",
       "\t<tr><td>yes</td><td>male  </td><td>NA</td></tr>\n",
       "\t<tr><td>yes</td><td>female</td><td>10</td></tr>\n",
       "\t<tr><td>no </td><td>male  </td><td>20</td></tr>\n",
       "\t<tr><td>no </td><td>female</td><td>12</td></tr>\n",
       "</tbody>\n",
       "</table>\n"
      ],
      "text/latex": [
       "A tibble: 4 × 3\n",
       "\\begin{tabular}{lll}\n",
       " pregnant & gender & counts\\\\\n",
       " <chr> & <chr> & <dbl>\\\\\n",
       "\\hline\n",
       "\t yes & male   & NA\\\\\n",
       "\t yes & female & 10\\\\\n",
       "\t no  & male   & 20\\\\\n",
       "\t no  & female & 12\\\\\n",
       "\\end{tabular}\n"
      ],
      "text/markdown": [
       "\n",
       "A tibble: 4 × 3\n",
       "\n",
       "| pregnant &lt;chr&gt; | gender &lt;chr&gt; | counts &lt;dbl&gt; |\n",
       "|---|---|---|\n",
       "| yes | male   | NA |\n",
       "| yes | female | 10 |\n",
       "| no  | male   | 20 |\n",
       "| no  | female | 12 |\n",
       "\n"
      ],
      "text/plain": [
       "  pregnant gender counts\n",
       "1 yes      male   NA    \n",
       "2 yes      female 10    \n",
       "3 no       male   20    \n",
       "4 no       female 12    "
      ]
     },
     "metadata": {},
     "output_type": "display_data"
    }
   ],
   "source": [
    "preg %>%\n",
    "    pivot_longer('male':'female', names_to = 'gender', values_to = 'counts')"
   ]
  },
  {
   "cell_type": "markdown",
   "metadata": {},
   "source": [
    "### Separate\n",
    "```separate()``` pulls apart one column into multiple columns, by splitting wherever a separator character. \n",
    "\n",
    "table3  the ```rate``` column is combination of ```cases``` and ```population``` "
   ]
  },
  {
   "cell_type": "code",
   "execution_count": 26,
   "metadata": {},
   "outputs": [
    {
     "data": {
      "text/html": [
       "<table>\n",
       "<caption>A tibble: 6 × 3</caption>\n",
       "<thead>\n",
       "\t<tr><th></th><th scope=col>country</th><th scope=col>year</th><th scope=col>rate</th></tr>\n",
       "\t<tr><th></th><th scope=col>&lt;chr&gt;</th><th scope=col>&lt;int&gt;</th><th scope=col>&lt;chr&gt;</th></tr>\n",
       "</thead>\n",
       "<tbody>\n",
       "\t<tr><th scope=row>1</th><td>Afghanistan</td><td>1999</td><td>745/19987071     </td></tr>\n",
       "\t<tr><th scope=row>2</th><td>Afghanistan</td><td>2000</td><td>2666/20595360    </td></tr>\n",
       "\t<tr><th scope=row>3</th><td>Brazil     </td><td>1999</td><td>37737/172006362  </td></tr>\n",
       "\t<tr><th scope=row>4</th><td>Brazil     </td><td>2000</td><td>80488/174504898  </td></tr>\n",
       "\t<tr><th scope=row>5</th><td>China      </td><td>1999</td><td>212258/1272915272</td></tr>\n",
       "\t<tr><th scope=row>6</th><td>China      </td><td>2000</td><td>213766/1280428583</td></tr>\n",
       "</tbody>\n",
       "</table>\n"
      ],
      "text/latex": [
       "A tibble: 6 × 3\n",
       "\\begin{tabular}{r|lll}\n",
       "  & country & year & rate\\\\\n",
       "  & <chr> & <int> & <chr>\\\\\n",
       "\\hline\n",
       "\t1 & Afghanistan & 1999 & 745/19987071     \\\\\n",
       "\t2 & Afghanistan & 2000 & 2666/20595360    \\\\\n",
       "\t3 & Brazil      & 1999 & 37737/172006362  \\\\\n",
       "\t4 & Brazil      & 2000 & 80488/174504898  \\\\\n",
       "\t5 & China       & 1999 & 212258/1272915272\\\\\n",
       "\t6 & China       & 2000 & 213766/1280428583\\\\\n",
       "\\end{tabular}\n"
      ],
      "text/markdown": [
       "\n",
       "A tibble: 6 × 3\n",
       "\n",
       "| <!--/--> | country &lt;chr&gt; | year &lt;int&gt; | rate &lt;chr&gt; |\n",
       "|---|---|---|---|\n",
       "| 1 | Afghanistan | 1999 | 745/19987071      |\n",
       "| 2 | Afghanistan | 2000 | 2666/20595360     |\n",
       "| 3 | Brazil      | 1999 | 37737/172006362   |\n",
       "| 4 | Brazil      | 2000 | 80488/174504898   |\n",
       "| 5 | China       | 1999 | 212258/1272915272 |\n",
       "| 6 | China       | 2000 | 213766/1280428583 |\n",
       "\n"
      ],
      "text/plain": [
       "  country     year rate             \n",
       "1 Afghanistan 1999 745/19987071     \n",
       "2 Afghanistan 2000 2666/20595360    \n",
       "3 Brazil      1999 37737/172006362  \n",
       "4 Brazil      2000 80488/174504898  \n",
       "5 China       1999 212258/1272915272\n",
       "6 China       2000 213766/1280428583"
      ]
     },
     "metadata": {},
     "output_type": "display_data"
    }
   ],
   "source": [
    "table3"
   ]
  },
  {
   "cell_type": "code",
   "execution_count": 27,
   "metadata": {},
   "outputs": [
    {
     "data": {
      "text/html": [
       "<table>\n",
       "<caption>A tibble: 6 × 4</caption>\n",
       "<thead>\n",
       "\t<tr><th scope=col>country</th><th scope=col>year</th><th scope=col>cases</th><th scope=col>population</th></tr>\n",
       "\t<tr><th scope=col>&lt;chr&gt;</th><th scope=col>&lt;int&gt;</th><th scope=col>&lt;int&gt;</th><th scope=col>&lt;int&gt;</th></tr>\n",
       "</thead>\n",
       "<tbody>\n",
       "\t<tr><td>Afghanistan</td><td>1999</td><td>   745</td><td>  19987071</td></tr>\n",
       "\t<tr><td>Afghanistan</td><td>2000</td><td>  2666</td><td>  20595360</td></tr>\n",
       "\t<tr><td>Brazil     </td><td>1999</td><td> 37737</td><td> 172006362</td></tr>\n",
       "\t<tr><td>Brazil     </td><td>2000</td><td> 80488</td><td> 174504898</td></tr>\n",
       "\t<tr><td>China      </td><td>1999</td><td>212258</td><td>1272915272</td></tr>\n",
       "\t<tr><td>China      </td><td>2000</td><td>213766</td><td>1280428583</td></tr>\n",
       "</tbody>\n",
       "</table>\n"
      ],
      "text/latex": [
       "A tibble: 6 × 4\n",
       "\\begin{tabular}{llll}\n",
       " country & year & cases & population\\\\\n",
       " <chr> & <int> & <int> & <int>\\\\\n",
       "\\hline\n",
       "\t Afghanistan & 1999 &    745 &   19987071\\\\\n",
       "\t Afghanistan & 2000 &   2666 &   20595360\\\\\n",
       "\t Brazil      & 1999 &  37737 &  172006362\\\\\n",
       "\t Brazil      & 2000 &  80488 &  174504898\\\\\n",
       "\t China       & 1999 & 212258 & 1272915272\\\\\n",
       "\t China       & 2000 & 213766 & 1280428583\\\\\n",
       "\\end{tabular}\n"
      ],
      "text/markdown": [
       "\n",
       "A tibble: 6 × 4\n",
       "\n",
       "| country &lt;chr&gt; | year &lt;int&gt; | cases &lt;int&gt; | population &lt;int&gt; |\n",
       "|---|---|---|---|\n",
       "| Afghanistan | 1999 |    745 |   19987071 |\n",
       "| Afghanistan | 2000 |   2666 |   20595360 |\n",
       "| Brazil      | 1999 |  37737 |  172006362 |\n",
       "| Brazil      | 2000 |  80488 |  174504898 |\n",
       "| China       | 1999 | 212258 | 1272915272 |\n",
       "| China       | 2000 | 213766 | 1280428583 |\n",
       "\n"
      ],
      "text/plain": [
       "  country     year cases  population\n",
       "1 Afghanistan 1999    745   19987071\n",
       "2 Afghanistan 2000   2666   20595360\n",
       "3 Brazil      1999  37737  172006362\n",
       "4 Brazil      2000  80488  174504898\n",
       "5 China       1999 212258 1272915272\n",
       "6 China       2000 213766 1280428583"
      ]
     },
     "metadata": {},
     "output_type": "display_data"
    }
   ],
   "source": [
    "table3 %>% \n",
    "  separate(rate, into = c(\"cases\", \"population\"), convert = TRUE)"
   ]
  },
  {
   "cell_type": "code",
   "execution_count": 28,
   "metadata": {},
   "outputs": [
    {
     "data": {
      "text/html": [
       "<table>\n",
       "<caption>A tibble: 6 × 4</caption>\n",
       "<thead>\n",
       "\t<tr><th scope=col>country</th><th scope=col>century</th><th scope=col>year</th><th scope=col>rate</th></tr>\n",
       "\t<tr><th scope=col>&lt;chr&gt;</th><th scope=col>&lt;chr&gt;</th><th scope=col>&lt;chr&gt;</th><th scope=col>&lt;chr&gt;</th></tr>\n",
       "</thead>\n",
       "<tbody>\n",
       "\t<tr><td>Afghanistan</td><td>19</td><td>99</td><td>745/19987071     </td></tr>\n",
       "\t<tr><td>Afghanistan</td><td>20</td><td>00</td><td>2666/20595360    </td></tr>\n",
       "\t<tr><td>Brazil     </td><td>19</td><td>99</td><td>37737/172006362  </td></tr>\n",
       "\t<tr><td>Brazil     </td><td>20</td><td>00</td><td>80488/174504898  </td></tr>\n",
       "\t<tr><td>China      </td><td>19</td><td>99</td><td>212258/1272915272</td></tr>\n",
       "\t<tr><td>China      </td><td>20</td><td>00</td><td>213766/1280428583</td></tr>\n",
       "</tbody>\n",
       "</table>\n"
      ],
      "text/latex": [
       "A tibble: 6 × 4\n",
       "\\begin{tabular}{llll}\n",
       " country & century & year & rate\\\\\n",
       " <chr> & <chr> & <chr> & <chr>\\\\\n",
       "\\hline\n",
       "\t Afghanistan & 19 & 99 & 745/19987071     \\\\\n",
       "\t Afghanistan & 20 & 00 & 2666/20595360    \\\\\n",
       "\t Brazil      & 19 & 99 & 37737/172006362  \\\\\n",
       "\t Brazil      & 20 & 00 & 80488/174504898  \\\\\n",
       "\t China       & 19 & 99 & 212258/1272915272\\\\\n",
       "\t China       & 20 & 00 & 213766/1280428583\\\\\n",
       "\\end{tabular}\n"
      ],
      "text/markdown": [
       "\n",
       "A tibble: 6 × 4\n",
       "\n",
       "| country &lt;chr&gt; | century &lt;chr&gt; | year &lt;chr&gt; | rate &lt;chr&gt; |\n",
       "|---|---|---|---|\n",
       "| Afghanistan | 19 | 99 | 745/19987071      |\n",
       "| Afghanistan | 20 | 00 | 2666/20595360     |\n",
       "| Brazil      | 19 | 99 | 37737/172006362   |\n",
       "| Brazil      | 20 | 00 | 80488/174504898   |\n",
       "| China       | 19 | 99 | 212258/1272915272 |\n",
       "| China       | 20 | 00 | 213766/1280428583 |\n",
       "\n"
      ],
      "text/plain": [
       "  country     century year rate             \n",
       "1 Afghanistan 19      99   745/19987071     \n",
       "2 Afghanistan 20      00   2666/20595360    \n",
       "3 Brazil      19      99   37737/172006362  \n",
       "4 Brazil      20      00   80488/174504898  \n",
       "5 China       19      99   212258/1272915272\n",
       "6 China       20      00   213766/1280428583"
      ]
     },
     "metadata": {},
     "output_type": "display_data"
    }
   ],
   "source": [
    "table3 %>% \n",
    "  separate(year, into = c(\"century\", \"year\"), sep = 2)  "
   ]
  },
  {
   "cell_type": "markdown",
   "metadata": {},
   "source": [
    "### Unite"
   ]
  },
  {
   "cell_type": "code",
   "execution_count": 29,
   "metadata": {},
   "outputs": [
    {
     "data": {
      "text/html": [
       "<table>\n",
       "<caption>A tibble: 6 × 4</caption>\n",
       "<thead>\n",
       "\t<tr><th></th><th scope=col>country</th><th scope=col>century</th><th scope=col>year</th><th scope=col>rate</th></tr>\n",
       "\t<tr><th></th><th scope=col>&lt;chr&gt;</th><th scope=col>&lt;chr&gt;</th><th scope=col>&lt;chr&gt;</th><th scope=col>&lt;chr&gt;</th></tr>\n",
       "</thead>\n",
       "<tbody>\n",
       "\t<tr><th scope=row>1</th><td>Afghanistan</td><td>19</td><td>99</td><td>745/19987071     </td></tr>\n",
       "\t<tr><th scope=row>2</th><td>Afghanistan</td><td>20</td><td>00</td><td>2666/20595360    </td></tr>\n",
       "\t<tr><th scope=row>3</th><td>Brazil     </td><td>19</td><td>99</td><td>37737/172006362  </td></tr>\n",
       "\t<tr><th scope=row>4</th><td>Brazil     </td><td>20</td><td>00</td><td>80488/174504898  </td></tr>\n",
       "\t<tr><th scope=row>5</th><td>China      </td><td>19</td><td>99</td><td>212258/1272915272</td></tr>\n",
       "\t<tr><th scope=row>6</th><td>China      </td><td>20</td><td>00</td><td>213766/1280428583</td></tr>\n",
       "</tbody>\n",
       "</table>\n"
      ],
      "text/latex": [
       "A tibble: 6 × 4\n",
       "\\begin{tabular}{r|llll}\n",
       "  & country & century & year & rate\\\\\n",
       "  & <chr> & <chr> & <chr> & <chr>\\\\\n",
       "\\hline\n",
       "\t1 & Afghanistan & 19 & 99 & 745/19987071     \\\\\n",
       "\t2 & Afghanistan & 20 & 00 & 2666/20595360    \\\\\n",
       "\t3 & Brazil      & 19 & 99 & 37737/172006362  \\\\\n",
       "\t4 & Brazil      & 20 & 00 & 80488/174504898  \\\\\n",
       "\t5 & China       & 19 & 99 & 212258/1272915272\\\\\n",
       "\t6 & China       & 20 & 00 & 213766/1280428583\\\\\n",
       "\\end{tabular}\n"
      ],
      "text/markdown": [
       "\n",
       "A tibble: 6 × 4\n",
       "\n",
       "| <!--/--> | country &lt;chr&gt; | century &lt;chr&gt; | year &lt;chr&gt; | rate &lt;chr&gt; |\n",
       "|---|---|---|---|---|\n",
       "| 1 | Afghanistan | 19 | 99 | 745/19987071      |\n",
       "| 2 | Afghanistan | 20 | 00 | 2666/20595360     |\n",
       "| 3 | Brazil      | 19 | 99 | 37737/172006362   |\n",
       "| 4 | Brazil      | 20 | 00 | 80488/174504898   |\n",
       "| 5 | China       | 19 | 99 | 212258/1272915272 |\n",
       "| 6 | China       | 20 | 00 | 213766/1280428583 |\n",
       "\n"
      ],
      "text/plain": [
       "  country     century year rate             \n",
       "1 Afghanistan 19      99   745/19987071     \n",
       "2 Afghanistan 20      00   2666/20595360    \n",
       "3 Brazil      19      99   37737/172006362  \n",
       "4 Brazil      20      00   80488/174504898  \n",
       "5 China       19      99   212258/1272915272\n",
       "6 China       20      00   213766/1280428583"
      ]
     },
     "metadata": {},
     "output_type": "display_data"
    }
   ],
   "source": [
    "table5"
   ]
  },
  {
   "cell_type": "code",
   "execution_count": 30,
   "metadata": {},
   "outputs": [
    {
     "data": {
      "text/html": [
       "<table>\n",
       "<caption>A tibble: 6 × 3</caption>\n",
       "<thead>\n",
       "\t<tr><th scope=col>country</th><th scope=col>new</th><th scope=col>rate</th></tr>\n",
       "\t<tr><th scope=col>&lt;chr&gt;</th><th scope=col>&lt;chr&gt;</th><th scope=col>&lt;chr&gt;</th></tr>\n",
       "</thead>\n",
       "<tbody>\n",
       "\t<tr><td>Afghanistan</td><td>19_99</td><td>745/19987071     </td></tr>\n",
       "\t<tr><td>Afghanistan</td><td>20_00</td><td>2666/20595360    </td></tr>\n",
       "\t<tr><td>Brazil     </td><td>19_99</td><td>37737/172006362  </td></tr>\n",
       "\t<tr><td>Brazil     </td><td>20_00</td><td>80488/174504898  </td></tr>\n",
       "\t<tr><td>China      </td><td>19_99</td><td>212258/1272915272</td></tr>\n",
       "\t<tr><td>China      </td><td>20_00</td><td>213766/1280428583</td></tr>\n",
       "</tbody>\n",
       "</table>\n"
      ],
      "text/latex": [
       "A tibble: 6 × 3\n",
       "\\begin{tabular}{lll}\n",
       " country & new & rate\\\\\n",
       " <chr> & <chr> & <chr>\\\\\n",
       "\\hline\n",
       "\t Afghanistan & 19\\_99 & 745/19987071     \\\\\n",
       "\t Afghanistan & 20\\_00 & 2666/20595360    \\\\\n",
       "\t Brazil      & 19\\_99 & 37737/172006362  \\\\\n",
       "\t Brazil      & 20\\_00 & 80488/174504898  \\\\\n",
       "\t China       & 19\\_99 & 212258/1272915272\\\\\n",
       "\t China       & 20\\_00 & 213766/1280428583\\\\\n",
       "\\end{tabular}\n"
      ],
      "text/markdown": [
       "\n",
       "A tibble: 6 × 3\n",
       "\n",
       "| country &lt;chr&gt; | new &lt;chr&gt; | rate &lt;chr&gt; |\n",
       "|---|---|---|\n",
       "| Afghanistan | 19_99 | 745/19987071      |\n",
       "| Afghanistan | 20_00 | 2666/20595360     |\n",
       "| Brazil      | 19_99 | 37737/172006362   |\n",
       "| Brazil      | 20_00 | 80488/174504898   |\n",
       "| China       | 19_99 | 212258/1272915272 |\n",
       "| China       | 20_00 | 213766/1280428583 |\n",
       "\n"
      ],
      "text/plain": [
       "  country     new   rate             \n",
       "1 Afghanistan 19_99 745/19987071     \n",
       "2 Afghanistan 20_00 2666/20595360    \n",
       "3 Brazil      19_99 37737/172006362  \n",
       "4 Brazil      20_00 80488/174504898  \n",
       "5 China       19_99 212258/1272915272\n",
       "6 China       20_00 213766/1280428583"
      ]
     },
     "metadata": {},
     "output_type": "display_data"
    }
   ],
   "source": [
    "# vanila unite() sep = '_'\n",
    "table5 %>% \n",
    "  unite(new, century, year)"
   ]
  },
  {
   "cell_type": "code",
   "execution_count": 31,
   "metadata": {},
   "outputs": [
    {
     "data": {
      "text/html": [
       "<table>\n",
       "<caption>A tibble: 6 × 3</caption>\n",
       "<thead>\n",
       "\t<tr><th scope=col>country</th><th scope=col>new</th><th scope=col>rate</th></tr>\n",
       "\t<tr><th scope=col>&lt;chr&gt;</th><th scope=col>&lt;chr&gt;</th><th scope=col>&lt;chr&gt;</th></tr>\n",
       "</thead>\n",
       "<tbody>\n",
       "\t<tr><td>Afghanistan</td><td>1999</td><td>745/19987071     </td></tr>\n",
       "\t<tr><td>Afghanistan</td><td>2000</td><td>2666/20595360    </td></tr>\n",
       "\t<tr><td>Brazil     </td><td>1999</td><td>37737/172006362  </td></tr>\n",
       "\t<tr><td>Brazil     </td><td>2000</td><td>80488/174504898  </td></tr>\n",
       "\t<tr><td>China      </td><td>1999</td><td>212258/1272915272</td></tr>\n",
       "\t<tr><td>China      </td><td>2000</td><td>213766/1280428583</td></tr>\n",
       "</tbody>\n",
       "</table>\n"
      ],
      "text/latex": [
       "A tibble: 6 × 3\n",
       "\\begin{tabular}{lll}\n",
       " country & new & rate\\\\\n",
       " <chr> & <chr> & <chr>\\\\\n",
       "\\hline\n",
       "\t Afghanistan & 1999 & 745/19987071     \\\\\n",
       "\t Afghanistan & 2000 & 2666/20595360    \\\\\n",
       "\t Brazil      & 1999 & 37737/172006362  \\\\\n",
       "\t Brazil      & 2000 & 80488/174504898  \\\\\n",
       "\t China       & 1999 & 212258/1272915272\\\\\n",
       "\t China       & 2000 & 213766/1280428583\\\\\n",
       "\\end{tabular}\n"
      ],
      "text/markdown": [
       "\n",
       "A tibble: 6 × 3\n",
       "\n",
       "| country &lt;chr&gt; | new &lt;chr&gt; | rate &lt;chr&gt; |\n",
       "|---|---|---|\n",
       "| Afghanistan | 1999 | 745/19987071      |\n",
       "| Afghanistan | 2000 | 2666/20595360     |\n",
       "| Brazil      | 1999 | 37737/172006362   |\n",
       "| Brazil      | 2000 | 80488/174504898   |\n",
       "| China       | 1999 | 212258/1272915272 |\n",
       "| China       | 2000 | 213766/1280428583 |\n",
       "\n"
      ],
      "text/plain": [
       "  country     new  rate             \n",
       "1 Afghanistan 1999 745/19987071     \n",
       "2 Afghanistan 2000 2666/20595360    \n",
       "3 Brazil      1999 37737/172006362  \n",
       "4 Brazil      2000 80488/174504898  \n",
       "5 China       1999 212258/1272915272\n",
       "6 China       2000 213766/1280428583"
      ]
     },
     "metadata": {},
     "output_type": "display_data"
    }
   ],
   "source": [
    "# specify sep\n",
    "table5 %>% \n",
    "  unite(new, century, year, sep = '')"
   ]
  },
  {
   "cell_type": "code",
   "execution_count": 34,
   "metadata": {},
   "outputs": [
    {
     "data": {
      "text/html": [
       "<table>\n",
       "<caption>A tibble: 3 × 3</caption>\n",
       "<thead>\n",
       "\t<tr><th scope=col>one</th><th scope=col>two</th><th scope=col>three</th></tr>\n",
       "\t<tr><th scope=col>&lt;chr&gt;</th><th scope=col>&lt;chr&gt;</th><th scope=col>&lt;chr&gt;</th></tr>\n",
       "</thead>\n",
       "<tbody>\n",
       "\t<tr><td>a</td><td>b</td><td>c  </td></tr>\n",
       "\t<tr><td>d</td><td>e</td><td>f,g</td></tr>\n",
       "\t<tr><td>h</td><td>i</td><td>j  </td></tr>\n",
       "</tbody>\n",
       "</table>\n"
      ],
      "text/latex": [
       "A tibble: 3 × 3\n",
       "\\begin{tabular}{lll}\n",
       " one & two & three\\\\\n",
       " <chr> & <chr> & <chr>\\\\\n",
       "\\hline\n",
       "\t a & b & c  \\\\\n",
       "\t d & e & f,g\\\\\n",
       "\t h & i & j  \\\\\n",
       "\\end{tabular}\n"
      ],
      "text/markdown": [
       "\n",
       "A tibble: 3 × 3\n",
       "\n",
       "| one &lt;chr&gt; | two &lt;chr&gt; | three &lt;chr&gt; |\n",
       "|---|---|---|\n",
       "| a | b | c   |\n",
       "| d | e | f,g |\n",
       "| h | i | j   |\n",
       "\n"
      ],
      "text/plain": [
       "  one two three\n",
       "1 a   b   c    \n",
       "2 d   e   f,g  \n",
       "3 h   i   j    "
      ]
     },
     "metadata": {},
     "output_type": "display_data"
    }
   ],
   "source": [
    "tibble(x = c(\"a,b,c\", \"d,e,f,g\", \"h,i,j\")) %>% \n",
    "  separate(x, c(\"one\", \"two\", \"three\"), extra = 'merge') # default: extra = 'warn' drop extra with a warning"
   ]
  },
  {
   "cell_type": "code",
   "execution_count": 39,
   "metadata": {},
   "outputs": [
    {
     "data": {
      "text/html": [
       "<table>\n",
       "<caption>A tibble: 3 × 3</caption>\n",
       "<thead>\n",
       "\t<tr><th scope=col>one</th><th scope=col>two</th><th scope=col>three</th></tr>\n",
       "\t<tr><th scope=col>&lt;chr&gt;</th><th scope=col>&lt;chr&gt;</th><th scope=col>&lt;chr&gt;</th></tr>\n",
       "</thead>\n",
       "<tbody>\n",
       "\t<tr><td>a </td><td>b</td><td>c</td></tr>\n",
       "\t<tr><td>NA</td><td>d</td><td>e</td></tr>\n",
       "\t<tr><td>f </td><td>g</td><td>i</td></tr>\n",
       "</tbody>\n",
       "</table>\n"
      ],
      "text/latex": [
       "A tibble: 3 × 3\n",
       "\\begin{tabular}{lll}\n",
       " one & two & three\\\\\n",
       " <chr> & <chr> & <chr>\\\\\n",
       "\\hline\n",
       "\t a  & b & c\\\\\n",
       "\t NA & d & e\\\\\n",
       "\t f  & g & i\\\\\n",
       "\\end{tabular}\n"
      ],
      "text/markdown": [
       "\n",
       "A tibble: 3 × 3\n",
       "\n",
       "| one &lt;chr&gt; | two &lt;chr&gt; | three &lt;chr&gt; |\n",
       "|---|---|---|\n",
       "| a  | b | c |\n",
       "| NA | d | e |\n",
       "| f  | g | i |\n",
       "\n"
      ],
      "text/plain": [
       "  one two three\n",
       "1 a   b   c    \n",
       "2 NA  d   e    \n",
       "3 f   g   i    "
      ]
     },
     "metadata": {},
     "output_type": "display_data"
    }
   ],
   "source": [
    "tibble(x = c(\"a,b,c\", \"d,e\", \"f,g,i\")) %>% \n",
    "  separate(x, c(\"one\", \"two\", \"three\"), fill = 'left') \n",
    "# default fill = 'warn', fill with NA from right with warning. 'right' from right"
   ]
  },
  {
   "cell_type": "markdown",
   "metadata": {},
   "source": [
    "### Joins"
   ]
  },
  {
   "cell_type": "code",
   "execution_count": 15,
   "metadata": {},
   "outputs": [
    {
     "name": "stderr",
     "output_type": "stream",
     "text": [
      "Joining, by = c(\"country\", \"year\")\n",
      "\n"
     ]
    },
    {
     "data": {
      "text/html": [
       "<table>\n",
       "<caption>A tibble: 6 × 4</caption>\n",
       "<thead>\n",
       "\t<tr><th scope=col>country</th><th scope=col>year</th><th scope=col>cases</th><th scope=col>population</th></tr>\n",
       "\t<tr><th scope=col>&lt;chr&gt;</th><th scope=col>&lt;chr&gt;</th><th scope=col>&lt;int&gt;</th><th scope=col>&lt;int&gt;</th></tr>\n",
       "</thead>\n",
       "<tbody>\n",
       "\t<tr><td>Afghanistan</td><td>1999</td><td>   745</td><td>  19987071</td></tr>\n",
       "\t<tr><td>Afghanistan</td><td>2000</td><td>  2666</td><td>  20595360</td></tr>\n",
       "\t<tr><td>Brazil     </td><td>1999</td><td> 37737</td><td> 172006362</td></tr>\n",
       "\t<tr><td>Brazil     </td><td>2000</td><td> 80488</td><td> 174504898</td></tr>\n",
       "\t<tr><td>China      </td><td>1999</td><td>212258</td><td>1272915272</td></tr>\n",
       "\t<tr><td>China      </td><td>2000</td><td>213766</td><td>1280428583</td></tr>\n",
       "</tbody>\n",
       "</table>\n"
      ],
      "text/latex": [
       "A tibble: 6 × 4\n",
       "\\begin{tabular}{llll}\n",
       " country & year & cases & population\\\\\n",
       " <chr> & <chr> & <int> & <int>\\\\\n",
       "\\hline\n",
       "\t Afghanistan & 1999 &    745 &   19987071\\\\\n",
       "\t Afghanistan & 2000 &   2666 &   20595360\\\\\n",
       "\t Brazil      & 1999 &  37737 &  172006362\\\\\n",
       "\t Brazil      & 2000 &  80488 &  174504898\\\\\n",
       "\t China       & 1999 & 212258 & 1272915272\\\\\n",
       "\t China       & 2000 & 213766 & 1280428583\\\\\n",
       "\\end{tabular}\n"
      ],
      "text/markdown": [
       "\n",
       "A tibble: 6 × 4\n",
       "\n",
       "| country &lt;chr&gt; | year &lt;chr&gt; | cases &lt;int&gt; | population &lt;int&gt; |\n",
       "|---|---|---|---|\n",
       "| Afghanistan | 1999 |    745 |   19987071 |\n",
       "| Afghanistan | 2000 |   2666 |   20595360 |\n",
       "| Brazil      | 1999 |  37737 |  172006362 |\n",
       "| Brazil      | 2000 |  80488 |  174504898 |\n",
       "| China       | 1999 | 212258 | 1272915272 |\n",
       "| China       | 2000 | 213766 | 1280428583 |\n",
       "\n"
      ],
      "text/plain": [
       "  country     year cases  population\n",
       "1 Afghanistan 1999    745   19987071\n",
       "2 Afghanistan 2000   2666   20595360\n",
       "3 Brazil      1999  37737  172006362\n",
       "4 Brazil      2000  80488  174504898\n",
       "5 China       1999 212258 1272915272\n",
       "6 China       2000 213766 1280428583"
      ]
     },
     "metadata": {},
     "output_type": "display_data"
    }
   ],
   "source": [
    "# join\n",
    "tidy4a <- table4a %>% \n",
    "  pivot_longer(c(`1999`, `2000`), names_to = \"year\", values_to = \"cases\")\n",
    "tidy4b <- table4b %>% \n",
    "  pivot_longer(c(`1999`, `2000`), names_to = \"year\", values_to = \"population\")\n",
    "(table_4ab_joined <- left_join(tidy4a, tidy4b))"
   ]
  },
  {
   "cell_type": "markdown",
   "metadata": {},
   "source": [
    "### Missing Values"
   ]
  },
  {
   "cell_type": "code",
   "execution_count": 40,
   "metadata": {},
   "outputs": [
    {
     "data": {
      "text/html": [
       "<table>\n",
       "<caption>A tibble: 7 × 3</caption>\n",
       "<thead>\n",
       "\t<tr><th scope=col>year</th><th scope=col>qtr</th><th scope=col>return</th></tr>\n",
       "\t<tr><th scope=col>&lt;dbl&gt;</th><th scope=col>&lt;dbl&gt;</th><th scope=col>&lt;dbl&gt;</th></tr>\n",
       "</thead>\n",
       "<tbody>\n",
       "\t<tr><td>2015</td><td>1</td><td>1.88</td></tr>\n",
       "\t<tr><td>2015</td><td>2</td><td>0.59</td></tr>\n",
       "\t<tr><td>2015</td><td>3</td><td>0.35</td></tr>\n",
       "\t<tr><td>2015</td><td>4</td><td>  NA</td></tr>\n",
       "\t<tr><td>2016</td><td>2</td><td>0.92</td></tr>\n",
       "\t<tr><td>2016</td><td>3</td><td>0.17</td></tr>\n",
       "\t<tr><td>2016</td><td>4</td><td>2.66</td></tr>\n",
       "</tbody>\n",
       "</table>\n"
      ],
      "text/latex": [
       "A tibble: 7 × 3\n",
       "\\begin{tabular}{lll}\n",
       " year & qtr & return\\\\\n",
       " <dbl> & <dbl> & <dbl>\\\\\n",
       "\\hline\n",
       "\t 2015 & 1 & 1.88\\\\\n",
       "\t 2015 & 2 & 0.59\\\\\n",
       "\t 2015 & 3 & 0.35\\\\\n",
       "\t 2015 & 4 &   NA\\\\\n",
       "\t 2016 & 2 & 0.92\\\\\n",
       "\t 2016 & 3 & 0.17\\\\\n",
       "\t 2016 & 4 & 2.66\\\\\n",
       "\\end{tabular}\n"
      ],
      "text/markdown": [
       "\n",
       "A tibble: 7 × 3\n",
       "\n",
       "| year &lt;dbl&gt; | qtr &lt;dbl&gt; | return &lt;dbl&gt; |\n",
       "|---|---|---|\n",
       "| 2015 | 1 | 1.88 |\n",
       "| 2015 | 2 | 0.59 |\n",
       "| 2015 | 3 | 0.35 |\n",
       "| 2015 | 4 |   NA |\n",
       "| 2016 | 2 | 0.92 |\n",
       "| 2016 | 3 | 0.17 |\n",
       "| 2016 | 4 | 2.66 |\n",
       "\n"
      ],
      "text/plain": [
       "  year qtr return\n",
       "1 2015 1   1.88  \n",
       "2 2015 2   0.59  \n",
       "3 2015 3   0.35  \n",
       "4 2015 4     NA  \n",
       "5 2016 2   0.92  \n",
       "6 2016 3   0.17  \n",
       "7 2016 4   2.66  "
      ]
     },
     "metadata": {},
     "output_type": "display_data"
    }
   ],
   "source": [
    "(stocks <- tibble(\n",
    "  year   = c(2015, 2015, 2015, 2015, 2016, 2016, 2016),\n",
    "  qtr    = c(   1,    2,    3,    4,    2,    3,    4),\n",
    "  return = c(1.88, 0.59, 0.35,   NA, 0.92, 0.17, 2.66)\n",
    "))"
   ]
  },
  {
   "cell_type": "code",
   "execution_count": 46,
   "metadata": {},
   "outputs": [
    {
     "data": {
      "text/html": [
       "<table>\n",
       "<caption>A tibble: 8 × 3</caption>\n",
       "<thead>\n",
       "\t<tr><th scope=col>year</th><th scope=col>qtr</th><th scope=col>return</th></tr>\n",
       "\t<tr><th scope=col>&lt;dbl&gt;</th><th scope=col>&lt;dbl&gt;</th><th scope=col>&lt;dbl&gt;</th></tr>\n",
       "</thead>\n",
       "<tbody>\n",
       "\t<tr><td>2015</td><td>1</td><td>1.88</td></tr>\n",
       "\t<tr><td>2015</td><td>2</td><td>0.59</td></tr>\n",
       "\t<tr><td>2015</td><td>3</td><td>0.35</td></tr>\n",
       "\t<tr><td>2015</td><td>4</td><td>  NA</td></tr>\n",
       "\t<tr><td>2016</td><td>1</td><td>  NA</td></tr>\n",
       "\t<tr><td>2016</td><td>2</td><td>0.92</td></tr>\n",
       "\t<tr><td>2016</td><td>3</td><td>0.17</td></tr>\n",
       "\t<tr><td>2016</td><td>4</td><td>2.66</td></tr>\n",
       "</tbody>\n",
       "</table>\n"
      ],
      "text/latex": [
       "A tibble: 8 × 3\n",
       "\\begin{tabular}{lll}\n",
       " year & qtr & return\\\\\n",
       " <dbl> & <dbl> & <dbl>\\\\\n",
       "\\hline\n",
       "\t 2015 & 1 & 1.88\\\\\n",
       "\t 2015 & 2 & 0.59\\\\\n",
       "\t 2015 & 3 & 0.35\\\\\n",
       "\t 2015 & 4 &   NA\\\\\n",
       "\t 2016 & 1 &   NA\\\\\n",
       "\t 2016 & 2 & 0.92\\\\\n",
       "\t 2016 & 3 & 0.17\\\\\n",
       "\t 2016 & 4 & 2.66\\\\\n",
       "\\end{tabular}\n"
      ],
      "text/markdown": [
       "\n",
       "A tibble: 8 × 3\n",
       "\n",
       "| year &lt;dbl&gt; | qtr &lt;dbl&gt; | return &lt;dbl&gt; |\n",
       "|---|---|---|\n",
       "| 2015 | 1 | 1.88 |\n",
       "| 2015 | 2 | 0.59 |\n",
       "| 2015 | 3 | 0.35 |\n",
       "| 2015 | 4 |   NA |\n",
       "| 2016 | 1 |   NA |\n",
       "| 2016 | 2 | 0.92 |\n",
       "| 2016 | 3 | 0.17 |\n",
       "| 2016 | 4 | 2.66 |\n",
       "\n"
      ],
      "text/plain": [
       "  year qtr return\n",
       "1 2015 1   1.88  \n",
       "2 2015 2   0.59  \n",
       "3 2015 3   0.35  \n",
       "4 2015 4     NA  \n",
       "5 2016 1     NA  \n",
       "6 2016 2   0.92  \n",
       "7 2016 3   0.17  \n",
       "8 2016 4   2.66  "
      ]
     },
     "metadata": {},
     "output_type": "display_data"
    }
   ],
   "source": [
    "stocks %>%\n",
    "    complete(year, qtr)"
   ]
  },
  {
   "cell_type": "code",
   "execution_count": 44,
   "metadata": {},
   "outputs": [
    {
     "data": {
      "text/html": [
       "<table>\n",
       "<caption>A tibble: 4 × 3</caption>\n",
       "<thead>\n",
       "\t<tr><th scope=col>qtr</th><th scope=col>2015</th><th scope=col>2016</th></tr>\n",
       "\t<tr><th scope=col>&lt;dbl&gt;</th><th scope=col>&lt;dbl&gt;</th><th scope=col>&lt;dbl&gt;</th></tr>\n",
       "</thead>\n",
       "<tbody>\n",
       "\t<tr><td>1</td><td>1.88</td><td>  NA</td></tr>\n",
       "\t<tr><td>2</td><td>0.59</td><td>0.92</td></tr>\n",
       "\t<tr><td>3</td><td>0.35</td><td>0.17</td></tr>\n",
       "\t<tr><td>4</td><td>  NA</td><td>2.66</td></tr>\n",
       "</tbody>\n",
       "</table>\n"
      ],
      "text/latex": [
       "A tibble: 4 × 3\n",
       "\\begin{tabular}{lll}\n",
       " qtr & 2015 & 2016\\\\\n",
       " <dbl> & <dbl> & <dbl>\\\\\n",
       "\\hline\n",
       "\t 1 & 1.88 &   NA\\\\\n",
       "\t 2 & 0.59 & 0.92\\\\\n",
       "\t 3 & 0.35 & 0.17\\\\\n",
       "\t 4 &   NA & 2.66\\\\\n",
       "\\end{tabular}\n"
      ],
      "text/markdown": [
       "\n",
       "A tibble: 4 × 3\n",
       "\n",
       "| qtr &lt;dbl&gt; | 2015 &lt;dbl&gt; | 2016 &lt;dbl&gt; |\n",
       "|---|---|---|\n",
       "| 1 | 1.88 |   NA |\n",
       "| 2 | 0.59 | 0.92 |\n",
       "| 3 | 0.35 | 0.17 |\n",
       "| 4 |   NA | 2.66 |\n",
       "\n"
      ],
      "text/plain": [
       "  qtr 2015 2016\n",
       "1 1   1.88   NA\n",
       "2 2   0.59 0.92\n",
       "3 3   0.35 0.17\n",
       "4 4     NA 2.66"
      ]
     },
     "metadata": {},
     "output_type": "display_data"
    }
   ],
   "source": [
    "# explicit by default when pivoting\n",
    "stocks %>% \n",
    "  pivot_wider(names_from = year, values_from = return)"
   ]
  },
  {
   "cell_type": "code",
   "execution_count": 45,
   "metadata": {},
   "outputs": [
    {
     "data": {
      "text/html": [
       "<table>\n",
       "<caption>A tibble: 6 × 3</caption>\n",
       "<thead>\n",
       "\t<tr><th scope=col>qtr</th><th scope=col>year</th><th scope=col>return</th></tr>\n",
       "\t<tr><th scope=col>&lt;dbl&gt;</th><th scope=col>&lt;chr&gt;</th><th scope=col>&lt;dbl&gt;</th></tr>\n",
       "</thead>\n",
       "<tbody>\n",
       "\t<tr><td>1</td><td>2015</td><td>1.88</td></tr>\n",
       "\t<tr><td>2</td><td>2015</td><td>0.59</td></tr>\n",
       "\t<tr><td>2</td><td>2016</td><td>0.92</td></tr>\n",
       "\t<tr><td>3</td><td>2015</td><td>0.35</td></tr>\n",
       "\t<tr><td>3</td><td>2016</td><td>0.17</td></tr>\n",
       "\t<tr><td>4</td><td>2016</td><td>2.66</td></tr>\n",
       "</tbody>\n",
       "</table>\n"
      ],
      "text/latex": [
       "A tibble: 6 × 3\n",
       "\\begin{tabular}{lll}\n",
       " qtr & year & return\\\\\n",
       " <dbl> & <chr> & <dbl>\\\\\n",
       "\\hline\n",
       "\t 1 & 2015 & 1.88\\\\\n",
       "\t 2 & 2015 & 0.59\\\\\n",
       "\t 2 & 2016 & 0.92\\\\\n",
       "\t 3 & 2015 & 0.35\\\\\n",
       "\t 3 & 2016 & 0.17\\\\\n",
       "\t 4 & 2016 & 2.66\\\\\n",
       "\\end{tabular}\n"
      ],
      "text/markdown": [
       "\n",
       "A tibble: 6 × 3\n",
       "\n",
       "| qtr &lt;dbl&gt; | year &lt;chr&gt; | return &lt;dbl&gt; |\n",
       "|---|---|---|\n",
       "| 1 | 2015 | 1.88 |\n",
       "| 2 | 2015 | 0.59 |\n",
       "| 2 | 2016 | 0.92 |\n",
       "| 3 | 2015 | 0.35 |\n",
       "| 3 | 2016 | 0.17 |\n",
       "| 4 | 2016 | 2.66 |\n",
       "\n"
      ],
      "text/plain": [
       "  qtr year return\n",
       "1 1   2015 1.88  \n",
       "2 2   2015 0.59  \n",
       "3 2   2016 0.92  \n",
       "4 3   2015 0.35  \n",
       "5 3   2016 0.17  \n",
       "6 4   2016 2.66  "
      ]
     },
     "metadata": {},
     "output_type": "display_data"
    }
   ],
   "source": [
    "# implicity be dropping NA\n",
    "stocks %>% \n",
    "  pivot_wider(names_from = year, values_from = return) %>% \n",
    "  pivot_longer(\n",
    "    cols = c(`2015`, `2016`), \n",
    "    names_to = \"year\", \n",
    "    values_to = \"return\", \n",
    "    values_drop_na = TRUE\n",
    "  )"
   ]
  },
  {
   "cell_type": "markdown",
   "metadata": {},
   "source": [
    "### Case Study\n",
    "who dataset "
   ]
  },
  {
   "cell_type": "code",
   "execution_count": 51,
   "metadata": {},
   "outputs": [
    {
     "data": {
      "text/html": [
       "7240"
      ],
      "text/latex": [
       "7240"
      ],
      "text/markdown": [
       "7240"
      ],
      "text/plain": [
       "[1] 7240"
      ]
     },
     "metadata": {},
     "output_type": "display_data"
    },
    {
     "data": {
      "text/html": [
       "60"
      ],
      "text/latex": [
       "60"
      ],
      "text/markdown": [
       "60"
      ],
      "text/plain": [
       "[1] 60"
      ]
     },
     "metadata": {},
     "output_type": "display_data"
    }
   ],
   "source": [
    "nrow(who)\n",
    "ncol(who)"
   ]
  },
  {
   "cell_type": "code",
   "execution_count": 48,
   "metadata": {},
   "outputs": [
    {
     "data": {
      "text/html": [
       "<table>\n",
       "<caption>A tibble: 6 × 60</caption>\n",
       "<thead>\n",
       "\t<tr><th scope=col>country</th><th scope=col>iso2</th><th scope=col>iso3</th><th scope=col>year</th><th scope=col>new_sp_m014</th><th scope=col>new_sp_m1524</th><th scope=col>new_sp_m2534</th><th scope=col>new_sp_m3544</th><th scope=col>new_sp_m4554</th><th scope=col>new_sp_m5564</th><th scope=col>⋯</th><th scope=col>newrel_m4554</th><th scope=col>newrel_m5564</th><th scope=col>newrel_m65</th><th scope=col>newrel_f014</th><th scope=col>newrel_f1524</th><th scope=col>newrel_f2534</th><th scope=col>newrel_f3544</th><th scope=col>newrel_f4554</th><th scope=col>newrel_f5564</th><th scope=col>newrel_f65</th></tr>\n",
       "\t<tr><th scope=col>&lt;chr&gt;</th><th scope=col>&lt;chr&gt;</th><th scope=col>&lt;chr&gt;</th><th scope=col>&lt;int&gt;</th><th scope=col>&lt;int&gt;</th><th scope=col>&lt;int&gt;</th><th scope=col>&lt;int&gt;</th><th scope=col>&lt;int&gt;</th><th scope=col>&lt;int&gt;</th><th scope=col>&lt;int&gt;</th><th scope=col>⋯</th><th scope=col>&lt;int&gt;</th><th scope=col>&lt;int&gt;</th><th scope=col>&lt;int&gt;</th><th scope=col>&lt;int&gt;</th><th scope=col>&lt;int&gt;</th><th scope=col>&lt;int&gt;</th><th scope=col>&lt;int&gt;</th><th scope=col>&lt;int&gt;</th><th scope=col>&lt;int&gt;</th><th scope=col>&lt;int&gt;</th></tr>\n",
       "</thead>\n",
       "<tbody>\n",
       "\t<tr><td>Afghanistan</td><td>AF</td><td>AFG</td><td>1980</td><td>NA</td><td>NA</td><td>NA</td><td>NA</td><td>NA</td><td>NA</td><td>⋯</td><td>NA</td><td>NA</td><td>NA</td><td>NA</td><td>NA</td><td>NA</td><td>NA</td><td>NA</td><td>NA</td><td>NA</td></tr>\n",
       "\t<tr><td>Afghanistan</td><td>AF</td><td>AFG</td><td>1981</td><td>NA</td><td>NA</td><td>NA</td><td>NA</td><td>NA</td><td>NA</td><td>⋯</td><td>NA</td><td>NA</td><td>NA</td><td>NA</td><td>NA</td><td>NA</td><td>NA</td><td>NA</td><td>NA</td><td>NA</td></tr>\n",
       "\t<tr><td>Afghanistan</td><td>AF</td><td>AFG</td><td>1982</td><td>NA</td><td>NA</td><td>NA</td><td>NA</td><td>NA</td><td>NA</td><td>⋯</td><td>NA</td><td>NA</td><td>NA</td><td>NA</td><td>NA</td><td>NA</td><td>NA</td><td>NA</td><td>NA</td><td>NA</td></tr>\n",
       "\t<tr><td>Afghanistan</td><td>AF</td><td>AFG</td><td>1983</td><td>NA</td><td>NA</td><td>NA</td><td>NA</td><td>NA</td><td>NA</td><td>⋯</td><td>NA</td><td>NA</td><td>NA</td><td>NA</td><td>NA</td><td>NA</td><td>NA</td><td>NA</td><td>NA</td><td>NA</td></tr>\n",
       "\t<tr><td>Afghanistan</td><td>AF</td><td>AFG</td><td>1984</td><td>NA</td><td>NA</td><td>NA</td><td>NA</td><td>NA</td><td>NA</td><td>⋯</td><td>NA</td><td>NA</td><td>NA</td><td>NA</td><td>NA</td><td>NA</td><td>NA</td><td>NA</td><td>NA</td><td>NA</td></tr>\n",
       "\t<tr><td>Afghanistan</td><td>AF</td><td>AFG</td><td>1985</td><td>NA</td><td>NA</td><td>NA</td><td>NA</td><td>NA</td><td>NA</td><td>⋯</td><td>NA</td><td>NA</td><td>NA</td><td>NA</td><td>NA</td><td>NA</td><td>NA</td><td>NA</td><td>NA</td><td>NA</td></tr>\n",
       "</tbody>\n",
       "</table>\n"
      ],
      "text/latex": [
       "A tibble: 6 × 60\n",
       "\\begin{tabular}{lllllllllllllllllllll}\n",
       " country & iso2 & iso3 & year & new\\_sp\\_m014 & new\\_sp\\_m1524 & new\\_sp\\_m2534 & new\\_sp\\_m3544 & new\\_sp\\_m4554 & new\\_sp\\_m5564 & ⋯ & newrel\\_m4554 & newrel\\_m5564 & newrel\\_m65 & newrel\\_f014 & newrel\\_f1524 & newrel\\_f2534 & newrel\\_f3544 & newrel\\_f4554 & newrel\\_f5564 & newrel\\_f65\\\\\n",
       " <chr> & <chr> & <chr> & <int> & <int> & <int> & <int> & <int> & <int> & <int> & ⋯ & <int> & <int> & <int> & <int> & <int> & <int> & <int> & <int> & <int> & <int>\\\\\n",
       "\\hline\n",
       "\t Afghanistan & AF & AFG & 1980 & NA & NA & NA & NA & NA & NA & ⋯ & NA & NA & NA & NA & NA & NA & NA & NA & NA & NA\\\\\n",
       "\t Afghanistan & AF & AFG & 1981 & NA & NA & NA & NA & NA & NA & ⋯ & NA & NA & NA & NA & NA & NA & NA & NA & NA & NA\\\\\n",
       "\t Afghanistan & AF & AFG & 1982 & NA & NA & NA & NA & NA & NA & ⋯ & NA & NA & NA & NA & NA & NA & NA & NA & NA & NA\\\\\n",
       "\t Afghanistan & AF & AFG & 1983 & NA & NA & NA & NA & NA & NA & ⋯ & NA & NA & NA & NA & NA & NA & NA & NA & NA & NA\\\\\n",
       "\t Afghanistan & AF & AFG & 1984 & NA & NA & NA & NA & NA & NA & ⋯ & NA & NA & NA & NA & NA & NA & NA & NA & NA & NA\\\\\n",
       "\t Afghanistan & AF & AFG & 1985 & NA & NA & NA & NA & NA & NA & ⋯ & NA & NA & NA & NA & NA & NA & NA & NA & NA & NA\\\\\n",
       "\\end{tabular}\n"
      ],
      "text/markdown": [
       "\n",
       "A tibble: 6 × 60\n",
       "\n",
       "| country &lt;chr&gt; | iso2 &lt;chr&gt; | iso3 &lt;chr&gt; | year &lt;int&gt; | new_sp_m014 &lt;int&gt; | new_sp_m1524 &lt;int&gt; | new_sp_m2534 &lt;int&gt; | new_sp_m3544 &lt;int&gt; | new_sp_m4554 &lt;int&gt; | new_sp_m5564 &lt;int&gt; | ⋯ ⋯ | newrel_m4554 &lt;int&gt; | newrel_m5564 &lt;int&gt; | newrel_m65 &lt;int&gt; | newrel_f014 &lt;int&gt; | newrel_f1524 &lt;int&gt; | newrel_f2534 &lt;int&gt; | newrel_f3544 &lt;int&gt; | newrel_f4554 &lt;int&gt; | newrel_f5564 &lt;int&gt; | newrel_f65 &lt;int&gt; |\n",
       "|---|---|---|---|---|---|---|---|---|---|---|---|---|---|---|---|---|---|---|---|---|\n",
       "| Afghanistan | AF | AFG | 1980 | NA | NA | NA | NA | NA | NA | ⋯ | NA | NA | NA | NA | NA | NA | NA | NA | NA | NA |\n",
       "| Afghanistan | AF | AFG | 1981 | NA | NA | NA | NA | NA | NA | ⋯ | NA | NA | NA | NA | NA | NA | NA | NA | NA | NA |\n",
       "| Afghanistan | AF | AFG | 1982 | NA | NA | NA | NA | NA | NA | ⋯ | NA | NA | NA | NA | NA | NA | NA | NA | NA | NA |\n",
       "| Afghanistan | AF | AFG | 1983 | NA | NA | NA | NA | NA | NA | ⋯ | NA | NA | NA | NA | NA | NA | NA | NA | NA | NA |\n",
       "| Afghanistan | AF | AFG | 1984 | NA | NA | NA | NA | NA | NA | ⋯ | NA | NA | NA | NA | NA | NA | NA | NA | NA | NA |\n",
       "| Afghanistan | AF | AFG | 1985 | NA | NA | NA | NA | NA | NA | ⋯ | NA | NA | NA | NA | NA | NA | NA | NA | NA | NA |\n",
       "\n"
      ],
      "text/plain": [
       "  country     iso2 iso3 year new_sp_m014 new_sp_m1524 new_sp_m2534 new_sp_m3544\n",
       "1 Afghanistan AF   AFG  1980 NA          NA           NA           NA          \n",
       "2 Afghanistan AF   AFG  1981 NA          NA           NA           NA          \n",
       "3 Afghanistan AF   AFG  1982 NA          NA           NA           NA          \n",
       "4 Afghanistan AF   AFG  1983 NA          NA           NA           NA          \n",
       "5 Afghanistan AF   AFG  1984 NA          NA           NA           NA          \n",
       "6 Afghanistan AF   AFG  1985 NA          NA           NA           NA          \n",
       "  new_sp_m4554 new_sp_m5564 ⋯ newrel_m4554 newrel_m5564 newrel_m65 newrel_f014\n",
       "1 NA           NA           ⋯ NA           NA           NA         NA         \n",
       "2 NA           NA           ⋯ NA           NA           NA         NA         \n",
       "3 NA           NA           ⋯ NA           NA           NA         NA         \n",
       "4 NA           NA           ⋯ NA           NA           NA         NA         \n",
       "5 NA           NA           ⋯ NA           NA           NA         NA         \n",
       "6 NA           NA           ⋯ NA           NA           NA         NA         \n",
       "  newrel_f1524 newrel_f2534 newrel_f3544 newrel_f4554 newrel_f5564 newrel_f65\n",
       "1 NA           NA           NA           NA           NA           NA        \n",
       "2 NA           NA           NA           NA           NA           NA        \n",
       "3 NA           NA           NA           NA           NA           NA        \n",
       "4 NA           NA           NA           NA           NA           NA        \n",
       "5 NA           NA           NA           NA           NA           NA        \n",
       "6 NA           NA           NA           NA           NA           NA        "
      ]
     },
     "metadata": {},
     "output_type": "display_data"
    }
   ],
   "source": [
    "who %>% head()"
   ]
  },
  {
   "cell_type": "code",
   "execution_count": 70,
   "metadata": {},
   "outputs": [
    {
     "data": {
      "text/html": [
       "<table>\n",
       "<caption>A tibble: 6 × 6</caption>\n",
       "<thead>\n",
       "\t<tr><th scope=col>country</th><th scope=col>iso2</th><th scope=col>iso3</th><th scope=col>year</th><th scope=col>key</th><th scope=col>cases</th></tr>\n",
       "\t<tr><th scope=col>&lt;chr&gt;</th><th scope=col>&lt;chr&gt;</th><th scope=col>&lt;chr&gt;</th><th scope=col>&lt;int&gt;</th><th scope=col>&lt;chr&gt;</th><th scope=col>&lt;int&gt;</th></tr>\n",
       "</thead>\n",
       "<tbody>\n",
       "\t<tr><td>Afghanistan</td><td>AF</td><td>AFG</td><td>1997</td><td>new_sp_m014 </td><td> 0</td></tr>\n",
       "\t<tr><td>Afghanistan</td><td>AF</td><td>AFG</td><td>1997</td><td>new_sp_m1524</td><td>10</td></tr>\n",
       "\t<tr><td>Afghanistan</td><td>AF</td><td>AFG</td><td>1997</td><td>new_sp_m2534</td><td> 6</td></tr>\n",
       "\t<tr><td>Afghanistan</td><td>AF</td><td>AFG</td><td>1997</td><td>new_sp_m3544</td><td> 3</td></tr>\n",
       "\t<tr><td>Afghanistan</td><td>AF</td><td>AFG</td><td>1997</td><td>new_sp_m4554</td><td> 5</td></tr>\n",
       "\t<tr><td>Afghanistan</td><td>AF</td><td>AFG</td><td>1997</td><td>new_sp_m5564</td><td> 2</td></tr>\n",
       "</tbody>\n",
       "</table>\n"
      ],
      "text/latex": [
       "A tibble: 6 × 6\n",
       "\\begin{tabular}{llllll}\n",
       " country & iso2 & iso3 & year & key & cases\\\\\n",
       " <chr> & <chr> & <chr> & <int> & <chr> & <int>\\\\\n",
       "\\hline\n",
       "\t Afghanistan & AF & AFG & 1997 & new\\_sp\\_m014  &  0\\\\\n",
       "\t Afghanistan & AF & AFG & 1997 & new\\_sp\\_m1524 & 10\\\\\n",
       "\t Afghanistan & AF & AFG & 1997 & new\\_sp\\_m2534 &  6\\\\\n",
       "\t Afghanistan & AF & AFG & 1997 & new\\_sp\\_m3544 &  3\\\\\n",
       "\t Afghanistan & AF & AFG & 1997 & new\\_sp\\_m4554 &  5\\\\\n",
       "\t Afghanistan & AF & AFG & 1997 & new\\_sp\\_m5564 &  2\\\\\n",
       "\\end{tabular}\n"
      ],
      "text/markdown": [
       "\n",
       "A tibble: 6 × 6\n",
       "\n",
       "| country &lt;chr&gt; | iso2 &lt;chr&gt; | iso3 &lt;chr&gt; | year &lt;int&gt; | key &lt;chr&gt; | cases &lt;int&gt; |\n",
       "|---|---|---|---|---|---|\n",
       "| Afghanistan | AF | AFG | 1997 | new_sp_m014  |  0 |\n",
       "| Afghanistan | AF | AFG | 1997 | new_sp_m1524 | 10 |\n",
       "| Afghanistan | AF | AFG | 1997 | new_sp_m2534 |  6 |\n",
       "| Afghanistan | AF | AFG | 1997 | new_sp_m3544 |  3 |\n",
       "| Afghanistan | AF | AFG | 1997 | new_sp_m4554 |  5 |\n",
       "| Afghanistan | AF | AFG | 1997 | new_sp_m5564 |  2 |\n",
       "\n"
      ],
      "text/plain": [
       "  country     iso2 iso3 year key          cases\n",
       "1 Afghanistan AF   AFG  1997 new_sp_m014   0   \n",
       "2 Afghanistan AF   AFG  1997 new_sp_m1524 10   \n",
       "3 Afghanistan AF   AFG  1997 new_sp_m2534  6   \n",
       "4 Afghanistan AF   AFG  1997 new_sp_m3544  3   \n",
       "5 Afghanistan AF   AFG  1997 new_sp_m4554  5   \n",
       "6 Afghanistan AF   AFG  1997 new_sp_m5564  2   "
      ]
     },
     "metadata": {},
     "output_type": "display_data"
    }
   ],
   "source": [
    "(who1 <- who %>%\n",
    "    pivot_longer('new_sp_m014':'newrel_f65', \n",
    "                 names_to = 'key', \n",
    "                 values_to = 'cases',\n",
    "                 values_drop_na = TRUE)) %>%\n",
    "    head()\n"
   ]
  },
  {
   "cell_type": "code",
   "execution_count": 60,
   "metadata": {},
   "outputs": [
    {
     "data": {
      "text/html": [
       "<table>\n",
       "<caption>A tibble: 6 × 2</caption>\n",
       "<thead>\n",
       "\t<tr><th scope=col>key</th><th scope=col>n</th></tr>\n",
       "\t<tr><th scope=col>&lt;chr&gt;</th><th scope=col>&lt;int&gt;</th></tr>\n",
       "</thead>\n",
       "<tbody>\n",
       "\t<tr><td>new_ep_f014 </td><td>1032</td></tr>\n",
       "\t<tr><td>new_ep_f1524</td><td>1021</td></tr>\n",
       "\t<tr><td>new_ep_f2534</td><td>1021</td></tr>\n",
       "\t<tr><td>new_ep_f3544</td><td>1021</td></tr>\n",
       "\t<tr><td>new_ep_f4554</td><td>1017</td></tr>\n",
       "\t<tr><td>new_ep_f5564</td><td>1017</td></tr>\n",
       "</tbody>\n",
       "</table>\n"
      ],
      "text/latex": [
       "A tibble: 6 × 2\n",
       "\\begin{tabular}{ll}\n",
       " key & n\\\\\n",
       " <chr> & <int>\\\\\n",
       "\\hline\n",
       "\t new\\_ep\\_f014  & 1032\\\\\n",
       "\t new\\_ep\\_f1524 & 1021\\\\\n",
       "\t new\\_ep\\_f2534 & 1021\\\\\n",
       "\t new\\_ep\\_f3544 & 1021\\\\\n",
       "\t new\\_ep\\_f4554 & 1017\\\\\n",
       "\t new\\_ep\\_f5564 & 1017\\\\\n",
       "\\end{tabular}\n"
      ],
      "text/markdown": [
       "\n",
       "A tibble: 6 × 2\n",
       "\n",
       "| key &lt;chr&gt; | n &lt;int&gt; |\n",
       "|---|---|\n",
       "| new_ep_f014  | 1032 |\n",
       "| new_ep_f1524 | 1021 |\n",
       "| new_ep_f2534 | 1021 |\n",
       "| new_ep_f3544 | 1021 |\n",
       "| new_ep_f4554 | 1017 |\n",
       "| new_ep_f5564 | 1017 |\n",
       "\n"
      ],
      "text/plain": [
       "  key          n   \n",
       "1 new_ep_f014  1032\n",
       "2 new_ep_f1524 1021\n",
       "3 new_ep_f2534 1021\n",
       "4 new_ep_f3544 1021\n",
       "5 new_ep_f4554 1017\n",
       "6 new_ep_f5564 1017"
      ]
     },
     "metadata": {},
     "output_type": "display_data"
    }
   ],
   "source": [
    "who1 %>% \n",
    "    count(key) %>% # count is more like sum() in python\n",
    "    head()"
   ]
  },
  {
   "cell_type": "code",
   "execution_count": 71,
   "metadata": {},
   "outputs": [
    {
     "data": {
      "text/html": [
       "<table>\n",
       "<caption>A tibble: 3 × 7</caption>\n",
       "<thead>\n",
       "\t<tr><th scope=col>country</th><th scope=col>iso2</th><th scope=col>iso3</th><th scope=col>year</th><th scope=col>key</th><th scope=col>cases</th><th scope=col>names_from</th></tr>\n",
       "\t<tr><th scope=col>&lt;chr&gt;</th><th scope=col>&lt;chr&gt;</th><th scope=col>&lt;chr&gt;</th><th scope=col>&lt;int&gt;</th><th scope=col>&lt;chr&gt;</th><th scope=col>&lt;int&gt;</th><th scope=col>&lt;chr&gt;</th></tr>\n",
       "</thead>\n",
       "<tbody>\n",
       "\t<tr><td>Zimbabwe</td><td>ZW</td><td>ZWE</td><td>2013</td><td>newrel_f4554</td><td>1453</td><td>new_rel_f4554</td></tr>\n",
       "\t<tr><td>Zimbabwe</td><td>ZW</td><td>ZWE</td><td>2013</td><td>newrel_f5564</td><td> 811</td><td>new_rel_f5564</td></tr>\n",
       "\t<tr><td>Zimbabwe</td><td>ZW</td><td>ZWE</td><td>2013</td><td>newrel_f65  </td><td> 725</td><td>new_rel_f65  </td></tr>\n",
       "</tbody>\n",
       "</table>\n"
      ],
      "text/latex": [
       "A tibble: 3 × 7\n",
       "\\begin{tabular}{lllllll}\n",
       " country & iso2 & iso3 & year & key & cases & names\\_from\\\\\n",
       " <chr> & <chr> & <chr> & <int> & <chr> & <int> & <chr>\\\\\n",
       "\\hline\n",
       "\t Zimbabwe & ZW & ZWE & 2013 & newrel\\_f4554 & 1453 & new\\_rel\\_f4554\\\\\n",
       "\t Zimbabwe & ZW & ZWE & 2013 & newrel\\_f5564 &  811 & new\\_rel\\_f5564\\\\\n",
       "\t Zimbabwe & ZW & ZWE & 2013 & newrel\\_f65   &  725 & new\\_rel\\_f65  \\\\\n",
       "\\end{tabular}\n"
      ],
      "text/markdown": [
       "\n",
       "A tibble: 3 × 7\n",
       "\n",
       "| country &lt;chr&gt; | iso2 &lt;chr&gt; | iso3 &lt;chr&gt; | year &lt;int&gt; | key &lt;chr&gt; | cases &lt;int&gt; | names_from &lt;chr&gt; |\n",
       "|---|---|---|---|---|---|---|\n",
       "| Zimbabwe | ZW | ZWE | 2013 | newrel_f4554 | 1453 | new_rel_f4554 |\n",
       "| Zimbabwe | ZW | ZWE | 2013 | newrel_f5564 |  811 | new_rel_f5564 |\n",
       "| Zimbabwe | ZW | ZWE | 2013 | newrel_f65   |  725 | new_rel_f65   |\n",
       "\n"
      ],
      "text/plain": [
       "  country  iso2 iso3 year key          cases names_from   \n",
       "1 Zimbabwe ZW   ZWE  2013 newrel_f4554 1453  new_rel_f4554\n",
       "2 Zimbabwe ZW   ZWE  2013 newrel_f5564  811  new_rel_f5564\n",
       "3 Zimbabwe ZW   ZWE  2013 newrel_f65    725  new_rel_f65  "
      ]
     },
     "metadata": {},
     "output_type": "display_data"
    },
    {
     "data": {
      "text/html": [
       "<table>\n",
       "<caption>A tibble: 3 × 7</caption>\n",
       "<thead>\n",
       "\t<tr><th scope=col>country</th><th scope=col>iso2</th><th scope=col>iso3</th><th scope=col>year</th><th scope=col>key</th><th scope=col>cases</th><th scope=col>names_from</th></tr>\n",
       "\t<tr><th scope=col>&lt;chr&gt;</th><th scope=col>&lt;chr&gt;</th><th scope=col>&lt;chr&gt;</th><th scope=col>&lt;int&gt;</th><th scope=col>&lt;chr&gt;</th><th scope=col>&lt;int&gt;</th><th scope=col>&lt;chr&gt;</th></tr>\n",
       "</thead>\n",
       "<tbody>\n",
       "\t<tr><td>Zimbabwe</td><td>ZW</td><td>ZWE</td><td>2013</td><td>newrel_f4554</td><td>1453</td><td>new_rel_f4554</td></tr>\n",
       "\t<tr><td>Zimbabwe</td><td>ZW</td><td>ZWE</td><td>2013</td><td>newrel_f5564</td><td> 811</td><td>new_rel_f5564</td></tr>\n",
       "\t<tr><td>Zimbabwe</td><td>ZW</td><td>ZWE</td><td>2013</td><td>newrel_f65  </td><td> 725</td><td>new_rel_f65  </td></tr>\n",
       "</tbody>\n",
       "</table>\n"
      ],
      "text/latex": [
       "A tibble: 3 × 7\n",
       "\\begin{tabular}{lllllll}\n",
       " country & iso2 & iso3 & year & key & cases & names\\_from\\\\\n",
       " <chr> & <chr> & <chr> & <int> & <chr> & <int> & <chr>\\\\\n",
       "\\hline\n",
       "\t Zimbabwe & ZW & ZWE & 2013 & newrel\\_f4554 & 1453 & new\\_rel\\_f4554\\\\\n",
       "\t Zimbabwe & ZW & ZWE & 2013 & newrel\\_f5564 &  811 & new\\_rel\\_f5564\\\\\n",
       "\t Zimbabwe & ZW & ZWE & 2013 & newrel\\_f65   &  725 & new\\_rel\\_f65  \\\\\n",
       "\\end{tabular}\n"
      ],
      "text/markdown": [
       "\n",
       "A tibble: 3 × 7\n",
       "\n",
       "| country &lt;chr&gt; | iso2 &lt;chr&gt; | iso3 &lt;chr&gt; | year &lt;int&gt; | key &lt;chr&gt; | cases &lt;int&gt; | names_from &lt;chr&gt; |\n",
       "|---|---|---|---|---|---|---|\n",
       "| Zimbabwe | ZW | ZWE | 2013 | newrel_f4554 | 1453 | new_rel_f4554 |\n",
       "| Zimbabwe | ZW | ZWE | 2013 | newrel_f5564 |  811 | new_rel_f5564 |\n",
       "| Zimbabwe | ZW | ZWE | 2013 | newrel_f65   |  725 | new_rel_f65   |\n",
       "\n"
      ],
      "text/plain": [
       "  country  iso2 iso3 year key          cases names_from   \n",
       "1 Zimbabwe ZW   ZWE  2013 newrel_f4554 1453  new_rel_f4554\n",
       "2 Zimbabwe ZW   ZWE  2013 newrel_f5564  811  new_rel_f5564\n",
       "3 Zimbabwe ZW   ZWE  2013 newrel_f65    725  new_rel_f65  "
      ]
     },
     "metadata": {},
     "output_type": "display_data"
    }
   ],
   "source": [
    "# str_replace() vs sub() vs gsub()\n",
    "# variable order is different. str_replace() and sub() replace the 1st occurance, whereas gsub() replaces all.\n",
    "\n",
    "(who2 <- who1 %>% \n",
    "  mutate(names_from = stringr::str_replace(key, \"newrel\", \"new_rel\"))) %>%\n",
    "    tail(3)\n",
    "\n",
    "(who2 <- who1 %>% \n",
    "  mutate(names_from = gsub(\"newrel\", \"new_rel\", key))) %>%\n",
    "    tail(3)"
   ]
  },
  {
   "cell_type": "code",
   "execution_count": 73,
   "metadata": {},
   "outputs": [
    {
     "name": "stderr",
     "output_type": "stream",
     "text": [
      "Warning message:\n",
      "“Expected 3 pieces. Missing pieces filled with `NA` in 2580 rows [243, 244, 679, 680, 681, 682, 683, 684, 685, 686, 687, 688, 689, 690, 691, 692, 903, 904, 905, 906, ...].”\n"
     ]
    },
    {
     "data": {
      "text/html": [
       "<table>\n",
       "<caption>A tibble: 6 × 9</caption>\n",
       "<thead>\n",
       "\t<tr><th scope=col>country</th><th scope=col>iso2</th><th scope=col>iso3</th><th scope=col>year</th><th scope=col>new</th><th scope=col>type</th><th scope=col>sexage</th><th scope=col>cases</th><th scope=col>names_from</th></tr>\n",
       "\t<tr><th scope=col>&lt;chr&gt;</th><th scope=col>&lt;chr&gt;</th><th scope=col>&lt;chr&gt;</th><th scope=col>&lt;int&gt;</th><th scope=col>&lt;chr&gt;</th><th scope=col>&lt;chr&gt;</th><th scope=col>&lt;chr&gt;</th><th scope=col>&lt;int&gt;</th><th scope=col>&lt;chr&gt;</th></tr>\n",
       "</thead>\n",
       "<tbody>\n",
       "\t<tr><td>Afghanistan</td><td>AF</td><td>AFG</td><td>1997</td><td>new</td><td>sp</td><td>m014 </td><td> 0</td><td>new_sp_m014 </td></tr>\n",
       "\t<tr><td>Afghanistan</td><td>AF</td><td>AFG</td><td>1997</td><td>new</td><td>sp</td><td>m1524</td><td>10</td><td>new_sp_m1524</td></tr>\n",
       "\t<tr><td>Afghanistan</td><td>AF</td><td>AFG</td><td>1997</td><td>new</td><td>sp</td><td>m2534</td><td> 6</td><td>new_sp_m2534</td></tr>\n",
       "\t<tr><td>Afghanistan</td><td>AF</td><td>AFG</td><td>1997</td><td>new</td><td>sp</td><td>m3544</td><td> 3</td><td>new_sp_m3544</td></tr>\n",
       "\t<tr><td>Afghanistan</td><td>AF</td><td>AFG</td><td>1997</td><td>new</td><td>sp</td><td>m4554</td><td> 5</td><td>new_sp_m4554</td></tr>\n",
       "\t<tr><td>Afghanistan</td><td>AF</td><td>AFG</td><td>1997</td><td>new</td><td>sp</td><td>m5564</td><td> 2</td><td>new_sp_m5564</td></tr>\n",
       "</tbody>\n",
       "</table>\n"
      ],
      "text/latex": [
       "A tibble: 6 × 9\n",
       "\\begin{tabular}{lllllllll}\n",
       " country & iso2 & iso3 & year & new & type & sexage & cases & names\\_from\\\\\n",
       " <chr> & <chr> & <chr> & <int> & <chr> & <chr> & <chr> & <int> & <chr>\\\\\n",
       "\\hline\n",
       "\t Afghanistan & AF & AFG & 1997 & new & sp & m014  &  0 & new\\_sp\\_m014 \\\\\n",
       "\t Afghanistan & AF & AFG & 1997 & new & sp & m1524 & 10 & new\\_sp\\_m1524\\\\\n",
       "\t Afghanistan & AF & AFG & 1997 & new & sp & m2534 &  6 & new\\_sp\\_m2534\\\\\n",
       "\t Afghanistan & AF & AFG & 1997 & new & sp & m3544 &  3 & new\\_sp\\_m3544\\\\\n",
       "\t Afghanistan & AF & AFG & 1997 & new & sp & m4554 &  5 & new\\_sp\\_m4554\\\\\n",
       "\t Afghanistan & AF & AFG & 1997 & new & sp & m5564 &  2 & new\\_sp\\_m5564\\\\\n",
       "\\end{tabular}\n"
      ],
      "text/markdown": [
       "\n",
       "A tibble: 6 × 9\n",
       "\n",
       "| country &lt;chr&gt; | iso2 &lt;chr&gt; | iso3 &lt;chr&gt; | year &lt;int&gt; | new &lt;chr&gt; | type &lt;chr&gt; | sexage &lt;chr&gt; | cases &lt;int&gt; | names_from &lt;chr&gt; |\n",
       "|---|---|---|---|---|---|---|---|---|\n",
       "| Afghanistan | AF | AFG | 1997 | new | sp | m014  |  0 | new_sp_m014  |\n",
       "| Afghanistan | AF | AFG | 1997 | new | sp | m1524 | 10 | new_sp_m1524 |\n",
       "| Afghanistan | AF | AFG | 1997 | new | sp | m2534 |  6 | new_sp_m2534 |\n",
       "| Afghanistan | AF | AFG | 1997 | new | sp | m3544 |  3 | new_sp_m3544 |\n",
       "| Afghanistan | AF | AFG | 1997 | new | sp | m4554 |  5 | new_sp_m4554 |\n",
       "| Afghanistan | AF | AFG | 1997 | new | sp | m5564 |  2 | new_sp_m5564 |\n",
       "\n"
      ],
      "text/plain": [
       "  country     iso2 iso3 year new type sexage cases names_from  \n",
       "1 Afghanistan AF   AFG  1997 new sp   m014    0    new_sp_m014 \n",
       "2 Afghanistan AF   AFG  1997 new sp   m1524  10    new_sp_m1524\n",
       "3 Afghanistan AF   AFG  1997 new sp   m2534   6    new_sp_m2534\n",
       "4 Afghanistan AF   AFG  1997 new sp   m3544   3    new_sp_m3544\n",
       "5 Afghanistan AF   AFG  1997 new sp   m4554   5    new_sp_m4554\n",
       "6 Afghanistan AF   AFG  1997 new sp   m5564   2    new_sp_m5564"
      ]
     },
     "metadata": {},
     "output_type": "display_data"
    }
   ],
   "source": [
    "(who3 <- who2 %>% \n",
    "  separate(key, c(\"new\", \"type\", \"sexage\"), sep = \"_\")) %>%\n",
    "    head()"
   ]
  },
  {
   "cell_type": "code",
   "execution_count": 79,
   "metadata": {},
   "outputs": [
    {
     "data": {
      "text/html": [
       "<table>\n",
       "<caption>A tibble: 6 × 10</caption>\n",
       "<thead>\n",
       "\t<tr><th scope=col>country</th><th scope=col>iso2</th><th scope=col>iso3</th><th scope=col>year</th><th scope=col>new</th><th scope=col>type</th><th scope=col>sex</th><th scope=col>age_group</th><th scope=col>cases</th><th scope=col>names_from</th></tr>\n",
       "\t<tr><th scope=col>&lt;chr&gt;</th><th scope=col>&lt;chr&gt;</th><th scope=col>&lt;chr&gt;</th><th scope=col>&lt;int&gt;</th><th scope=col>&lt;chr&gt;</th><th scope=col>&lt;chr&gt;</th><th scope=col>&lt;chr&gt;</th><th scope=col>&lt;chr&gt;</th><th scope=col>&lt;int&gt;</th><th scope=col>&lt;chr&gt;</th></tr>\n",
       "</thead>\n",
       "<tbody>\n",
       "\t<tr><td>Afghanistan</td><td>AF</td><td>AFG</td><td>1997</td><td>new</td><td>sp</td><td>m</td><td>0-14 </td><td> 0</td><td>new_sp_m014 </td></tr>\n",
       "\t<tr><td>Afghanistan</td><td>AF</td><td>AFG</td><td>1997</td><td>new</td><td>sp</td><td>m</td><td>15-24</td><td>10</td><td>new_sp_m1524</td></tr>\n",
       "\t<tr><td>Afghanistan</td><td>AF</td><td>AFG</td><td>1997</td><td>new</td><td>sp</td><td>m</td><td>25-34</td><td> 6</td><td>new_sp_m2534</td></tr>\n",
       "\t<tr><td>Afghanistan</td><td>AF</td><td>AFG</td><td>1997</td><td>new</td><td>sp</td><td>m</td><td>35-44</td><td> 3</td><td>new_sp_m3544</td></tr>\n",
       "\t<tr><td>Afghanistan</td><td>AF</td><td>AFG</td><td>1997</td><td>new</td><td>sp</td><td>m</td><td>45-54</td><td> 5</td><td>new_sp_m4554</td></tr>\n",
       "\t<tr><td>Afghanistan</td><td>AF</td><td>AFG</td><td>1997</td><td>new</td><td>sp</td><td>m</td><td>55-64</td><td> 2</td><td>new_sp_m5564</td></tr>\n",
       "</tbody>\n",
       "</table>\n"
      ],
      "text/latex": [
       "A tibble: 6 × 10\n",
       "\\begin{tabular}{llllllllll}\n",
       " country & iso2 & iso3 & year & new & type & sex & age\\_group & cases & names\\_from\\\\\n",
       " <chr> & <chr> & <chr> & <int> & <chr> & <chr> & <chr> & <chr> & <int> & <chr>\\\\\n",
       "\\hline\n",
       "\t Afghanistan & AF & AFG & 1997 & new & sp & m & 0-14  &  0 & new\\_sp\\_m014 \\\\\n",
       "\t Afghanistan & AF & AFG & 1997 & new & sp & m & 15-24 & 10 & new\\_sp\\_m1524\\\\\n",
       "\t Afghanistan & AF & AFG & 1997 & new & sp & m & 25-34 &  6 & new\\_sp\\_m2534\\\\\n",
       "\t Afghanistan & AF & AFG & 1997 & new & sp & m & 35-44 &  3 & new\\_sp\\_m3544\\\\\n",
       "\t Afghanistan & AF & AFG & 1997 & new & sp & m & 45-54 &  5 & new\\_sp\\_m4554\\\\\n",
       "\t Afghanistan & AF & AFG & 1997 & new & sp & m & 55-64 &  2 & new\\_sp\\_m5564\\\\\n",
       "\\end{tabular}\n"
      ],
      "text/markdown": [
       "\n",
       "A tibble: 6 × 10\n",
       "\n",
       "| country &lt;chr&gt; | iso2 &lt;chr&gt; | iso3 &lt;chr&gt; | year &lt;int&gt; | new &lt;chr&gt; | type &lt;chr&gt; | sex &lt;chr&gt; | age_group &lt;chr&gt; | cases &lt;int&gt; | names_from &lt;chr&gt; |\n",
       "|---|---|---|---|---|---|---|---|---|---|\n",
       "| Afghanistan | AF | AFG | 1997 | new | sp | m | 0-14  |  0 | new_sp_m014  |\n",
       "| Afghanistan | AF | AFG | 1997 | new | sp | m | 15-24 | 10 | new_sp_m1524 |\n",
       "| Afghanistan | AF | AFG | 1997 | new | sp | m | 25-34 |  6 | new_sp_m2534 |\n",
       "| Afghanistan | AF | AFG | 1997 | new | sp | m | 35-44 |  3 | new_sp_m3544 |\n",
       "| Afghanistan | AF | AFG | 1997 | new | sp | m | 45-54 |  5 | new_sp_m4554 |\n",
       "| Afghanistan | AF | AFG | 1997 | new | sp | m | 55-64 |  2 | new_sp_m5564 |\n",
       "\n"
      ],
      "text/plain": [
       "  country     iso2 iso3 year new type sex age_group cases names_from  \n",
       "1 Afghanistan AF   AFG  1997 new sp   m   0-14       0    new_sp_m014 \n",
       "2 Afghanistan AF   AFG  1997 new sp   m   15-24     10    new_sp_m1524\n",
       "3 Afghanistan AF   AFG  1997 new sp   m   25-34      6    new_sp_m2534\n",
       "4 Afghanistan AF   AFG  1997 new sp   m   35-44      3    new_sp_m3544\n",
       "5 Afghanistan AF   AFG  1997 new sp   m   45-54      5    new_sp_m4554\n",
       "6 Afghanistan AF   AFG  1997 new sp   m   55-64      2    new_sp_m5564"
      ]
     },
     "metadata": {},
     "output_type": "display_data"
    }
   ],
   "source": [
    "(who4 <- who3 %>% \n",
    "  separate(sexage, c(\"sex\", \"age\"), sep = 1) %>%\n",
    "  separate(age, c(\"age_start\",\"age_end\"), sep = -2) %>%\n",
    "  unite(\"age_group\", \"age_start\":\"age_end\", sep = '-') )%>%\n",
    "    head()"
   ]
  },
  {
   "cell_type": "code",
   "execution_count": null,
   "metadata": {},
   "outputs": [],
   "source": []
  },
  {
   "cell_type": "code",
   "execution_count": null,
   "metadata": {},
   "outputs": [],
   "source": []
  },
  {
   "cell_type": "code",
   "execution_count": null,
   "metadata": {},
   "outputs": [],
   "source": []
  }
 ],
 "metadata": {
  "kernelspec": {
   "display_name": "R",
   "language": "R",
   "name": "ir"
  },
  "language_info": {
   "codemirror_mode": "r",
   "file_extension": ".r",
   "mimetype": "text/x-r-source",
   "name": "R",
   "pygments_lexer": "r",
   "version": "3.6.2"
  }
 },
 "nbformat": 4,
 "nbformat_minor": 4
}
